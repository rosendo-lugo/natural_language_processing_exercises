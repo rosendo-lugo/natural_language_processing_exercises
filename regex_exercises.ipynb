{
 "cells": [
  {
   "cell_type": "markdown",
   "id": "30dbddc4-4da1-45af-a338-4654817c718b",
   "metadata": {},
   "source": [
    "# Regular Expressions"
   ]
  },
  {
   "cell_type": "markdown",
   "id": "eb9490be-8563-4be1-b1bb-6d2851c1f23b",
   "metadata": {},
   "source": [
    "# Exercises\n",
    "Using the repo setup directions, setup a new local and remote repository named natural-language-processing-exercises. The local version of your repo should live inside of ~/codeup-data-science. This repo should be named natural-language-processing-exercises\n",
    "\n",
    "Save this work in your natural-language-processing-exercises repo. Then add, commit, and push your changes.\n",
    "\n",
    "Unless a specific file extension is specified, you may do your work either in a python script (.py) or a jupyter notebook (.ipynb).\n",
    "\n",
    "Do your work for this exercise in a file named regex_exercises."
   ]
  },
  {
   "cell_type": "markdown",
   "id": "6340e7fe-2ccb-4608-a47b-1e5cd44423ed",
   "metadata": {},
   "source": [
    "# Imports"
   ]
  },
  {
   "cell_type": "code",
   "execution_count": 5,
   "id": "1c71e1ae-a913-4fd2-a751-b6d195ea1d1b",
   "metadata": {},
   "outputs": [],
   "source": [
    "# standard imports\n",
    "import pandas as pd\n",
    "import numpy as np\n",
    "\n",
    "\n",
    "# basic regexes\n",
    "import re"
   ]
  },
  {
   "cell_type": "code",
   "execution_count": 15,
   "id": "4ab5bb0f-5739-4824-ab70-4a4eef253503",
   "metadata": {},
   "outputs": [],
   "source": [
    "sentence = 'abc 123745 1bc'"
   ]
  },
  {
   "cell_type": "code",
   "execution_count": 18,
   "id": "13bb7746-097a-4396-9fc9-4089b2dfaa13",
   "metadata": {},
   "outputs": [],
   "source": [
    "def show_all_matches(regexes, subject, re_length=6):\n",
    "    print('Sentence:')\n",
    "    print()\n",
    "    print('    {}'.format(subject))\n",
    "    print()\n",
    "    print(' regexp{} | matches'.format(' ' * (re_length - 6)))\n",
    "    print(' ------{} | -------'.format(' ' * (re_length - 6)))\n",
    "    for regexp in regexes:\n",
    "        fmt = ' {:<%d} | {!r}' % re_length\n",
    "        matches = re.findall(regexp, subject)\n",
    "        if len(matches) > 8:\n",
    "            matches = matches[:8] + ['...']\n",
    "        print(fmt.format(regexp, matches))"
   ]
  },
  {
   "cell_type": "code",
   "execution_count": 19,
   "id": "fbebd299-7303-41c1-886c-3ac93077e01f",
   "metadata": {
    "tags": []
   },
   "outputs": [
    {
     "name": "stdout",
     "output_type": "stream",
     "text": [
      "Sentence:\n",
      "\n",
      "    abc 123745 1bc\n",
      "\n",
      " regexp       | matches\n",
      " ------       | -------\n",
      " ^[aeiou\\s\\.] | ['a']\n"
     ]
    }
   ],
   "source": [
    "show_all_matches([\n",
    "    r'^[aeiou\\s\\.]', # any letter that's not a vowel\n",
    "], sentence, re_length=12)\n"
   ]
  },
  {
   "cell_type": "markdown",
   "id": "7e95bc38-ef2a-4f77-9a01-4c6970fd4016",
   "metadata": {},
   "source": [
    "## 1. Write a function named is_vowel. It should accept a string as input and use a regular expression to determine if the passed string is a vowel. While not explicity mentioned in the lesson, you can treat the result of re.search as a boolean value that indicates whether or not the regular expression matches the given string."
   ]
  },
  {
   "cell_type": "code",
   "execution_count": 230,
   "id": "56aad9a7-e5f6-4c1b-8f2d-cdd723c5c0db",
   "metadata": {},
   "outputs": [],
   "source": [
    "strings = 'a c'"
   ]
  },
  {
   "cell_type": "code",
   "execution_count": 231,
   "id": "cf71f73a-e6e4-409f-a460-855a5c8f514d",
   "metadata": {},
   "outputs": [],
   "source": [
    "def start_vowel(subject):\n",
    "    \"\"\"\n",
    "    match all words that start with a vowel\n",
    "    \"\"\"\n",
    "    regexp = r'^[aeiou\\s\\.]'\n",
    "\n",
    "    return re.findall(regexp, subject)"
   ]
  },
  {
   "cell_type": "code",
   "execution_count": 232,
   "id": "943885b3-37fb-4c45-9c21-4cb69ad01f88",
   "metadata": {},
   "outputs": [
    {
     "data": {
      "text/plain": [
       "['a']"
      ]
     },
     "execution_count": 232,
     "metadata": {},
     "output_type": "execute_result"
    }
   ],
   "source": [
    "start_vowel(strings)"
   ]
  },
  {
   "cell_type": "code",
   "execution_count": 233,
   "id": "3dbea7de-901e-4ed0-8cf9-f1117a00ad34",
   "metadata": {
    "tags": []
   },
   "outputs": [],
   "source": [
    "def find_all_vowel(subject):\n",
    "    \"\"\"\n",
    "    match all words that start with a vowel\n",
    "    \"\"\"\n",
    "    regexp = r'[aeiou]'\n",
    "\n",
    "    return re.findall(regexp, subject)"
   ]
  },
  {
   "cell_type": "code",
   "execution_count": 234,
   "id": "e425c140-d6a5-42c9-abda-fa9af2d11fc7",
   "metadata": {},
   "outputs": [
    {
     "data": {
      "text/plain": [
       "['a']"
      ]
     },
     "execution_count": 234,
     "metadata": {},
     "output_type": "execute_result"
    }
   ],
   "source": [
    "find_all_vowel(strings)"
   ]
  },
  {
   "cell_type": "code",
   "execution_count": 235,
   "id": "c9e2e8eb-c32d-4bfc-8422-6fae68b008b8",
   "metadata": {},
   "outputs": [],
   "source": [
    "strings = 'a c'"
   ]
  },
  {
   "cell_type": "code",
   "execution_count": 236,
   "id": "cc6592df-82c7-4c3f-b6bb-0612606cec2a",
   "metadata": {
    "tags": []
   },
   "outputs": [],
   "source": [
    "def is_vowel(subject):\n",
    "    \"\"\"\n",
    "    searches for a string with a single vowel\n",
    "    \n",
    "    Parameters:\n",
    "        strings\n",
    "    \n",
    "    Returns:\n",
    "        True or False\n",
    "    \"\"\"\n",
    "    regexp = (r'^\\b[aeiouAEIOU]\\b\\S')\n",
    "\n",
    "    return bool(re.search(regexp, subject))"
   ]
  },
  {
   "cell_type": "code",
   "execution_count": 237,
   "id": "2f31ee78-86fc-4d10-b55b-ada2182db93d",
   "metadata": {},
   "outputs": [
    {
     "data": {
      "text/plain": [
       "False"
      ]
     },
     "execution_count": 237,
     "metadata": {},
     "output_type": "execute_result"
    }
   ],
   "source": [
    "is_vowel(strings)"
   ]
  },
  {
   "cell_type": "markdown",
   "id": "bbf296b5-10b9-4be7-a006-232bb9dc4b57",
   "metadata": {},
   "source": [
    "## 2. Write a function named is_valid_username that accepts a string as input. A valid username starts with a lowercase letter, and only consists of lowercase letters, numbers, or the _ character. It should also be no longer than 32 characters. The function should return either True or False depending on whether the passed string is a valid username.\n",
    "\n",
    "\n",
    "> is_valid_username('aaaaaaaaaaaaaaaaaaaaaaaaaaaaaaaaa')\n",
    "False   \n",
    "> is_valid_username('codeup')\n",
    "True    \n",
    "> is_valid_username('Codeup')\n",
    "False    \n",
    "> is_valid_username('codeup123')\n",
    "True   \n",
    "> is_valid_username('1codeup')\n",
    "False"
   ]
  },
  {
   "cell_type": "code",
   "execution_count": 772,
   "id": "6dd3eea3-37f8-44a6-b64d-ad9e703f3cbc",
   "metadata": {},
   "outputs": [],
   "source": [
    "subject = 'codeup&'"
   ]
  },
  {
   "cell_type": "code",
   "execution_count": 773,
   "id": "075b8736-6ef5-45e1-952e-d3f7eda899f3",
   "metadata": {},
   "outputs": [],
   "source": [
    "def is_valid_username(subject):\n",
    "    \"\"\"\n",
    "    match the following parameters:\n",
    "    \n",
    "    - Starts with a lowercase\n",
    "    - Only consists of lowercase letters numbers or \"_\"\n",
    "    - No longer than 32 characters\n",
    "    \n",
    "    Returns:\n",
    "     True or False\n",
    "    \"\"\"\n",
    "    regexp = r'^[a-z][a-z0-9_]{0,31}$'\n",
    "\n",
    "    return bool(re.match(regexp, subject))"
   ]
  },
  {
   "cell_type": "code",
   "execution_count": 774,
   "id": "0dcb5bfa-3b3f-48e4-88e8-9cb331e5cdf2",
   "metadata": {},
   "outputs": [
    {
     "data": {
      "text/plain": [
       "False"
      ]
     },
     "execution_count": 774,
     "metadata": {},
     "output_type": "execute_result"
    }
   ],
   "source": [
    "is_valid_username(subject)"
   ]
  },
  {
   "cell_type": "markdown",
   "id": "9b211b29-84b0-47b3-8b50-c017223ae4e9",
   "metadata": {},
   "source": [
    "## 3. Write a regular expression to capture phone numbers. It should match all of the following:\n",
    "\n",
    "\n",
    "(210) 867 5309   \n",
    "+1 210.867.5309    \n",
    "867-5309   \n",
    "210-867-5309   "
   ]
  },
  {
   "cell_type": "code",
   "execution_count": null,
   "id": "8dc627ea-6e5b-455b-9a1b-2a27e354a17f",
   "metadata": {},
   "outputs": [],
   "source": []
  },
  {
   "cell_type": "markdown",
   "id": "d1c01a51-011b-4858-937c-4b5a6a44602e",
   "metadata": {},
   "source": [
    "### 4. Use regular expressions to convert the dates below to the standardized year-month-day format.\n",
    "\n",
    "\n",
    "02/04/19    \n",
    "02/05/19    \n",
    "02/06/19   \n",
    "02/07/19   \n",
    "02/08/19   \n",
    "02/09/19   \n",
    "02/10/19    "
   ]
  },
  {
   "cell_type": "code",
   "execution_count": null,
   "id": "b7edb50b-b29e-429e-9225-31f65b60a6a3",
   "metadata": {},
   "outputs": [],
   "source": []
  },
  {
   "cell_type": "markdown",
   "id": "985fad99-47ff-4d5f-b1f4-fbac70d962e1",
   "metadata": {},
   "source": [
    "## 5. Write a regex to extract the various parts of these logfile lines:\n",
    "\n",
    "GET /api/v1/sales?page=86 [16/Apr/2019:193452+0000] HTTP/1.1 {200} 510348 \"python-requests/2.21.0\" 97.105.19.58    \n",
    "\n",
    "POST /users_accounts/file-upload [16/Apr/2019:193452+0000] HTTP/1.1 {201} 42 \"User-Agent: Mozilla/5.0 (X11; Fedora; Fedora; Linux x86_64) AppleWebKit/537.36 (KHTML, like Gecko) Chrome/73.0.3683.86 Safari/537.36\" 97.105.19.58  \n",
    "\n",
    "GET /api/v1/items?page=3 [16/Apr/2019:193453+0000] HTTP/1.1 {429} 3561 \"python-requests/2.21.0\" 97.105.19.58     "
   ]
  },
  {
   "cell_type": "code",
   "execution_count": null,
   "id": "c8783cb9-5420-4043-bd72-3db21d7cbf28",
   "metadata": {},
   "outputs": [],
   "source": []
  }
 ],
 "metadata": {
  "kernelspec": {
   "display_name": "Python 3 (ipykernel)",
   "language": "python",
   "name": "python3"
  },
  "language_info": {
   "codemirror_mode": {
    "name": "ipython",
    "version": 3
   },
   "file_extension": ".py",
   "mimetype": "text/x-python",
   "name": "python",
   "nbconvert_exporter": "python",
   "pygments_lexer": "ipython3",
   "version": "3.9.13"
  }
 },
 "nbformat": 4,
 "nbformat_minor": 5
}
