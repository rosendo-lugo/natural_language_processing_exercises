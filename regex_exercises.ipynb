{
 "cells": [
  {
   "cell_type": "markdown",
   "id": "30dbddc4-4da1-45af-a338-4654817c718b",
   "metadata": {},
   "source": [
    "# Regular Expressions"
   ]
  },
  {
   "cell_type": "markdown",
   "id": "eb9490be-8563-4be1-b1bb-6d2851c1f23b",
   "metadata": {},
   "source": [
    "# Exercises\n",
    "Using the repo setup directions, setup a new local and remote repository named natural-language-processing-exercises. The local version of your repo should live inside of ~/codeup-data-science. This repo should be named natural-language-processing-exercises\n",
    "\n",
    "Save this work in your natural-language-processing-exercises repo. Then add, commit, and push your changes.\n",
    "\n",
    "Unless a specific file extension is specified, you may do your work either in a python script (.py) or a jupyter notebook (.ipynb).\n",
    "\n",
    "Do your work for this exercise in a file named regex_exercises."
   ]
  },
  {
   "cell_type": "markdown",
   "id": "6340e7fe-2ccb-4608-a47b-1e5cd44423ed",
   "metadata": {},
   "source": [
    "# Imports"
   ]
  },
  {
   "cell_type": "code",
   "execution_count": 111,
   "id": "1c71e1ae-a913-4fd2-a751-b6d195ea1d1b",
   "metadata": {},
   "outputs": [],
   "source": [
    "# standard imports\n",
    "import pandas as pd\n",
    "import numpy as np\n",
    "\n",
    "from datetime import datetime\n",
    "\n",
    "# basic regexes\n",
    "import re"
   ]
  },
  {
   "cell_type": "code",
   "execution_count": 2,
   "id": "4ab5bb0f-5739-4824-ab70-4a4eef253503",
   "metadata": {},
   "outputs": [],
   "source": [
    "sentence = 'abc 123745 1bc'"
   ]
  },
  {
   "cell_type": "code",
   "execution_count": 3,
   "id": "13bb7746-097a-4396-9fc9-4089b2dfaa13",
   "metadata": {},
   "outputs": [],
   "source": [
    "def show_all_matches(regexes, subject, re_length=6):\n",
    "    print('Sentence:')\n",
    "    print()\n",
    "    print('    {}'.format(subject))\n",
    "    print()\n",
    "    print(' regexp{} | matches'.format(' ' * (re_length - 6)))\n",
    "    print(' ------{} | -------'.format(' ' * (re_length - 6)))\n",
    "    for regexp in regexes:\n",
    "        fmt = ' {:<%d} | {!r}' % re_length\n",
    "        matches = re.findall(regexp, subject)\n",
    "        if len(matches) > 8:\n",
    "            matches = matches[:8] + ['...']\n",
    "        print(fmt.format(regexp, matches))"
   ]
  },
  {
   "cell_type": "code",
   "execution_count": 4,
   "id": "fbebd299-7303-41c1-886c-3ac93077e01f",
   "metadata": {
    "tags": []
   },
   "outputs": [
    {
     "name": "stdout",
     "output_type": "stream",
     "text": [
      "Sentence:\n",
      "\n",
      "    abc 123745 1bc\n",
      "\n",
      " regexp       | matches\n",
      " ------       | -------\n",
      " ^[aeiou\\s\\.] | ['a']\n"
     ]
    }
   ],
   "source": [
    "show_all_matches([\n",
    "    r'^[aeiou\\s\\.]', # any letter that's not a vowel\n",
    "], sentence, re_length=12)\n"
   ]
  },
  {
   "cell_type": "markdown",
   "id": "7e95bc38-ef2a-4f77-9a01-4c6970fd4016",
   "metadata": {},
   "source": [
    "## 1. Write a function named is_vowel. It should accept a string as input and use a regular expression to determine if the passed string is a vowel. While not explicity mentioned in the lesson, you can treat the result of re.search as a boolean value that indicates whether or not the regular expression matches the given string."
   ]
  },
  {
   "cell_type": "code",
   "execution_count": 5,
   "id": "56aad9a7-e5f6-4c1b-8f2d-cdd723c5c0db",
   "metadata": {},
   "outputs": [],
   "source": [
    "strings = 'a c'"
   ]
  },
  {
   "cell_type": "code",
   "execution_count": 6,
   "id": "cf71f73a-e6e4-409f-a460-855a5c8f514d",
   "metadata": {},
   "outputs": [],
   "source": [
    "def start_vowel(subject):\n",
    "    \"\"\"\n",
    "    match all words that start with a vowel\n",
    "    \"\"\"\n",
    "    regexp = r'^[aeiou\\s\\.]'\n",
    "\n",
    "    return re.findall(regexp, subject)"
   ]
  },
  {
   "cell_type": "code",
   "execution_count": 7,
   "id": "943885b3-37fb-4c45-9c21-4cb69ad01f88",
   "metadata": {},
   "outputs": [
    {
     "data": {
      "text/plain": [
       "['a']"
      ]
     },
     "execution_count": 7,
     "metadata": {},
     "output_type": "execute_result"
    }
   ],
   "source": [
    "start_vowel(strings)"
   ]
  },
  {
   "cell_type": "code",
   "execution_count": 8,
   "id": "3dbea7de-901e-4ed0-8cf9-f1117a00ad34",
   "metadata": {
    "tags": []
   },
   "outputs": [],
   "source": [
    "def find_all_vowel(subject):\n",
    "    \"\"\"\n",
    "    match all words that start with a vowel\n",
    "    \"\"\"\n",
    "    regexp = r'[aeiou]'\n",
    "\n",
    "    return re.findall(regexp, subject)"
   ]
  },
  {
   "cell_type": "code",
   "execution_count": 9,
   "id": "e425c140-d6a5-42c9-abda-fa9af2d11fc7",
   "metadata": {},
   "outputs": [
    {
     "data": {
      "text/plain": [
       "['a']"
      ]
     },
     "execution_count": 9,
     "metadata": {},
     "output_type": "execute_result"
    }
   ],
   "source": [
    "find_all_vowel(strings)"
   ]
  },
  {
   "cell_type": "code",
   "execution_count": 10,
   "id": "c9e2e8eb-c32d-4bfc-8422-6fae68b008b8",
   "metadata": {},
   "outputs": [],
   "source": [
    "strings = 'a c'"
   ]
  },
  {
   "cell_type": "code",
   "execution_count": 11,
   "id": "cc6592df-82c7-4c3f-b6bb-0612606cec2a",
   "metadata": {
    "tags": []
   },
   "outputs": [],
   "source": [
    "def is_vowel(subject):\n",
    "    \"\"\"\n",
    "    searches for a string with a single vowel\n",
    "    \n",
    "    Parameters:\n",
    "        strings\n",
    "    \n",
    "    Returns:\n",
    "        True or False\n",
    "    \"\"\"\n",
    "    regexp = (r'^\\b[aeiouAEIOU]\\b\\S')\n",
    "\n",
    "    return bool(re.search(regexp, subject))"
   ]
  },
  {
   "cell_type": "code",
   "execution_count": 12,
   "id": "2f31ee78-86fc-4d10-b55b-ada2182db93d",
   "metadata": {},
   "outputs": [
    {
     "data": {
      "text/plain": [
       "False"
      ]
     },
     "execution_count": 12,
     "metadata": {},
     "output_type": "execute_result"
    }
   ],
   "source": [
    "is_vowel(strings)"
   ]
  },
  {
   "cell_type": "markdown",
   "id": "bbf296b5-10b9-4be7-a006-232bb9dc4b57",
   "metadata": {},
   "source": [
    "## 2. Write a function named is_valid_username that accepts a string as input. A valid username starts with a lowercase letter, and only consists of lowercase letters, numbers, or the _ character. It should also be no longer than 32 characters. The function should return either True or False depending on whether the passed string is a valid username.\n",
    "\n",
    "\n",
    "> is_valid_username('aaaaaaaaaaaaaaaaaaaaaaaaaaaaaaaaa')\n",
    "False   \n",
    "> is_valid_username('codeup')\n",
    "True    \n",
    "> is_valid_username('Codeup')\n",
    "False    \n",
    "> is_valid_username('codeup123')\n",
    "True   \n",
    "> is_valid_username('1codeup')\n",
    "False"
   ]
  },
  {
   "cell_type": "code",
   "execution_count": 13,
   "id": "6dd3eea3-37f8-44a6-b64d-ad9e703f3cbc",
   "metadata": {},
   "outputs": [],
   "source": [
    "subject = 'codeup&'"
   ]
  },
  {
   "cell_type": "code",
   "execution_count": 14,
   "id": "075b8736-6ef5-45e1-952e-d3f7eda899f3",
   "metadata": {},
   "outputs": [],
   "source": [
    "def is_valid_username(subject):\n",
    "    \"\"\"\n",
    "    match the following parameters:\n",
    "    \n",
    "    - Starts with a lowercase\n",
    "    - Only consists of lowercase letters numbers or \"_\"\n",
    "    - No longer than 32 characters\n",
    "    \n",
    "    Returns:\n",
    "     True or False\n",
    "    \"\"\"\n",
    "    regexp = r'^[a-z][a-z0-9_]{0,31}$'\n",
    "\n",
    "    return bool(re.match(regexp, subject))"
   ]
  },
  {
   "cell_type": "code",
   "execution_count": 15,
   "id": "0dcb5bfa-3b3f-48e4-88e8-9cb331e5cdf2",
   "metadata": {},
   "outputs": [
    {
     "data": {
      "text/plain": [
       "False"
      ]
     },
     "execution_count": 15,
     "metadata": {},
     "output_type": "execute_result"
    }
   ],
   "source": [
    "is_valid_username(subject)"
   ]
  },
  {
   "cell_type": "markdown",
   "id": "9b211b29-84b0-47b3-8b50-c017223ae4e9",
   "metadata": {},
   "source": [
    "## 3. Write a regular expression to capture phone numbers. It should match all of the following:\n",
    "\n",
    "\n",
    "(210) 867 5309   \n",
    "+1 210.867.5309    \n",
    "867-5309   \n",
    "210-867-5309   "
   ]
  },
  {
   "cell_type": "code",
   "execution_count": 81,
   "id": "87f15060-7641-4805-8fe7-e595a51c59bc",
   "metadata": {},
   "outputs": [],
   "source": [
    "phone1 = '(210) 867 5309'"
   ]
  },
  {
   "cell_type": "code",
   "execution_count": 91,
   "id": "81aec941-b54f-4e7a-b081-73d6253993d8",
   "metadata": {},
   "outputs": [
    {
     "data": {
      "text/plain": [
       "<re.Match object; span=(0, 14), match='(210) 867 5309'>"
      ]
     },
     "execution_count": 91,
     "metadata": {},
     "output_type": "execute_result"
    }
   ],
   "source": [
    "regexp = r\"(\\+\\d\\s)?(\\()?(\\d{3})?(?(2)\\))[-.\\s]?(\\d{3})[-.\\s]?(\\d{4})\"\n",
    "\n",
    "re.match(regexp, phone1)"
   ]
  },
  {
   "cell_type": "code",
   "execution_count": 92,
   "id": "f61430f2-7c71-4424-a156-1818a62d00c1",
   "metadata": {},
   "outputs": [],
   "source": [
    "phone2 = '+1 210.876.5309'"
   ]
  },
  {
   "cell_type": "code",
   "execution_count": 93,
   "id": "7a33f079-628c-40af-ae05-5823ec6d4701",
   "metadata": {},
   "outputs": [
    {
     "data": {
      "text/plain": [
       "<re.Match object; span=(0, 15), match='+1 210.876.5309'>"
      ]
     },
     "execution_count": 93,
     "metadata": {},
     "output_type": "execute_result"
    }
   ],
   "source": [
    "regexp = r\"(\\+\\d\\s)?(\\()?(\\d{3})?(?(2)\\))[-.\\s]?(\\d{3})[-.\\s]?(\\d{4})\"\n",
    "\n",
    "re.match(regexp, phone2)"
   ]
  },
  {
   "cell_type": "code",
   "execution_count": 94,
   "id": "8af958a5-0eb1-4c8f-b020-dd90818e78ef",
   "metadata": {},
   "outputs": [],
   "source": [
    "phone3 = '867-5309'"
   ]
  },
  {
   "cell_type": "code",
   "execution_count": 95,
   "id": "96de3802-bd39-41d6-a29f-b8aa71174357",
   "metadata": {},
   "outputs": [
    {
     "data": {
      "text/plain": [
       "<re.Match object; span=(0, 8), match='867-5309'>"
      ]
     },
     "execution_count": 95,
     "metadata": {},
     "output_type": "execute_result"
    }
   ],
   "source": [
    "regexp = r\"(\\+\\d\\s)?(\\()?(\\d{3})?(?(2)\\))[-.\\s]?(\\d{3})[-.\\s]?(\\d{4})\"\n",
    "\n",
    "re.match(regexp, phone3)"
   ]
  },
  {
   "cell_type": "code",
   "execution_count": 96,
   "id": "6f2278c5-9eba-4006-921e-fd98f1612a36",
   "metadata": {},
   "outputs": [],
   "source": [
    "phone4 = '210-867-5309'"
   ]
  },
  {
   "cell_type": "code",
   "execution_count": 97,
   "id": "899bce18-a3cf-470a-8385-4110d7e05998",
   "metadata": {},
   "outputs": [
    {
     "data": {
      "text/plain": [
       "<re.Match object; span=(0, 12), match='210-867-5309'>"
      ]
     },
     "execution_count": 97,
     "metadata": {},
     "output_type": "execute_result"
    }
   ],
   "source": [
    "regexp = r\"(\\+\\d\\s)?(\\()?(\\d{3})?(?(2)\\))[-.\\s]?(\\d{3})[-.\\s]?(\\d{4})\"\n",
    "\n",
    "re.match(regexp, phone4)"
   ]
  },
  {
   "cell_type": "code",
   "execution_count": 99,
   "id": "4811a3fe-e889-4d31-840e-744019ac88bc",
   "metadata": {},
   "outputs": [],
   "source": [
    "phone_numbers = ['(210) 867 5309','+1 210.867.5309','867-5309','210-867-5309','Hi']"
   ]
  },
  {
   "cell_type": "code",
   "execution_count": 101,
   "id": "8dc627ea-6e5b-455b-9a1b-2a27e354a17f",
   "metadata": {},
   "outputs": [
    {
     "name": "stdout",
     "output_type": "stream",
     "text": [
      "'(210) 867 5309' is a valid phone number.\n",
      "'+1 210.867.5309' is a valid phone number.\n",
      "'867-5309' is a valid phone number.\n",
      "'210-867-5309' is a valid phone number.\n",
      "'Hi' is not a valid phone number.\n"
     ]
    }
   ],
   "source": [
    "regexp = re.compile(r\"(\\+\\d\\s)?(\\()?(\\d{3})?(?(2)\\))[-.\\s]?(\\d{3})[-.\\s]?(\\d{4})\")\n",
    "\n",
    "for number in phone_numbers:\n",
    "    match = regexp.match(number)\n",
    "    if match:\n",
    "        print(f\"'{number}' is a valid phone number.\")\n",
    "    else:\n",
    "        print(f\"'{number}' is not a valid phone number.\")"
   ]
  },
  {
   "cell_type": "markdown",
   "id": "d1c01a51-011b-4858-937c-4b5a6a44602e",
   "metadata": {},
   "source": [
    "### 4. Use regular expressions to convert the dates below to the standardized year-month-day format.\n",
    "\n",
    "\n",
    "02/04/19    \n",
    "02/05/19    \n",
    "02/06/19   \n",
    "02/07/19   \n",
    "02/08/19   \n",
    "02/09/19   \n",
    "02/10/19    "
   ]
  },
  {
   "cell_type": "code",
   "execution_count": 104,
   "id": "7621d5a6-a2de-4ead-85e5-bab319437410",
   "metadata": {},
   "outputs": [],
   "source": [
    "# the date that need to be found\n",
    "date = '02/04/19'"
   ]
  },
  {
   "cell_type": "code",
   "execution_count": 110,
   "id": "b7edb50b-b29e-429e-9225-31f65b60a6a3",
   "metadata": {},
   "outputs": [
    {
     "name": "stdout",
     "output_type": "stream",
     "text": [
      "2019-02-04\n"
     ]
    }
   ],
   "source": [
    "# Match the date format MM/DD/YY\n",
    "regexp = r\"(\\d{2})/(\\d{2})/(\\d{2})\"\n",
    "match = re.match(regexp, date)\n",
    "\n",
    "# Extract the components\n",
    "month, day, year = match.groups()\n",
    "\n",
    "# Assume the year is in the 2000s\n",
    "year = '20' + year\n",
    "\n",
    "# Print to the format YYYY-MM-DD\n",
    "print(f'{year}-{month}-{day}')"
   ]
  },
  {
   "cell_type": "code",
   "execution_count": 112,
   "id": "1dfbbfdf-7312-47b9-bf39-842a0697fea4",
   "metadata": {},
   "outputs": [],
   "source": [
    "dates = ['02/04/19', '02/05/19', '02/06/19', '02/07/19', '02/08/19', '02/09/19', '02/10/19']"
   ]
  },
  {
   "cell_type": "code",
   "execution_count": 113,
   "id": "725a1907-0fa3-4bce-a3f2-59a079cc2f1b",
   "metadata": {},
   "outputs": [],
   "source": [
    "def convert_date_format(date):\n",
    "    # Match the date format MM/DD/YY\n",
    "    match = re.match(r'(\\d{2})/(\\d{2})/(\\d{2})', date)\n",
    "    if match:\n",
    "        # Extract the components\n",
    "        month, day, year = match.groups()\n",
    "        # Assume the year is in the 2000s\n",
    "        year = '20' + year\n",
    "        # Convert to the format YYYY-MM-DD\n",
    "        return f'{year}-{month}-{day}'\n",
    "    else:\n",
    "        return None"
   ]
  },
  {
   "cell_type": "code",
   "execution_count": 121,
   "id": "4e9c3012-bf04-4197-ba95-7cc93301372c",
   "metadata": {},
   "outputs": [
    {
     "data": {
      "text/plain": [
       "['2019-02-04',\n",
       " '2019-02-05',\n",
       " '2019-02-06',\n",
       " '2019-02-07',\n",
       " '2019-02-08',\n",
       " '2019-02-09',\n",
       " '2019-02-10']"
      ]
     },
     "execution_count": 121,
     "metadata": {},
     "output_type": "execute_result"
    }
   ],
   "source": [
    "# Convert all dates\n",
    "converted_dates = [convert_date_format(date) for date in dates]\n",
    "converted_dates"
   ]
  },
  {
   "cell_type": "code",
   "execution_count": 124,
   "id": "b26001cc-8ee1-4eb3-b388-acda157bc40b",
   "metadata": {},
   "outputs": [
    {
     "data": {
      "text/html": [
       "<div>\n",
       "<style scoped>\n",
       "    .dataframe tbody tr th:only-of-type {\n",
       "        vertical-align: middle;\n",
       "    }\n",
       "\n",
       "    .dataframe tbody tr th {\n",
       "        vertical-align: top;\n",
       "    }\n",
       "\n",
       "    .dataframe thead th {\n",
       "        text-align: right;\n",
       "    }\n",
       "</style>\n",
       "<table border=\"1\" class=\"dataframe\">\n",
       "  <thead>\n",
       "    <tr style=\"text-align: right;\">\n",
       "      <th></th>\n",
       "      <th>Date</th>\n",
       "    </tr>\n",
       "  </thead>\n",
       "  <tbody>\n",
       "    <tr>\n",
       "      <th>0</th>\n",
       "      <td>2019-02-04</td>\n",
       "    </tr>\n",
       "    <tr>\n",
       "      <th>1</th>\n",
       "      <td>2019-02-05</td>\n",
       "    </tr>\n",
       "    <tr>\n",
       "      <th>2</th>\n",
       "      <td>2019-02-06</td>\n",
       "    </tr>\n",
       "    <tr>\n",
       "      <th>3</th>\n",
       "      <td>2019-02-07</td>\n",
       "    </tr>\n",
       "    <tr>\n",
       "      <th>4</th>\n",
       "      <td>2019-02-08</td>\n",
       "    </tr>\n",
       "    <tr>\n",
       "      <th>5</th>\n",
       "      <td>2019-02-09</td>\n",
       "    </tr>\n",
       "    <tr>\n",
       "      <th>6</th>\n",
       "      <td>2019-02-10</td>\n",
       "    </tr>\n",
       "  </tbody>\n",
       "</table>\n",
       "</div>"
      ],
      "text/plain": [
       "         Date\n",
       "0  2019-02-04\n",
       "1  2019-02-05\n",
       "2  2019-02-06\n",
       "3  2019-02-07\n",
       "4  2019-02-08\n",
       "5  2019-02-09\n",
       "6  2019-02-10"
      ]
     },
     "execution_count": 124,
     "metadata": {},
     "output_type": "execute_result"
    }
   ],
   "source": [
    "# Create a DataFrame from the converted dates\n",
    "df = pd.DataFrame(converted_dates, columns=['Date'])\n",
    "df"
   ]
  },
  {
   "cell_type": "code",
   "execution_count": 125,
   "id": "8e05c221-7a00-4b3c-86a0-a070a29c7389",
   "metadata": {},
   "outputs": [
    {
     "data": {
      "text/plain": [
       "dtype('O')"
      ]
     },
     "execution_count": 125,
     "metadata": {},
     "output_type": "execute_result"
    }
   ],
   "source": [
    "# Check the data type of the 'Date' column\n",
    "df['Date'].dtype"
   ]
  },
  {
   "cell_type": "markdown",
   "id": "985fad99-47ff-4d5f-b1f4-fbac70d962e1",
   "metadata": {},
   "source": [
    "## 5. Write a regex to extract the various parts of these logfile lines:\n",
    "\n",
    "GET /api/v1/sales?page=86 [16/Apr/2019:193452+0000] HTTP/1.1 {200} 510348 \"python-requests/2.21.0\" 97.105.19.58    \n",
    "\n",
    "POST /users_accounts/file-upload [16/Apr/2019:193452+0000] HTTP/1.1 {201} 42 \"User-Agent: Mozilla/5.0 (X11; Fedora; Fedora; Linux x86_64) AppleWebKit/537.36 (KHTML, like Gecko) Chrome/73.0.3683.86 Safari/537.36\" 97.105.19.58  \n",
    "\n",
    "GET /api/v1/items?page=3 [16/Apr/2019:193453+0000] HTTP/1.1 {429} 3561 \"python-requests/2.21.0\" 97.105.19.58     "
   ]
  },
  {
   "cell_type": "code",
   "execution_count": 142,
   "id": "f01e4412-7608-41bd-bb69-d72724c762dd",
   "metadata": {},
   "outputs": [],
   "source": [
    "log_lines = [\n",
    "    'GET /api/v1/sales?page=86 [16/Apr/2019:193452+0000] HTTP/1.1 {200} 510348 \"python-requests/2.21.0\" 97.105.19.58',\n",
    "    'POST /users_accounts/file-upload [16/Apr/2019:193452+0000] HTTP/1.1 {201} 42 \"User-Agent: Mozilla/5.0 (X11; Fedora; Fedora; Linux x86_64) AppleWebKit/537.36 (KHTML, like Gecko) Chrome/73.0.3683.86 Safari/537.36\" 97.105.19.58',\n",
    "    'GET /api/v1/items?page=3 [16/Apr/2019:193453+0000] HTTP/1.1 {429} 3561 \"python-requests/2.21.0\" 97.105.19.58'\n",
    "]"
   ]
  },
  {
   "cell_type": "markdown",
   "id": "b2a1b470-4e4e-43d8-817e-b9942216c550",
   "metadata": {},
   "source": [
    "This regular expression works as follows:\n",
    "\n",
    "(\\w+) : This matches the HTTP method, which is one or more word characters.    \n",
    "\\s : This matches a space.   \n",
    "(\\S+) : This matches the path, which is one or more non-space characters.    \n",
    "\\s\\[(.*?)\\]\\s : This matches the date and time, which is enclosed in square brackets.   \n",
    "(\\S+) : This matches the HTTP version, which is one or more non-space characters.    \n",
    "\\s\\{(\\d+)\\}\\s : This matches the status code, which is enclosed in curly braces.    \n",
    "(\\d+) : This matches the size.    \n",
    "\\s\"(.*?)\"\\s : This matches the user agent, which is enclosed in double quotes.   \n",
    "(\\S+) : This matches the IP address, which is one or more non-space characters.   "
   ]
  },
  {
   "cell_type": "code",
   "execution_count": 155,
   "id": "ce8ee0de-b753-4cd2-a71a-0494ff281d01",
   "metadata": {},
   "outputs": [
    {
     "name": "stdout",
     "output_type": "stream",
     "text": [
      "Method: GET\n",
      "Path: /api/v1/sales?page=86\n",
      "Date and Time: 16/Apr/2019:193452+0000\n",
      "HTTP Version: HTTP/1.1\n",
      "Status Code: 200\n",
      "Size: 510348\n",
      "User Agent: python-requests/2.21.0\n",
      "IP: 97.105.19.58\n",
      "\n",
      "Method: POST\n",
      "Path: /users_accounts/file-upload\n",
      "Date and Time: 16/Apr/2019:193452+0000\n",
      "HTTP Version: HTTP/1.1\n",
      "Status Code: 201\n",
      "Size: 42\n",
      "User Agent: User-Agent: Mozilla/5.0 (X11; Fedora; Fedora; Linux x86_64) AppleWebKit/537.36 (KHTML, like Gecko) Chrome/73.0.3683.86 Safari/537.36\n",
      "IP: 97.105.19.58\n",
      "\n",
      "Method: GET\n",
      "Path: /api/v1/items?page=3\n",
      "Date and Time: 16/Apr/2019:193453+0000\n",
      "HTTP Version: HTTP/1.1\n",
      "Status Code: 429\n",
      "Size: 3561\n",
      "User Agent: python-requests/2.21.0\n",
      "IP: 97.105.19.58\n",
      "\n"
     ]
    }
   ],
   "source": [
    "# Regular expression pattern to match the log line components\n",
    "regexp = re.compile(r'(\\w+)\\s(\\S+)\\s\\[(.*?)\\]\\s(\\S+)\\s\\{(\\d+)\\}\\s(\\d+)\\s\"(.*?)\"\\s(\\S+)')\n",
    "\n",
    "# List to store the extracted parts\n",
    "log_parts = []\n",
    "\n",
    "for line in log_lines:\n",
    "    match = regexp.match(line)\n",
    "    if match:\n",
    "        method, path, date_time, http_version, status_code, size, user_agent, ip = match.groups()\n",
    "        print(f'Method: {method}\\nPath: {path}\\nDate and Time: {date_time}\\nHTTP Version: {http_version}\\n\\\n",
    "Status Code: {status_code}\\nSize: {size}\\nUser Agent: {user_agent}\\nIP: {ip}\\n')\n",
    "\n",
    "    else:\n",
    "        print('No match')"
   ]
  },
  {
   "cell_type": "code",
   "execution_count": 149,
   "id": "6ca5348d-4bc7-4864-87e4-c9556f8afc31",
   "metadata": {},
   "outputs": [],
   "source": [
    "def extract_log_parts(log_lines):\n",
    "    \"\"\"\n",
    "    Extracts the various parts of the given log lines.\n",
    "\n",
    "    Parameters:\n",
    "    log_lines (list): A list of log lines.\n",
    "\n",
    "    Returns:\n",
    "    list: A list of tuples, where each tuple contains the extracted parts of a log line.\n",
    "    \"\"\"\n",
    "    # Regular expression pattern to match the log line components\n",
    "    regexp = re.compile(r'(\\w+)\\s(\\S+)\\s\\[(.*?)\\]\\s(\\S+)\\s\\{(\\d+)\\}\\s(\\d+)\\s\"(.*?)\"\\s(\\S+)')\n",
    "\n",
    "    # List to store the extracted parts\n",
    "    log_parts = []\n",
    "\n",
    "    for line in log_lines:\n",
    "        match = regexp.match(line)\n",
    "        if match:\n",
    "            # Extract the parts and add them to the list\n",
    "            log_parts.append(match.groups())\n",
    "\n",
    "    return log_parts"
   ]
  },
  {
   "cell_type": "code",
   "execution_count": 158,
   "id": "88e8c7c7-eec0-4712-86aa-3e9696cbb79c",
   "metadata": {},
   "outputs": [],
   "source": [
    "df_logs = pd.DataFrame(extract_log_parts(log_lines), columns=['method', 'path','date_time','http_version','status_code','size','user_agent','ip'])"
   ]
  },
  {
   "cell_type": "code",
   "execution_count": 159,
   "id": "18ac31e5-23c1-46bc-89d0-5c11d0f9b83d",
   "metadata": {},
   "outputs": [
    {
     "data": {
      "text/html": [
       "<div>\n",
       "<style scoped>\n",
       "    .dataframe tbody tr th:only-of-type {\n",
       "        vertical-align: middle;\n",
       "    }\n",
       "\n",
       "    .dataframe tbody tr th {\n",
       "        vertical-align: top;\n",
       "    }\n",
       "\n",
       "    .dataframe thead th {\n",
       "        text-align: right;\n",
       "    }\n",
       "</style>\n",
       "<table border=\"1\" class=\"dataframe\">\n",
       "  <thead>\n",
       "    <tr style=\"text-align: right;\">\n",
       "      <th></th>\n",
       "      <th>method</th>\n",
       "      <th>path</th>\n",
       "      <th>date_time</th>\n",
       "      <th>http_version</th>\n",
       "      <th>status_code</th>\n",
       "      <th>size</th>\n",
       "      <th>user_agent</th>\n",
       "      <th>ip</th>\n",
       "    </tr>\n",
       "  </thead>\n",
       "  <tbody>\n",
       "    <tr>\n",
       "      <th>0</th>\n",
       "      <td>GET</td>\n",
       "      <td>/api/v1/sales?page=86</td>\n",
       "      <td>16/Apr/2019:193452+0000</td>\n",
       "      <td>HTTP/1.1</td>\n",
       "      <td>200</td>\n",
       "      <td>510348</td>\n",
       "      <td>python-requests/2.21.0</td>\n",
       "      <td>97.105.19.58</td>\n",
       "    </tr>\n",
       "    <tr>\n",
       "      <th>1</th>\n",
       "      <td>POST</td>\n",
       "      <td>/users_accounts/file-upload</td>\n",
       "      <td>16/Apr/2019:193452+0000</td>\n",
       "      <td>HTTP/1.1</td>\n",
       "      <td>201</td>\n",
       "      <td>42</td>\n",
       "      <td>User-Agent: Mozilla/5.0 (X11; Fedora; Fedora; ...</td>\n",
       "      <td>97.105.19.58</td>\n",
       "    </tr>\n",
       "    <tr>\n",
       "      <th>2</th>\n",
       "      <td>GET</td>\n",
       "      <td>/api/v1/items?page=3</td>\n",
       "      <td>16/Apr/2019:193453+0000</td>\n",
       "      <td>HTTP/1.1</td>\n",
       "      <td>429</td>\n",
       "      <td>3561</td>\n",
       "      <td>python-requests/2.21.0</td>\n",
       "      <td>97.105.19.58</td>\n",
       "    </tr>\n",
       "  </tbody>\n",
       "</table>\n",
       "</div>"
      ],
      "text/plain": [
       "  method                         path                date_time http_version  \\\n",
       "0    GET        /api/v1/sales?page=86  16/Apr/2019:193452+0000     HTTP/1.1   \n",
       "1   POST  /users_accounts/file-upload  16/Apr/2019:193452+0000     HTTP/1.1   \n",
       "2    GET         /api/v1/items?page=3  16/Apr/2019:193453+0000     HTTP/1.1   \n",
       "\n",
       "  status_code    size                                         user_agent  \\\n",
       "0         200  510348                             python-requests/2.21.0   \n",
       "1         201      42  User-Agent: Mozilla/5.0 (X11; Fedora; Fedora; ...   \n",
       "2         429    3561                             python-requests/2.21.0   \n",
       "\n",
       "             ip  \n",
       "0  97.105.19.58  \n",
       "1  97.105.19.58  \n",
       "2  97.105.19.58  "
      ]
     },
     "execution_count": 159,
     "metadata": {},
     "output_type": "execute_result"
    }
   ],
   "source": [
    "df_logs"
   ]
  },
  {
   "cell_type": "code",
   "execution_count": null,
   "id": "2df85e86-704b-481e-996c-778e22eee788",
   "metadata": {},
   "outputs": [],
   "source": []
  }
 ],
 "metadata": {
  "kernelspec": {
   "display_name": "Python 3 (ipykernel)",
   "language": "python",
   "name": "python3"
  },
  "language_info": {
   "codemirror_mode": {
    "name": "ipython",
    "version": 3
   },
   "file_extension": ".py",
   "mimetype": "text/x-python",
   "name": "python",
   "nbconvert_exporter": "python",
   "pygments_lexer": "ipython3",
   "version": "3.9.13"
  }
 },
 "nbformat": 4,
 "nbformat_minor": 5
}
