{
 "cells": [
  {
   "cell_type": "markdown",
   "id": "9fb80588-8d56-4fc9-89ca-a6908b2b9713",
   "metadata": {},
   "source": [
    "# Parsing Text (aka Prepping Text Data)"
   ]
  },
  {
   "cell_type": "markdown",
   "id": "de64da81-bbd0-494e-a6d0-74ba1ceb790c",
   "metadata": {},
   "source": [
    "## Exercises\n",
    "The end result of this exercise should be a file named prepare.py that defines the requested functions.\n",
    "\n",
    "In this exercise we will be defining some functions to prepare textual data. These functions should apply equally well to both the codeup blog articles and the news articles that were previously acquired."
   ]
  },
  {
   "cell_type": "markdown",
   "id": "44349623-ccbd-44f0-8061-b6b24818fbae",
   "metadata": {},
   "source": [
    "## Imports"
   ]
  },
  {
   "cell_type": "code",
   "execution_count": 1,
   "id": "3fd6d1c2-d92b-43bc-870b-e34004fb180c",
   "metadata": {},
   "outputs": [],
   "source": [
    "#standard imports\n",
    "import pandas as pd\n",
    "import numpy as np\n",
    "\n",
    "# my imports\n",
    "import acquire as a\n",
    "\n",
    "#import Parsing Text\n",
    "import unicodedata\n",
    "\n",
    "#import regular expression operations\n",
    "import re\n",
    "\n",
    "#import natural language toolkit\n",
    "import nltk\n",
    "\n",
    "#import stopwords list\n",
    "from nltk.corpus import stopwords"
   ]
  },
  {
   "cell_type": "code",
   "execution_count": 2,
   "id": "8738d411-9e1e-494a-96f1-2b30cf647d71",
   "metadata": {},
   "outputs": [],
   "source": [
    "news_articles = a.get_news_articles()"
   ]
  },
  {
   "cell_type": "code",
   "execution_count": 3,
   "id": "5850ae50-4358-4052-8828-90cd398fb4c2",
   "metadata": {},
   "outputs": [],
   "source": [
    "blog_articles = a.get_blog_articles()"
   ]
  },
  {
   "cell_type": "markdown",
   "id": "8ba275e9-3d76-42f6-a42f-06c62ff7e355",
   "metadata": {
    "tags": []
   },
   "source": [
    "## 1. Define a function named basic_clean. It should take in a string and apply some basic text cleaning to it:\n",
    "\n",
    "    • Lowercase everything\n",
    "    • Normalize unicode characters\n",
    "    • Replace anything that is not a letter, number, whitespace or a single quote."
   ]
  },
  {
   "cell_type": "code",
   "execution_count": 4,
   "id": "82402a3a-b972-454b-8e02-268371f4f1b7",
   "metadata": {
    "scrolled": true,
    "tags": []
   },
   "outputs": [],
   "source": [
    "# blog_articles[0]['content']"
   ]
  },
  {
   "cell_type": "code",
   "execution_count": 5,
   "id": "06c93d9e-2925-4318-a1f0-2a93ce8f0ec5",
   "metadata": {},
   "outputs": [],
   "source": [
    "def basic_clean(article):\n",
    "    \"\"\"\n",
    "    Lower Case:\n",
    "    - setting all letters to a lowercase\n",
    "    \n",
    "    Encoding:\n",
    "    - `unicodedata.normalize` removes any inconsistencies in unicode character encoding\n",
    "    - `.encode` to convert the resulting string to the ASCII character set\n",
    "    - `.decode` to turn the resulting bytes object back into a string\n",
    "    \n",
    "    Special characters:\n",
    "    - remove anything that isn't a-z, a number, a single quote, or a whitespace\n",
    "    \"\"\"\n",
    "    # lowercase text\n",
    "    article = article.lower()\n",
    "    \n",
    "    # remove any accented characters and non-ASCII characters\n",
    "    # normalizing\n",
    "    # getting ride of anything not in ascii\n",
    "    # turning back to a string\n",
    "    article = unicodedata.normalize('NFKD', article).encode('ascii','ignore').decode('utf-8')\n",
    "    \n",
    "    # remove special characters\n",
    "    #use re.sub to remove special characters\n",
    "    bc_article = re.sub(r'[^a-z0-9\\'\\s]', '', article)\n",
    "    \n",
    "    return bc_article"
   ]
  },
  {
   "cell_type": "code",
   "execution_count": 6,
   "id": "c0d160ce-6176-4d49-87f2-8caa439a8a33",
   "metadata": {
    "scrolled": true,
    "tags": []
   },
   "outputs": [
    {
     "data": {
      "text/plain": [
       "'may is traditionally known as asian american and pacific islander aapi heritage month this month we celebrate the history and contributions made possible by our aapi friends family and community we also examine our level of support and seek opportunities to better understand the aapi community  in an effort to address real concerns and experiences we sat down with arbeena thapa one of codeups financial aid and enrollment managers arbeena identifies as nepali american and desi arbeenas parents immigrated to texas in 1988 for better employment and educational opportunities arbeenas older sister was five when they made the move to the us arbeena was born later becoming the first in her family to be a us citizen at codeup we take our efforts at inclusivity very seriously after speaking with arbeena we were taught that the term aapi excludes desiamerican individuals hence we will now use the term asian pacific islander desi american apida here is how the rest of our conversation with arbeena went how do you celebrate or connect with your heritage and cultural traditions i celebrate nepals version of christmas or dashain this is a nineday celebration also known as dussehra i grew up as hindu and i identify as hindu this is a very large part of my heritage  other ways i connect with my culture include sharing food momos are south asian dumplings and theyre my favorite to make and share on my asian american side i am an advocate of immigrant justice and erasure within apida social or political movements i participate in events to embrace my identity such as immigrant justice advocacy because i come from a mixedstatus family ive always been in a community with undocumented asian immigrants  what are some of the challenges you have faced as an apida individual personally or professionally i often struggle with being gendered as compliant or a pushover professionally i am often stereotyped as meek so ive been overlooked for leadership roles we are seen as perpetually foreign people tend to other us in that way yet put us on a pedestal for what a model minority looks like this has made me hesitant to share my heritage in the past because these assumptions get mapped onto me  can you describe some common barriers of entry that apida individuals specifically women may face when trying to enter or advance in the workplace being overlooked for leadership in the past i have not been viewed as a leader people sometimes have preconceived stereotypes of asian women not being able to be bold or being vocal can be mistaken for being too emotional  how do you believe microaggressions impact apida individuals in the workplace can you provide examples of such microaggressions erasure is big to me only saying merry christmas isnt inclusive to other religions people are often resistant to saying happy holidays but saying merry christmas excludes and does not appreciate my heritage  often microaggressions are not micro at all they typically are not aggressive racialized violence but the term micro minimizes impact some that ive heard are what kind of asian are you or where are you from this automatically makes me the other and not seen as american even within the apida community south asians are overlooked as asian how important is representation specifically apida representation in organizational leadership positions i want to say that it is important to have someone who looks like you in leadership roles and it is but those leaders may not share the same beliefs as you certain privileges such as wealth resources or lack of interaction with lowersocioeconomicstatus asian americans may cause a difference in community politics i do not think the bamboo ceiling is acceptable but the company you work for plays a big part in your politics and belief alignment how do you feel about codeswitching and have you ever felt it necessary to codeswitch i like sharing south asian terms or connecting with others that have similar heritage and culture a workplace that is welcoming to going into this sort of breakout is refreshing and makes space for us however having to codeswitch could also mean a workplace that is not conducive and welcoming of other cultures  finally in your opinion what longterm strategies can create lasting change in the workplace and ensure support equality and inclusion for apida individuals prior to a career in financial aid i did a lot of research related to the post911 immigration of the south asian diaspora this background made me heavily rely on grassroots organizing hire the people that want to innovate hire the changemakers hire the buttonpushers reduce reliance on whiteness as change this will become natural for the organization and become organizational change change comes from us on the ground a huge thank you to arbeena thapa for sharing her experiences and being vulnerable with us your words were inspiring and the opportunity to understand your perspective more has been valuable we hope we can become better support for the apida community as we learn and grow on our journey of cultivating inclusive growth'"
      ]
     },
     "execution_count": 6,
     "metadata": {},
     "output_type": "execute_result"
    }
   ],
   "source": [
    "bc_article = basic_clean(blog_articles[0]['content'])\n",
    "bc_article"
   ]
  },
  {
   "cell_type": "markdown",
   "id": "7c3df597-3043-48ab-aac5-0d4a40a50a95",
   "metadata": {},
   "source": [
    "## 2. Define a function named tokenize. It should take in a string and tokenize all the words in the string."
   ]
  },
  {
   "cell_type": "code",
   "execution_count": 7,
   "id": "c218c99c-b1e6-4486-8560-850a997fbc37",
   "metadata": {},
   "outputs": [],
   "source": [
    "def tokenize(article):\n",
    "    \"\"\"\n",
    "    Tokenization is the process of breaking something down\n",
    "    into smaller, discrete units. These units are called tokens.\n",
    "    \n",
    "    It's common to tokenize the strings to break up words and punctutation\n",
    "    left over into discrete units. \n",
    "    \"\"\"  \n",
    "\n",
    "    #create the tokenizer\n",
    "    tokenize = nltk.tokenize.ToktokTokenizer()\n",
    "    tok_art = tokenize.tokenize(article, return_str=True)\n",
    "  \n",
    "    return tok_art"
   ]
  },
  {
   "cell_type": "code",
   "execution_count": 8,
   "id": "8ab80190-96f2-4394-bed4-f49a45ef7766",
   "metadata": {
    "scrolled": true,
    "tags": []
   },
   "outputs": [
    {
     "data": {
      "text/plain": [
       "'May is traditionally known as Asian American and Pacific Islander ( AAPI ) Heritage Month. This month we celebrate the history and contributions made possible by our AAPI friends , family , and community. We also examine our level of support and seek opportunities to better understand the AAPI community. In an effort to address real concerns and experiences , we sat down with Arbeena Thapa , one of Codeup ’ s Financial Aid and Enrollment Managers. Arbeena identifies as Nepali American and Desi. Arbeena ’ s parents immigrated to Texas in 1988 for better employment and educational opportunities. Arbeena ’ s older sister was five when they made the move to the US. Arbeena was born later , becoming the first in her family to be a US citizen. At Codeup we take our efforts at inclusivity very seriously. After speaking with Arbeena , we were taught that the term AAPI excludes Desi-American individuals. Hence , we will now use the term Asian Pacific Islander Desi American ( APIDA ) . Here is how the rest of our conversation with Arbeena went ! How do you celebrate or connect with your heritage and cultural traditions ? “I celebrate Nepal ’ s version of Christmas or Dashain. This is a nine-day celebration also known as Dussehra. I grew up as Hindu and I identify as Hindu , this is a very large part of my heritage. “ “Other ways I connect with my culture include sharing food ! Momos are South Asian Dumplings and they ’ re my favorite to make and share. ” “On my Asian American side , I am an advocate of immigrant justice and erasure within APIDA social or political movements. I participate in events to embrace my identity such as immigrant justice advocacy because I come from a mixed-status family. I ’ ve always been in a community with undocumented Asian immigrants. . ” What are some of the challenges you have faced as an APIDA individual , personally or professionally ? “I often struggle with being gendered as compliant or a pushover. Professionally , I am often stereotyped as meek , so I ’ ve been overlooked for leadership roles. We are seen as perpetually foreign ; people tend to other us in that way , yet put us on a pedestal for what a model minority looks like. This has made me hesitant to share my heritage in the past because these assumptions get mapped onto me. ” Can you describe some common barriers of entry that APIDA individuals , specifically women may face when trying to enter or advance in the workplace ? “Being overlooked for leadership. In the past , I have not been viewed as a leader. People sometimes have preconceived stereotypes of Asian women not being able to be bold , or being vocal can be mistaken for being too emotional. “ How do you believe microaggressions impact APIDA individuals in the workplace ? Can you provide examples of such microaggressions ? “Erasure is big. To me , only saying ‘Merry Christmas ’ isn ’ t inclusive to other religions. People are often resistant to saying ‘Happy Holidays , ’ but saying Merry Christmas excludes , and does not appreciate my heritage. “ “Often microaggressions are not micro at all. They typically are not aggressive racialized violence , but the term ‘micro ’ minimizes impact. ” “Some that I ’ ve heard are ‘What kind of Asian are you? ’ or ‘Where are you from? ’ This automatically makes me the ‘other ’ and not seen as American. Even within the APIDA community , South Asians are overlooked as “Asian ” . ” How important is representation , specifically APIDA representation , in organizational leadership positions ? “I want to say that it is important to have someone who looks like you in leadership roles , and it is , but those leaders may not share the same beliefs as you. Certain privileges such as wealth , resources , or lack of interaction with lower-socioeconomic-status Asian Americans may cause a difference in community politics. I do not think the bamboo ceiling is acceptable , but the company you work for plays a big part in your politics and belief alignment. ” How do you feel about code-switching , and have you ever felt it necessary to code-switch ? “I like sharing South Asian terms or connecting with others that have similar heritage and culture. A workplace that is welcoming to going into this sort of breakout is refreshing and makes space for us. However , having to code-switch could also mean a workplace that is not conducive and welcoming of other cultures. “ Finally , in your opinion , what long-term strategies can create lasting change in the workplace and ensure support , equality , and inclusion for APIDA individuals ? “Prior to a career in financial aid , I did a lot of research related to the post-9/11 immigration of the South Asian diaspora. This background made me heavily rely on grassroots organizing. Hire the people that want to innovate , hire the changemakers , hire the button-pushers. Reduce reliance on whiteness as change. This will become natural for the organization and become organizational change. Change comes from us on the ground. ” A huge thank you to Arbeena Thapa for sharing her experiences , and being vulnerable with us. Your words were inspiring and the opportunity to understand your perspective more has been valuable. We hope we can become better support for the APIDA community as we learn and grow on our journey of cultivating inclusive growth .'"
      ]
     },
     "execution_count": 8,
     "metadata": {},
     "output_type": "execute_result"
    }
   ],
   "source": [
    "tok_art = tokenize(blog_articles[0]['content'])\n",
    "tok_art"
   ]
  },
  {
   "cell_type": "markdown",
   "id": "cbb18370-76fd-4151-bd0a-7575a101e9e0",
   "metadata": {},
   "source": [
    "## 3. Define a function named stem. It should accept some text and return the text after applying stemming to all the words."
   ]
  },
  {
   "cell_type": "code",
   "execution_count": 9,
   "id": "86af2d56-cc6b-482c-aa02-2b66be1f1edc",
   "metadata": {},
   "outputs": [],
   "source": [
    "def stem(article):\n",
    "    \"\"\"\n",
    "    Stemming:\n",
    "    - **truncates** words to their \"stem\"\n",
    "    - algorithmic rules (non lingustic)\n",
    "    - example: \"calls\", \"called\", \"calling\" --> \"call\"\n",
    "    - fast and efficient\n",
    "    \"\"\"   \n",
    "    #create porter stemmer\n",
    "    ps = nltk.porter.PorterStemmer()\n",
    "    \n",
    "    #use stemmer - apply stem to each word in our string\n",
    "    ps.stem(article)\n",
    "    \n",
    "    # split all the words in the article\n",
    "    article.split()\n",
    "    stems = [ps.stem (word) for word in article.split()]\n",
    "    \n",
    "    #join words back together\n",
    "    article_stemmed = ' '.join(stems)\n",
    "    \n",
    "    return article_stemmed"
   ]
  },
  {
   "cell_type": "code",
   "execution_count": 10,
   "id": "b96c3b9d-a480-48a1-b06d-e962fa8a4166",
   "metadata": {
    "scrolled": true,
    "tags": []
   },
   "outputs": [
    {
     "data": {
      "text/plain": [
       "'may is tradit known as asian american and pacif island (aapi) heritag month. thi month we celebr the histori and contribut made possibl by our aapi friends, family, and community. we also examin our level of support and seek opportun to better understand the aapi community. in an effort to address real concern and experiences, we sat down with arbeena thapa, one of codeup’ financi aid and enrol managers. arbeena identifi as nepali american and desi. arbeena’ parent immigr to texa in 1988 for better employ and educ opportunities. arbeena’ older sister wa five when they made the move to the us. arbeena wa born later, becom the first in her famili to be a us citizen. at codeup we take our effort at inclus veri seriously. after speak with arbeena, we were taught that the term aapi exclud desi-american individuals. hence, we will now use the term asian pacif island desi american (apida). here is how the rest of our convers with arbeena went! how do you celebr or connect with your heritag and cultur traditions? “i celebr nepal’ version of christma or dashain. thi is a nine-day celebr also known as dussehra. i grew up as hindu and i identifi as hindu, thi is a veri larg part of my heritage. “ “other way i connect with my cultur includ share food! momo are south asian dumpl and they’r my favorit to make and share.” “on my asian american side, i am an advoc of immigr justic and erasur within apida social or polit movements. i particip in event to embrac my ident such as immigr justic advocaci becaus i come from a mixed-statu family. i’v alway been in a commun with undocu asian immigrants. .” what are some of the challeng you have face as an apida individual, person or professionally? “i often struggl with be gender as compliant or a pushover. professionally, i am often stereotyp as meek, so i’v been overlook for leadership roles. we are seen as perpetu foreign; peopl tend to other us in that way, yet put us on a pedest for what a model minor look like. thi ha made me hesit to share my heritag in the past becaus these assumpt get map onto me. ” can you describ some common barrier of entri that apida individuals, specif women may face when tri to enter or advanc in the workplace? “be overlook for leadership. in the past, i have not been view as a leader. peopl sometim have preconceiv stereotyp of asian women not be abl to be bold, or be vocal can be mistaken for be too emotional. “ how do you believ microaggress impact apida individu in the workplace? can you provid exampl of such microaggressions? “erasur is big. to me, onli say ‘merri christmas’ isn’t inclus to other religions. peopl are often resist to say ‘happi holidays,’ but say merri christma excludes, and doe not appreci my heritage. “ “often microaggress are not micro at all. they typic are not aggress racial violence, but the term ‘micro’ minim impact.” “some that i’v heard are ‘what kind of asian are you?’ or ‘where are you from?’ thi automat make me the ‘other’ and not seen as american. even within the apida community, south asian are overlook as “asian”.” how import is representation, specif apida representation, in organiz leadership positions? “i want to say that it is import to have someon who look like you in leadership roles, and it is, but those leader may not share the same belief as you. certain privileg such as wealth, resources, or lack of interact with lower-socioeconomic-statu asian american may caus a differ in commun politics. i do not think the bamboo ceil is acceptable, but the compani you work for play a big part in your polit and belief alignment.” how do you feel about code-switching, and have you ever felt it necessari to code-switch? “i like share south asian term or connect with other that have similar heritag and culture. a workplac that is welcom to go into thi sort of breakout is refresh and make space for us. however, have to code-switch could also mean a workplac that is not conduc and welcom of other cultures. “ finally, in your opinion, what long-term strategi can creat last chang in the workplac and ensur support, equality, and inclus for apida individuals? “prior to a career in financi aid, i did a lot of research relat to the post-9/11 immigr of the south asian diaspora. thi background made me heavili reli on grassroot organizing. hire the peopl that want to innovate, hire the changemakers, hire the button-pushers. reduc relianc on white as change. thi will becom natur for the organ and becom organiz change. chang come from us on the ground.” a huge thank you to arbeena thapa for share her experiences, and be vulner with us. your word were inspir and the opportun to understand your perspect more ha been valuable. we hope we can becom better support for the apida commun as we learn and grow on our journey of cultiv inclus growth.'"
      ]
     },
     "execution_count": 10,
     "metadata": {},
     "output_type": "execute_result"
    }
   ],
   "source": [
    "article_stemmed = stem(blog_articles[0]['content'])\n",
    "article_stemmed"
   ]
  },
  {
   "cell_type": "markdown",
   "id": "418a023b-993c-432d-baa6-27cd17f79a6d",
   "metadata": {},
   "source": [
    "## 4. Define a function named lemmatize. It should accept some text and return the text after applying lemmatization to each word."
   ]
  },
  {
   "cell_type": "code",
   "execution_count": 11,
   "id": "24ad2f98-add6-4cc7-bf78-5b35de3a29ae",
   "metadata": {},
   "outputs": [],
   "source": [
    "def lemmatize(article):\n",
    "    \"\"\"\n",
    "    Lemmatize:\n",
    "        - **changes** words to their \"root\"\n",
    "        - it can conjugate to the base word \n",
    "        - example: \"mouse\", \"mice\" --> \"mouse\"\n",
    "        - slower than stemming\n",
    "    \"\"\" \n",
    "    #create the lemmatizer   \n",
    "    wnl = nltk.stem.WordNetLemmatizer()\n",
    "    \n",
    "    #use lemmatize - apply stem to each word in our string\n",
    "    # wnl.lemmatize(article)\n",
    "    lemma = [wnl.lemmatize(word) for word in article.split()]\n",
    "    \n",
    "    #join words back together\n",
    "    article_lemma = ' '.join(lemma)\n",
    "    \n",
    "    return article_lemma"
   ]
  },
  {
   "cell_type": "code",
   "execution_count": 12,
   "id": "07516245-243a-4cbe-a922-1184130d64b7",
   "metadata": {
    "scrolled": true,
    "tags": []
   },
   "outputs": [
    {
     "data": {
      "text/plain": [
       "'May is traditionally known a Asian American and Pacific Islander (AAPI) Heritage Month. This month we celebrate the history and contribution made possible by our AAPI friends, family, and community. We also examine our level of support and seek opportunity to better understand the AAPI community. In an effort to address real concern and experiences, we sat down with Arbeena Thapa, one of Codeup’s Financial Aid and Enrollment Managers. Arbeena identifies a Nepali American and Desi. Arbeena’s parent immigrated to Texas in 1988 for better employment and educational opportunities. Arbeena’s older sister wa five when they made the move to the US. Arbeena wa born later, becoming the first in her family to be a US citizen. At Codeup we take our effort at inclusivity very seriously. After speaking with Arbeena, we were taught that the term AAPI excludes Desi-American individuals. Hence, we will now use the term Asian Pacific Islander Desi American (APIDA). Here is how the rest of our conversation with Arbeena went! How do you celebrate or connect with your heritage and cultural traditions? “I celebrate Nepal’s version of Christmas or Dashain. This is a nine-day celebration also known a Dussehra. I grew up a Hindu and I identify a Hindu, this is a very large part of my heritage. “ “Other way I connect with my culture include sharing food! Momos are South Asian Dumplings and they’re my favorite to make and share.” “On my Asian American side, I am an advocate of immigrant justice and erasure within APIDA social or political movements. I participate in event to embrace my identity such a immigrant justice advocacy because I come from a mixed-status family. I’ve always been in a community with undocumented Asian immigrants. .” What are some of the challenge you have faced a an APIDA individual, personally or professionally? “I often struggle with being gendered a compliant or a pushover. Professionally, I am often stereotyped a meek, so I’ve been overlooked for leadership roles. We are seen a perpetually foreign; people tend to other u in that way, yet put u on a pedestal for what a model minority look like. This ha made me hesitant to share my heritage in the past because these assumption get mapped onto me. ” Can you describe some common barrier of entry that APIDA individuals, specifically woman may face when trying to enter or advance in the workplace? “Being overlooked for leadership. In the past, I have not been viewed a a leader. People sometimes have preconceived stereotype of Asian woman not being able to be bold, or being vocal can be mistaken for being too emotional. “ How do you believe microaggressions impact APIDA individual in the workplace? Can you provide example of such microaggressions? “Erasure is big. To me, only saying ‘Merry Christmas’ isn’t inclusive to other religions. People are often resistant to saying ‘Happy Holidays,’ but saying Merry Christmas excludes, and doe not appreciate my heritage. “ “Often microaggressions are not micro at all. They typically are not aggressive racialized violence, but the term ‘micro’ minimizes impact.” “Some that I’ve heard are ‘What kind of Asian are you?’ or ‘Where are you from?’ This automatically make me the ‘other’ and not seen a American. Even within the APIDA community, South Asians are overlooked a “Asian”.” How important is representation, specifically APIDA representation, in organizational leadership positions? “I want to say that it is important to have someone who look like you in leadership roles, and it is, but those leader may not share the same belief a you. Certain privilege such a wealth, resources, or lack of interaction with lower-socioeconomic-status Asian Americans may cause a difference in community politics. I do not think the bamboo ceiling is acceptable, but the company you work for play a big part in your politics and belief alignment.” How do you feel about code-switching, and have you ever felt it necessary to code-switch? “I like sharing South Asian term or connecting with others that have similar heritage and culture. A workplace that is welcoming to going into this sort of breakout is refreshing and make space for us. However, having to code-switch could also mean a workplace that is not conducive and welcoming of other cultures. “ Finally, in your opinion, what long-term strategy can create lasting change in the workplace and ensure support, equality, and inclusion for APIDA individuals? “Prior to a career in financial aid, I did a lot of research related to the post-9/11 immigration of the South Asian diaspora. This background made me heavily rely on grassroots organizing. Hire the people that want to innovate, hire the changemakers, hire the button-pushers. Reduce reliance on whiteness a change. This will become natural for the organization and become organizational change. Change come from u on the ground.” A huge thank you to Arbeena Thapa for sharing her experiences, and being vulnerable with us. Your word were inspiring and the opportunity to understand your perspective more ha been valuable. We hope we can become better support for the APIDA community a we learn and grow on our journey of cultivating inclusive growth.'"
      ]
     },
     "execution_count": 12,
     "metadata": {},
     "output_type": "execute_result"
    }
   ],
   "source": [
    "article_lemma = lemmatize(blog_articles[0]['content'])\n",
    "article_lemma"
   ]
  },
  {
   "cell_type": "markdown",
   "id": "f7c1f0f4-0f86-4290-951d-54ff0c70b2c7",
   "metadata": {},
   "source": [
    "## 5. Define a function named remove_stopwords. It should accept some text and return the text after removing all the stopwords."
   ]
  },
  {
   "cell_type": "code",
   "execution_count": 13,
   "id": "f6306cae-87c1-450a-8645-cd9bec0f1ba7",
   "metadata": {},
   "outputs": [],
   "source": [
    "def remove_stopwords(article, article_lemma):\n",
    "    \"\"\"\n",
    "    Words which have little or no significance, especially when constructing\n",
    "    meaningful features from text, are known as stopwords.\n",
    "    - example: a, an, the, and like\n",
    "\n",
    "    We will use a standard English language stopwords list from nltk\n",
    "    \"\"\"\n",
    "    #save stopwords\n",
    "    stopwords_ls = stopwords.words('english')\n",
    "    \n",
    "    #split words in lemmatized article\n",
    "    words = article_lemma.split()\n",
    "    \n",
    "    #remove stopwords from list of words\n",
    "    filtered = [word for word in words if word not in stopwords_ls]\n",
    "    \n",
    "    #join words back together\n",
    "    rem_stopwords = ' '.join(filtered)\n",
    "    \n",
    "    return rem_stopwords"
   ]
  },
  {
   "cell_type": "code",
   "execution_count": 14,
   "id": "5b39cc1e-a9e2-472a-b189-fed218944664",
   "metadata": {
    "scrolled": true,
    "tags": []
   },
   "outputs": [
    {
     "data": {
      "text/plain": [
       "'May traditionally known Asian American Pacific Islander (AAPI) Heritage Month. This month celebrate history contribution made possible AAPI friends, family, community. We also examine level support seek opportunity better understand AAPI community. In effort address real concern experiences, sat Arbeena Thapa, one Codeup’s Financial Aid Enrollment Managers. Arbeena identifies Nepali American Desi. Arbeena’s parent immigrated Texas 1988 better employment educational opportunities. Arbeena’s older sister wa five made move US. Arbeena wa born later, becoming first family US citizen. At Codeup take effort inclusivity seriously. After speaking Arbeena, taught term AAPI excludes Desi-American individuals. Hence, use term Asian Pacific Islander Desi American (APIDA). Here rest conversation Arbeena went! How celebrate connect heritage cultural traditions? “I celebrate Nepal’s version Christmas Dashain. This nine-day celebration also known Dussehra. I grew Hindu I identify Hindu, large part heritage. “ “Other way I connect culture include sharing food! Momos South Asian Dumplings they’re favorite make share.” “On Asian American side, I advocate immigrant justice erasure within APIDA social political movements. I participate event embrace identity immigrant justice advocacy I come mixed-status family. I’ve always community undocumented Asian immigrants. .” What challenge faced APIDA individual, personally professionally? “I often struggle gendered compliant pushover. Professionally, I often stereotyped meek, I’ve overlooked leadership roles. We seen perpetually foreign; people tend u way, yet put u pedestal model minority look like. This ha made hesitant share heritage past assumption get mapped onto me. ” Can describe common barrier entry APIDA individuals, specifically woman may face trying enter advance workplace? “Being overlooked leadership. In past, I viewed leader. People sometimes preconceived stereotype Asian woman able bold, vocal mistaken emotional. “ How believe microaggressions impact APIDA individual workplace? Can provide example microaggressions? “Erasure big. To me, saying ‘Merry Christmas’ isn’t inclusive religions. People often resistant saying ‘Happy Holidays,’ saying Merry Christmas excludes, doe appreciate heritage. “ “Often microaggressions micro all. They typically aggressive racialized violence, term ‘micro’ minimizes impact.” “Some I’ve heard ‘What kind Asian you?’ ‘Where from?’ This automatically make ‘other’ seen American. Even within APIDA community, South Asians overlooked “Asian”.” How important representation, specifically APIDA representation, organizational leadership positions? “I want say important someone look like leadership roles, is, leader may share belief you. Certain privilege wealth, resources, lack interaction lower-socioeconomic-status Asian Americans may cause difference community politics. I think bamboo ceiling acceptable, company work play big part politics belief alignment.” How feel code-switching, ever felt necessary code-switch? “I like sharing South Asian term connecting others similar heritage culture. A workplace welcoming going sort breakout refreshing make space us. However, code-switch could also mean workplace conducive welcoming cultures. “ Finally, opinion, long-term strategy create lasting change workplace ensure support, equality, inclusion APIDA individuals? “Prior career financial aid, I lot research related post-9/11 immigration South Asian diaspora. This background made heavily rely grassroots organizing. Hire people want innovate, hire changemakers, hire button-pushers. Reduce reliance whiteness change. This become natural organization become organizational change. Change come u ground.” A huge thank Arbeena Thapa sharing experiences, vulnerable us. Your word inspiring opportunity understand perspective ha valuable. We hope become better support APIDA community learn grow journey cultivating inclusive growth.'"
      ]
     },
     "execution_count": 14,
     "metadata": {},
     "output_type": "execute_result"
    }
   ],
   "source": [
    "rem_stopwords = remove_stopwords(blog_articles[0]['content'], article_lemma)\n",
    "rem_stopwords"
   ]
  },
  {
   "cell_type": "markdown",
   "id": "8226ccca-535f-4ff9-a9fe-20af32d60841",
   "metadata": {},
   "source": [
    "## This function should define two optional parameters, extra_words and exclude_words. These parameters should define any additional stop words to include, and any words that we don't want to remove."
   ]
  },
  {
   "cell_type": "code",
   "execution_count": 15,
   "id": "13b0b8bb-9a63-4e38-8197-00ad32d81fbb",
   "metadata": {},
   "outputs": [],
   "source": [
    "#set a list to add some stopwords IF THEY ARE NEEDED!\n",
    "extra_words = ['all', 'about','after']"
   ]
  },
  {
   "cell_type": "code",
   "execution_count": 16,
   "id": "685440b3-cbab-44e8-ab3c-3ffe55f35f93",
   "metadata": {},
   "outputs": [],
   "source": [
    "#set a list to remove some stopwords IF THEY ARE NEEDED!\n",
    "exclude_words = ['aaa']"
   ]
  },
  {
   "cell_type": "code",
   "execution_count": 17,
   "id": "b930e414-7e49-4de0-b741-101c345835b5",
   "metadata": {},
   "outputs": [],
   "source": [
    "def remove_stopwords(article_lemma, extra_words, exclude_words):\n",
    "    \"\"\"\n",
    "    Words which have little or no significance, especially when constructing\n",
    "    meaningful features from text, are known as stopwords.\n",
    "    - example: a, an, the, and like\n",
    "\n",
    "    We will use a standard English language stopwords list from nltk\n",
    "    \"\"\"\n",
    "    #save stopwords\n",
    "    stopwords_ls = stopwords.words('english')\n",
    "    \n",
    "    # remove extra words\n",
    "    stopwords_ls = set(stopwords_ls) - set(exclude_words)\n",
    "\n",
    "    # add to stopword list\n",
    "    stopwords_ls = set(stopwords_ls).union(extra_words)\n",
    "    \n",
    "    #split words in lemmatized article\n",
    "    words = article_lemma.split()\n",
    "    \n",
    "    #remove stopwords from list of words\n",
    "    filtered = [word for word in words if word not in stopwords_ls]\n",
    "    \n",
    "    #join words back together\n",
    "    rem_stopwords = ' '.join(filtered)\n",
    "    \n",
    "    return rem_stopwords"
   ]
  },
  {
   "cell_type": "code",
   "execution_count": 18,
   "id": "6a007107-29ce-4a34-accd-3924f3e8336d",
   "metadata": {
    "scrolled": true,
    "tags": []
   },
   "outputs": [
    {
     "data": {
      "text/plain": [
       "'May is traditionally known a Asian American and Pacific Islander (AAPI) Heritage Month. This month we celebrate the history and contribution made possible by our AAPI friends, family, and community. We also examine our level of support and seek opportunity to better understand the AAPI community. In an effort to address real concern and experiences, we sat down with Arbeena Thapa, one of Codeup’s Financial Aid and Enrollment Managers. Arbeena identifies a Nepali American and Desi. Arbeena’s parent immigrated to Texas in 1988 for better employment and educational opportunities. Arbeena’s older sister wa five when they made the move to the US. Arbeena wa born later, becoming the first in her family to be a US citizen. At Codeup we take our effort at inclusivity very seriously. After speaking with Arbeena, we were taught that the term AAPI excludes Desi-American individuals. Hence, we will now use the term Asian Pacific Islander Desi American (APIDA). Here is how the rest of our conversation with Arbeena went! How do you celebrate or connect with your heritage and cultural traditions? “I celebrate Nepal’s version of Christmas or Dashain. This is a nine-day celebration also known a Dussehra. I grew up a Hindu and I identify a Hindu, this is a very large part of my heritage. “ “Other way I connect with my culture include sharing food! Momos are South Asian Dumplings and they’re my favorite to make and share.” “On my Asian American side, I am an advocate of immigrant justice and erasure within APIDA social or political movements. I participate in event to embrace my identity such a immigrant justice advocacy because I come from a mixed-status family. I’ve always been in a community with undocumented Asian immigrants. .” What are some of the challenge you have faced a an APIDA individual, personally or professionally? “I often struggle with being gendered a compliant or a pushover. Professionally, I am often stereotyped a meek, so I’ve been overlooked for leadership roles. We are seen a perpetually foreign; people tend to other u in that way, yet put u on a pedestal for what a model minority look like. This ha made me hesitant to share my heritage in the past because these assumption get mapped onto me. ” Can you describe some common barrier of entry that APIDA individuals, specifically woman may face when trying to enter or advance in the workplace? “Being overlooked for leadership. In the past, I have not been viewed a a leader. People sometimes have preconceived stereotype of Asian woman not being able to be bold, or being vocal can be mistaken for being too emotional. “ How do you believe microaggressions impact APIDA individual in the workplace? Can you provide example of such microaggressions? “Erasure is big. To me, only saying ‘Merry Christmas’ isn’t inclusive to other religions. People are often resistant to saying ‘Happy Holidays,’ but saying Merry Christmas excludes, and doe not appreciate my heritage. “ “Often microaggressions are not micro at all. They typically are not aggressive racialized violence, but the term ‘micro’ minimizes impact.” “Some that I’ve heard are ‘What kind of Asian are you?’ or ‘Where are you from?’ This automatically make me the ‘other’ and not seen a American. Even within the APIDA community, South Asians are overlooked a “Asian”.” How important is representation, specifically APIDA representation, in organizational leadership positions? “I want to say that it is important to have someone who look like you in leadership roles, and it is, but those leader may not share the same belief a you. Certain privilege such a wealth, resources, or lack of interaction with lower-socioeconomic-status Asian Americans may cause a difference in community politics. I do not think the bamboo ceiling is acceptable, but the company you work for play a big part in your politics and belief alignment.” How do you feel about code-switching, and have you ever felt it necessary to code-switch? “I like sharing South Asian term or connecting with others that have similar heritage and culture. A workplace that is welcoming to going into this sort of breakout is refreshing and make space for us. However, having to code-switch could also mean a workplace that is not conducive and welcoming of other cultures. “ Finally, in your opinion, what long-term strategy can create lasting change in the workplace and ensure support, equality, and inclusion for APIDA individuals? “Prior to a career in financial aid, I did a lot of research related to the post-9/11 immigration of the South Asian diaspora. This background made me heavily rely on grassroots organizing. Hire the people that want to innovate, hire the changemakers, hire the button-pushers. Reduce reliance on whiteness a change. This will become natural for the organization and become organizational change. Change come from u on the ground.” A huge thank you to Arbeena Thapa for sharing her experiences, and being vulnerable with us. Your word were inspiring and the opportunity to understand your perspective more ha been valuable. We hope we can become better support for the APIDA community a we learn and grow on our journey of cultivating inclusive growth.'"
      ]
     },
     "execution_count": 18,
     "metadata": {},
     "output_type": "execute_result"
    }
   ],
   "source": [
    "article_lemma"
   ]
  },
  {
   "cell_type": "code",
   "execution_count": 19,
   "id": "fb5713b0-6d3c-4f83-a91b-6b01b75c37e7",
   "metadata": {
    "scrolled": true,
    "tags": []
   },
   "outputs": [
    {
     "data": {
      "text/plain": [
       "'May traditionally known Asian American Pacific Islander (AAPI) Heritage Month. This month celebrate history contribution made possible AAPI friends, family, community. We also examine level support seek opportunity better understand AAPI community. In effort address real concern experiences, sat Arbeena Thapa, one Codeup’s Financial Aid Enrollment Managers. Arbeena identifies Nepali American Desi. Arbeena’s parent immigrated Texas 1988 better employment educational opportunities. Arbeena’s older sister wa five made move US. Arbeena wa born later, becoming first family US citizen. At Codeup take effort inclusivity seriously. After speaking Arbeena, taught term AAPI excludes Desi-American individuals. Hence, use term Asian Pacific Islander Desi American (APIDA). Here rest conversation Arbeena went! How celebrate connect heritage cultural traditions? “I celebrate Nepal’s version Christmas Dashain. This nine-day celebration also known Dussehra. I grew Hindu I identify Hindu, large part heritage. “ “Other way I connect culture include sharing food! Momos South Asian Dumplings they’re favorite make share.” “On Asian American side, I advocate immigrant justice erasure within APIDA social political movements. I participate event embrace identity immigrant justice advocacy I come mixed-status family. I’ve always community undocumented Asian immigrants. .” What challenge faced APIDA individual, personally professionally? “I often struggle gendered compliant pushover. Professionally, I often stereotyped meek, I’ve overlooked leadership roles. We seen perpetually foreign; people tend u way, yet put u pedestal model minority look like. This ha made hesitant share heritage past assumption get mapped onto me. ” Can describe common barrier entry APIDA individuals, specifically woman may face trying enter advance workplace? “Being overlooked leadership. In past, I viewed leader. People sometimes preconceived stereotype Asian woman able bold, vocal mistaken emotional. “ How believe microaggressions impact APIDA individual workplace? Can provide example microaggressions? “Erasure big. To me, saying ‘Merry Christmas’ isn’t inclusive religions. People often resistant saying ‘Happy Holidays,’ saying Merry Christmas excludes, doe appreciate heritage. “ “Often microaggressions micro all. They typically aggressive racialized violence, term ‘micro’ minimizes impact.” “Some I’ve heard ‘What kind Asian you?’ ‘Where from?’ This automatically make ‘other’ seen American. Even within APIDA community, South Asians overlooked “Asian”.” How important representation, specifically APIDA representation, organizational leadership positions? “I want say important someone look like leadership roles, is, leader may share belief you. Certain privilege wealth, resources, lack interaction lower-socioeconomic-status Asian Americans may cause difference community politics. I think bamboo ceiling acceptable, company work play big part politics belief alignment.” How feel code-switching, ever felt necessary code-switch? “I like sharing South Asian term connecting others similar heritage culture. A workplace welcoming going sort breakout refreshing make space us. However, code-switch could also mean workplace conducive welcoming cultures. “ Finally, opinion, long-term strategy create lasting change workplace ensure support, equality, inclusion APIDA individuals? “Prior career financial aid, I lot research related post-9/11 immigration South Asian diaspora. This background made heavily rely grassroots organizing. Hire people want innovate, hire changemakers, hire button-pushers. Reduce reliance whiteness change. This become natural organization become organizational change. Change come u ground.” A huge thank Arbeena Thapa sharing experiences, vulnerable us. Your word inspiring opportunity understand perspective ha valuable. We hope become better support APIDA community learn grow journey cultivating inclusive growth.'"
      ]
     },
     "execution_count": 19,
     "metadata": {},
     "output_type": "execute_result"
    }
   ],
   "source": [
    "rem_stopwords = remove_stopwords(article_lemma, extra_words, exclude_words)\n",
    "rem_stopwords"
   ]
  },
  {
   "cell_type": "markdown",
   "id": "ab3bd98d-4870-43b6-8ffd-04f8a7bbd782",
   "metadata": {},
   "source": [
    "## 6. Use your data from the acquire to produce a dataframe of the news articles. Name the dataframe news_df."
   ]
  },
  {
   "cell_type": "code",
   "execution_count": 20,
   "id": "abcb4890-089b-4b37-a404-3ec3c191d445",
   "metadata": {
    "scrolled": true,
    "tags": []
   },
   "outputs": [
    {
     "data": {
      "text/html": [
       "<div>\n",
       "<style scoped>\n",
       "    .dataframe tbody tr th:only-of-type {\n",
       "        vertical-align: middle;\n",
       "    }\n",
       "\n",
       "    .dataframe tbody tr th {\n",
       "        vertical-align: top;\n",
       "    }\n",
       "\n",
       "    .dataframe thead th {\n",
       "        text-align: right;\n",
       "    }\n",
       "</style>\n",
       "<table border=\"1\" class=\"dataframe\">\n",
       "  <thead>\n",
       "    <tr style=\"text-align: right;\">\n",
       "      <th></th>\n",
       "      <th>category</th>\n",
       "      <th>title</th>\n",
       "      <th>content</th>\n",
       "    </tr>\n",
       "  </thead>\n",
       "  <tbody>\n",
       "    <tr>\n",
       "      <th>0</th>\n",
       "      <td>business</td>\n",
       "      <td>Sensex, Nifty end at fresh closing highs</td>\n",
       "      <td>Benchmark indices Sensex and Nifty ended at record closing highs on Wednesday. Sensex ended 195 points higher at 63,523 while the Nifty ended at 18,856.85, up 40 points. The gains were led by stocks like HDFC, Reliance Industries and TCS. During the intraday trade, Sensex rose to its fresh record high level of 63,588.</td>\n",
       "    </tr>\n",
       "    <tr>\n",
       "      <th>1</th>\n",
       "      <td>business</td>\n",
       "      <td>Amazon tricked millions of customers into enrolling in Prime: US FTC</td>\n",
       "      <td>US Federal Trade Commission (FTC) has sued Amazon, accusing it of tricking millions of consumers into signing up for its Prime subscription without their consent. \"Amazon used manipulative, coercive or deceptive user-interface designs known as 'dark patterns' to trick consumers into enrolling in automatically-renewing Prime subscriptions,\" US FTC said. Prime members in the US pay $139 per year.</td>\n",
       "    </tr>\n",
       "    <tr>\n",
       "      <th>2</th>\n",
       "      <td>business</td>\n",
       "      <td>TIME releases list of the world's 100 most influential companies</td>\n",
       "      <td>TIME magazine has released its annual list of the world's 100 most influential companies, which features OpenAI, SpaceX, Chess.com, Google DeepMind and Kim Kardashian's SKIMS among others. The National Payments Corporation of India (NPCI) and e-commerce platform Meesho also featured on the list. \"NPCI launched UPI...which accounted for 52% of India's digital transactions in FY22,\" TIME said.</td>\n",
       "    </tr>\n",
       "    <tr>\n",
       "      <th>3</th>\n",
       "      <td>business</td>\n",
       "      <td>Which are the world's top 10 airlines according to passengers?</td>\n",
       "      <td>Singapore Airlines is the world's best airline, according to Skytrax World Airline Awards 2023, an annual poll of flyers released at the Paris Air Show. It is followed by Qatar Airways, All Nippon Airways, Emirates, Japan Airlines, Turkish Airlines, Air France, Cathay Pacific, EVA Air, and Korean Air. Vistara, ranked 16th, is the only Indian airline in the top 20.</td>\n",
       "    </tr>\n",
       "    <tr>\n",
       "      <th>4</th>\n",
       "      <td>business</td>\n",
       "      <td>Grab lays off over 1,000 employees</td>\n",
       "      <td>Singapore-based ride-hailing and food delivery app Grab has laid off over 1,000 employees. This is Grab's largest round of layoffs since 2020, when it cut 360 jobs in response to COVID-19 pandemic challenges. \"I want to be clear that we're not doing this as a shortcut to profitability,\" Group CEO and Co-Founder Anthony Tan said in an e-mail to employees.</td>\n",
       "    </tr>\n",
       "    <tr>\n",
       "      <th>...</th>\n",
       "      <td>...</td>\n",
       "      <td>...</td>\n",
       "      <td>...</td>\n",
       "    </tr>\n",
       "    <tr>\n",
       "      <th>95</th>\n",
       "      <td>entertainment</td>\n",
       "      <td>He was wonderful: Harrison Ford on 'Indiana..' co-star Amrish Puri</td>\n",
       "      <td>Actor Harrison Ford remembered late actor Amrish Puri, who had worked in 1984's 'Indiana Jones and the Temple of Doom'. \"He was a wonderful person...very charming man. (He was) nothing like the character that he played...Very sophisticated. I really admired him...enjoyed working with him,\" Ford said about Puri in an interview. The 1984 film featured Puri as the antagonist.</td>\n",
       "    </tr>\n",
       "    <tr>\n",
       "      <th>96</th>\n",
       "      <td>entertainment</td>\n",
       "      <td>Admire her audacity: Mahesh Bhatt on Pooja entering 'Bigg Boss...'</td>\n",
       "      <td>Filmmaker Mahesh Bhatt reacted to his daughter Pooja Bhatt's participation in 'Bigg Boss OTT 2'. \"Life's greatest adventures begin when we step into the realm of the unknown with courage and curiosity. She has done just that. I admire her audacity,\" Bhatt told ETimes. Pooja, on the show, had opened up about battling alcohol addiction at the age of 44.</td>\n",
       "    </tr>\n",
       "    <tr>\n",
       "      <th>97</th>\n",
       "      <td>entertainment</td>\n",
       "      <td>Kartik made me wait during 'Bhool...', I used to scold him: Kiara</td>\n",
       "      <td>Actress Kiara Advani, while talking about her 'Satyaprem Ki Katha' co-actor Kartik Aaryan, said the actor used to make her wait during the shoot of their 2022 film 'Bhool Bhulaiyaa 2'. \"I used to scold Kartik, would tell him not to come late this time over and make me wait,\" Kiara said. \"We've grown professionally and personally,\" she added.</td>\n",
       "    </tr>\n",
       "    <tr>\n",
       "      <th>98</th>\n",
       "      <td>entertainment</td>\n",
       "      <td>It was hard to find 300 transgender people for 'Haddi': Producer</td>\n",
       "      <td>Producer Sanjay Saha said that finding 300 transgender people for Nawazuddin Siddiqui's 'Haddi' was \"very adventurous and hard\". He added that a transwoman named Renuka helped the filmmakers to learn about transgender community. \"She had brought some of her friends from the community to Nawaz so that he could get into the character and deeply understand their life,\" he added.</td>\n",
       "    </tr>\n",
       "    <tr>\n",
       "      <th>99</th>\n",
       "      <td>entertainment</td>\n",
       "      <td>Asked Alia 'What is it that H'wood has', she said money: Mahesh</td>\n",
       "      <td>Filmmaker Mahesh Bhatt said he once asked Alia Bhatt that what does Hollywood has that Indian cinema doesn't. \"Her straight reply was 'Money'. She said it with great humility. She also said that they've a way of doing things...they're very professional,\" he recalled. Commenting on Alia's Hollywood debut with 'Heart of Stone', Mahesh said, \"My heart soars with pride.\"</td>\n",
       "    </tr>\n",
       "  </tbody>\n",
       "</table>\n",
       "<p>100 rows × 3 columns</p>\n",
       "</div>"
      ],
      "text/plain": [
       "         category  \\\n",
       "0        business   \n",
       "1        business   \n",
       "2        business   \n",
       "3        business   \n",
       "4        business   \n",
       "..            ...   \n",
       "95  entertainment   \n",
       "96  entertainment   \n",
       "97  entertainment   \n",
       "98  entertainment   \n",
       "99  entertainment   \n",
       "\n",
       "                                                                   title  \\\n",
       "0                               Sensex, Nifty end at fresh closing highs   \n",
       "1   Amazon tricked millions of customers into enrolling in Prime: US FTC   \n",
       "2       TIME releases list of the world's 100 most influential companies   \n",
       "3         Which are the world's top 10 airlines according to passengers?   \n",
       "4                                     Grab lays off over 1,000 employees   \n",
       "..                                                                   ...   \n",
       "95    He was wonderful: Harrison Ford on 'Indiana..' co-star Amrish Puri   \n",
       "96    Admire her audacity: Mahesh Bhatt on Pooja entering 'Bigg Boss...'   \n",
       "97     Kartik made me wait during 'Bhool...', I used to scold him: Kiara   \n",
       "98      It was hard to find 300 transgender people for 'Haddi': Producer   \n",
       "99       Asked Alia 'What is it that H'wood has', she said money: Mahesh   \n",
       "\n",
       "                                                                                                                                                                                                                                                                                                                                                                                                          content  \n",
       "0                                                                                Benchmark indices Sensex and Nifty ended at record closing highs on Wednesday. Sensex ended 195 points higher at 63,523 while the Nifty ended at 18,856.85, up 40 points. The gains were led by stocks like HDFC, Reliance Industries and TCS. During the intraday trade, Sensex rose to its fresh record high level of 63,588.   \n",
       "1   US Federal Trade Commission (FTC) has sued Amazon, accusing it of tricking millions of consumers into signing up for its Prime subscription without their consent. \"Amazon used manipulative, coercive or deceptive user-interface designs known as 'dark patterns' to trick consumers into enrolling in automatically-renewing Prime subscriptions,\" US FTC said. Prime members in the US pay $139 per year.  \n",
       "2      TIME magazine has released its annual list of the world's 100 most influential companies, which features OpenAI, SpaceX, Chess.com, Google DeepMind and Kim Kardashian's SKIMS among others. The National Payments Corporation of India (NPCI) and e-commerce platform Meesho also featured on the list. \"NPCI launched UPI...which accounted for 52% of India's digital transactions in FY22,\" TIME said.  \n",
       "3                                  Singapore Airlines is the world's best airline, according to Skytrax World Airline Awards 2023, an annual poll of flyers released at the Paris Air Show. It is followed by Qatar Airways, All Nippon Airways, Emirates, Japan Airlines, Turkish Airlines, Air France, Cathay Pacific, EVA Air, and Korean Air. Vistara, ranked 16th, is the only Indian airline in the top 20.  \n",
       "4                                            Singapore-based ride-hailing and food delivery app Grab has laid off over 1,000 employees. This is Grab's largest round of layoffs since 2020, when it cut 360 jobs in response to COVID-19 pandemic challenges. \"I want to be clear that we're not doing this as a shortcut to profitability,\" Group CEO and Co-Founder Anthony Tan said in an e-mail to employees.  \n",
       "..                                                                                                                                                                                                                                                                                                                                                                                                            ...  \n",
       "95                        Actor Harrison Ford remembered late actor Amrish Puri, who had worked in 1984's 'Indiana Jones and the Temple of Doom'. \"He was a wonderful person...very charming man. (He was) nothing like the character that he played...Very sophisticated. I really admired him...enjoyed working with him,\" Ford said about Puri in an interview. The 1984 film featured Puri as the antagonist.  \n",
       "96                                             Filmmaker Mahesh Bhatt reacted to his daughter Pooja Bhatt's participation in 'Bigg Boss OTT 2'. \"Life's greatest adventures begin when we step into the realm of the unknown with courage and curiosity. She has done just that. I admire her audacity,\" Bhatt told ETimes. Pooja, on the show, had opened up about battling alcohol addiction at the age of 44.   \n",
       "97                                                        Actress Kiara Advani, while talking about her 'Satyaprem Ki Katha' co-actor Kartik Aaryan, said the actor used to make her wait during the shoot of their 2022 film 'Bhool Bhulaiyaa 2'. \"I used to scold Kartik, would tell him not to come late this time over and make me wait,\" Kiara said. \"We've grown professionally and personally,\" she added.  \n",
       "98                    Producer Sanjay Saha said that finding 300 transgender people for Nawazuddin Siddiqui's 'Haddi' was \"very adventurous and hard\". He added that a transwoman named Renuka helped the filmmakers to learn about transgender community. \"She had brought some of her friends from the community to Nawaz so that he could get into the character and deeply understand their life,\" he added.   \n",
       "99                              Filmmaker Mahesh Bhatt said he once asked Alia Bhatt that what does Hollywood has that Indian cinema doesn't. \"Her straight reply was 'Money'. She said it with great humility. She also said that they've a way of doing things...they're very professional,\" he recalled. Commenting on Alia's Hollywood debut with 'Heart of Stone', Mahesh said, \"My heart soars with pride.\"  \n",
       "\n",
       "[100 rows x 3 columns]"
      ]
     },
     "execution_count": 20,
     "metadata": {},
     "output_type": "execute_result"
    }
   ],
   "source": [
    "news_articles = a.get_news_articles()\n",
    "news_df = pd.DataFrame(news_articles)\n",
    "news_df"
   ]
  },
  {
   "cell_type": "markdown",
   "id": "f53f4ace-2804-463a-b300-ed2ec4b77396",
   "metadata": {},
   "source": [
    "## 7. Make another dataframe for the Codeup blog posts. Name the dataframe codeup_df."
   ]
  },
  {
   "cell_type": "code",
   "execution_count": 21,
   "id": "9ecb2ae6-2925-41d7-8c57-01912e4cb9b5",
   "metadata": {
    "scrolled": true,
    "tags": []
   },
   "outputs": [
    {
     "data": {
      "text/html": [
       "<div>\n",
       "<style scoped>\n",
       "    .dataframe tbody tr th:only-of-type {\n",
       "        vertical-align: middle;\n",
       "    }\n",
       "\n",
       "    .dataframe tbody tr th {\n",
       "        vertical-align: top;\n",
       "    }\n",
       "\n",
       "    .dataframe thead th {\n",
       "        text-align: right;\n",
       "    }\n",
       "</style>\n",
       "<table border=\"1\" class=\"dataframe\">\n",
       "  <thead>\n",
       "    <tr style=\"text-align: right;\">\n",
       "      <th></th>\n",
       "      <th>title</th>\n",
       "      <th>content</th>\n",
       "    </tr>\n",
       "  </thead>\n",
       "  <tbody>\n",
       "    <tr>\n",
       "      <th>0</th>\n",
       "      <td>Spotlight on APIDA Voices: Celebrating Heritage and Inspiring Change ft. Arbeena Thapa</td>\n",
       "      <td>May is traditionally known as Asian American and Pacific Islander (AAPI) Heritage Month. This month we celebrate the history and contributions made possible by our AAPI friends, family, and community. We also examine our level of support and seek opportunities to better understand the AAPI community.  In an effort to address real concerns and experiences, we sat down with Arbeena Thapa, one of Codeup’s Financial Aid and Enrollment Managers. Arbeena identifies as Nepali American and Desi. Arbeena’s parents immigrated to Texas in 1988 for better employment and educational opportunities. Arbeena’s older sister was five when they made the move to the US. Arbeena was born later, becoming the first in her family to be a US citizen. At Codeup we take our efforts at inclusivity very seriously. After speaking with Arbeena, we were taught that the term AAPI excludes Desi-American individuals. Hence, we will now use the term Asian Pacific Islander Desi American (APIDA). Here is how the rest of our conversation with Arbeena went! How do you celebrate or connect with your heritage and cultural traditions? “I celebrate Nepal’s version of Christmas or Dashain. This is a nine-day celebration also known as Dussehra. I grew up as Hindu and I identify as Hindu, this is a very large part of my heritage. “ “Other ways I connect with my culture include sharing food! Momos are South Asian Dumplings and they’re my favorite to make and share.” “On my Asian American side, I am an advocate of immigrant justice and erasure within APIDA social or political movements. I participate in events to embrace my identity such as immigrant justice advocacy because I come from a mixed-status family. I’ve always been in a community with undocumented Asian immigrants. .” What are some of the challenges you have faced as an APIDA individual, personally or professionally? “I often struggle with being gendered as compliant or a pushover. Professionally, I am often stereotyped as meek, so I’ve been overlooked for leadership roles. We are seen as perpetually foreign; people tend to other us in that way, yet put us on a pedestal for what a model minority looks like. This has made me hesitant to share my heritage in the past because these assumptions get mapped onto me. ” Can you describe some common barriers of entry that APIDA individuals, specifically women may face when trying to enter or advance in the workplace? “Being overlooked for leadership. In the past, I have not been viewed as a leader. People sometimes have preconceived stereotypes of Asian women not being able to be bold, or being vocal can be mistaken for being too emotional. “ How do you believe microaggressions impact APIDA individuals in the workplace? Can you provide examples of such microaggressions? “Erasure is big. To me, only saying ‘Merry Christmas’ isn’t inclusive to other religions. People are often resistant to saying ‘Happy Holidays,’ but saying Merry Christmas excludes, and does not appreciate my heritage. “ “Often microaggressions are not micro at all. They typically are not aggressive racialized violence, but the term ‘micro’ minimizes impact.” “Some that I’ve heard are ‘What kind of Asian are you?’ or ‘Where are you from?’ This automatically makes me the ‘other’ and not seen as American. Even within the APIDA community, South Asians are overlooked as “Asian”.” How important is representation, specifically APIDA representation, in organizational leadership positions? “I want to say that it is important to have someone who looks like you in leadership roles, and it is, but those leaders may not share the same beliefs as you. Certain privileges such as wealth, resources, or lack of interaction with lower-socioeconomic-status Asian Americans may cause a difference in community politics. I do not think the bamboo ceiling is acceptable, but the company you work for plays a big part in your politics and belief alignment.” How do you feel about code-switching, and have you ever felt it necessary to code-switch? “I like sharing South Asian terms or connecting with others that have similar heritage and culture. A workplace that is welcoming to going into this sort of breakout is refreshing and makes space for us. However, having to code-switch could also mean a workplace that is not conducive and welcoming of other cultures. “ Finally, in your opinion, what long-term strategies can create lasting change in the workplace and ensure support, equality, and inclusion for APIDA individuals? “Prior to a career in financial aid, I did a lot of research related to the post-9/11 immigration of the South Asian diaspora. This background made me heavily rely on grassroots organizing. Hire the people that want to innovate, hire the changemakers, hire the button-pushers. Reduce reliance on whiteness as change. This will become natural for the organization and become organizational change. Change comes from us on the ground.” A huge thank you to Arbeena Thapa for sharing her experiences, and being vulnerable with us. Your words were inspiring and the opportunity to understand your perspective more has been valuable. We hope we can become better support for the APIDA community as we learn and grow on our journey of cultivating inclusive growth.</td>\n",
       "    </tr>\n",
       "    <tr>\n",
       "      <th>1</th>\n",
       "      <td>Women in tech: Panelist Spotlight – Magdalena Rahn</td>\n",
       "      <td>Women in tech: Panelist Spotlight – Magdalena Rahn Codeup is hosting a Women in Tech Panel in honor of Women’s History Month on March 29th, 2023! To further celebrate, we’d like to spotlight each of our panelists leading up to the discussion to learn a bit about their respective experiences as women in the tech industry!  Meet Magdalena! Magdalena Rahn is a current Codeup student in a Data Science cohort in San Antonio, Texas. She has a professional background in cross-cultural communications, international business development, the wine industry and journalism. After serving in the US Navy, she decided to complement her professional skill set by attending the Data Science program at Codeup; she is set to graduate in March 2023. Magdalena is fluent in French, Bulgarian, Chinese-Mandarin, Spanish and Italian. We asked Magdalena how Codeup impacted her career, and she replied “Codeup has provided a solid foundation in analytical processes, programming and data science methods, and it’s been an encouragement to have such supportive instructors and wonderful classmates.” Don’t forget to tune in on March 29th to sit in on an insightful conversation with Magdalena.</td>\n",
       "    </tr>\n",
       "    <tr>\n",
       "      <th>2</th>\n",
       "      <td>Women in tech: Panelist Spotlight – Rachel Robbins-Mayhill</td>\n",
       "      <td>Women in tech: Panelist Spotlight – Rachel Robbins-Mayhill Codeup is hosting a Women in Tech Panel in honor of Women’s History Month on March 29th, 2023! To further celebrate, we’d like to spotlight each of our panelists leading up to the discussion to learn a bit about their respective experiences as women in the tech industry! Meet Rachel!  Rachel Robbins-Mayhill is a Decision Science Analyst I in San Antonio, Texas. Rachel has had a varied career that includes counseling, teaching, training, community development, and military operations. Her focus has always been on assessing needs, identifying solutions, and educating individuals and groups on aligning needs and solutions in different contexts. Rachel’s passion for data science stems from her belief that data is a powerful tool for communicating patterns that can lead to hope and growth in the future. In June 2022, Rachel graduated from Codeup’s Innis cohort, where she honed her skills in data science. Shortly after, she started working as a Data Science Technical Writer with Apex Systems as a Contractor for USAA in July 2022. Her unconventional role allowed her to understand where her skills could be best utilized to support USAA in a non-contract role. Rachel recently joined USAA’s Data Science Delivery team as a Decision Science Analyst I in February 2023. The team is focused on delivering machine learning models for fraud prevention, and Rachel’s particular role centers around providing strategic process solutions for the team in collaboration with Operational and Model Risk components. In addition to her career, Rachel is currently pursuing a master’s degree in Applied Data Science from Syracuse University, further expanding her knowledge and skills in the field. Rachel is passionate about collaborating with individuals who share her belief in the potential of others and strive to achieve growth through logical, informed action. She welcomes LinkedIn connections and is excited about supporting the network of CodeUp alumni! We asked Rachel how Codeup impacted her career, and she replied “Codeup delivered a comprehensive education in all facets of the data science pipeline, laying a strong foundation for me to build upon. Through repeated hands-on practice, I developed a reliable process that was immediately applicable in my job. Collaborative group projects were instrumental in helping me hone my skills in project management, allowing me to navigate complex data science projects with comfortability. Thanks to this invaluable experience, I was able to make significant strides in my career within just six months of graduating from Codeup.” Don’t forget to tune in on March 29th to sit in on an insightful conversation.</td>\n",
       "    </tr>\n",
       "    <tr>\n",
       "      <th>3</th>\n",
       "      <td>Women in Tech: Panelist Spotlight – Sarah Mellor</td>\n",
       "      <td>Women in tech: Panelist Spotlight – Sarah Mellor  Codeup is hosting a Women in Tech Panel in honor of Women’s History Month on March 29th, 2023! To further celebrate, we’d like to spotlight each of our panelists leading up to the discussion to learn a bit about their respective experiences as women in the tech industry! Meet Sarah! Sarah Mellor currently works as the Director of People Operations. She joined Codeup four and a half years ago as an Admissions Manager. She went on to build out and lead the Marketing and Admissions team, while picking up People Ops tasks and projects here and there until moving over to lead the People Ops team two years ago. Prior to Codeup, she worked at education-focused non-profits in Washington, DC and Boulder, Colorado. She graduated from Wake Forest University. We asked Sarah how Codeup has impacted her career, and her response was “I have absolutely loved having the privilege to grow alongside Codeup. In my time here across multiple different roles and departments, I’ve seen a lot of change. The consistent things have always been the high quality of passionate and hardworking people I get to work with; the impactful mission we get to work on; and the inspiring students who trust us with their career change.” Don’t forget to tune in on March 29th to sit in on an insightful conversation.</td>\n",
       "    </tr>\n",
       "    <tr>\n",
       "      <th>4</th>\n",
       "      <td>Women in Tech: Panelist Spotlight – Madeleine Capper</td>\n",
       "      <td>Women in tech: Panelist Spotlight – Madeleine Capper Codeup is hosting a Women in Tech Panel in honor of Women’s History Month on March 29th, 2023! To further celebrate, we’d like to spotlight each of our panelists leading up to the discussion to learn a bit about their respective experiences as women in the tech industry! Meet Madeleine! Madeleine Capper is a Data Scientist in San Antonio, Texas. A long-standing San Antonio resident, she studied mathematics at the University of Texas San Antonio and has worked as a Data Scientist for Booz Allen Hamilton. Madeleine currently teaches Data Science at Codeup, where she works daily with burgeoning data professionals to help them actualize their career aspirations through technical education. Madeleine attended Codeup as a student in early 2019 as a pupil in the very first Codeup Data Science cohort. The program proved immediately effective and she was the first student to obtain a data career out of the program. After working at Booz Allen Hamilton, Madeleine’s passion for education in conjunction with her appreciation for Codeup’s capacity for transformative life change brought her back to the institution in an instructional capacity, where she has been teaching for two years. Don’t forget to tune in on March 29th to sit in on an insightful conversation.</td>\n",
       "    </tr>\n",
       "    <tr>\n",
       "      <th>5</th>\n",
       "      <td>Black Excellence in Tech: Panelist Spotlight – Wilmarie De La Cruz Mejia</td>\n",
       "      <td>Black excellence in tech: Panelist Spotlight – Wilmarie De La Cruz Mejia  Codeup is hosting a Black Excellence in Tech Panel in honor of Black History Month on February 22, 2023! To further celebrate, we’d like to spotlight each of our panelists leading up to the discussion to learn a bit about their respective experiences as black leaders in the tech industry!   Meet Wilmarie! Wilmarie De La Cruz Mejia is a current Codeup student on the path to becoming a Full-Stack Web Developer at our Dallas, TX campus.  Wilmarie is a veteran expanding her knowledge of programming languages and technologies on her journey with Codeup.  We asked Wilmarie to share more about her experience at Codeup. She shares, “I was able to meet other people who were passionate about coding and be in a positive learning environment.” We hope you can join us on February 22nd to sit in on an insightful conversation with Wilmarie and all of our panelists!</td>\n",
       "    </tr>\n",
       "  </tbody>\n",
       "</table>\n",
       "</div>"
      ],
      "text/plain": [
       "                                                                                    title  \\\n",
       "0  Spotlight on APIDA Voices: Celebrating Heritage and Inspiring Change ft. Arbeena Thapa   \n",
       "1                                      Women in tech: Panelist Spotlight – Magdalena Rahn   \n",
       "2                              Women in tech: Panelist Spotlight – Rachel Robbins-Mayhill   \n",
       "3                                        Women in Tech: Panelist Spotlight – Sarah Mellor   \n",
       "4                                    Women in Tech: Panelist Spotlight – Madeleine Capper   \n",
       "5                Black Excellence in Tech: Panelist Spotlight – Wilmarie De La Cruz Mejia   \n",
       "\n",
       "                                                                                                                                                                                                                                                                                                                                                                                                                                                                                                                                                                                                                                                                                                                                                                                                                                                                                                                                                                                                                                                                                                                                                                                                                                                                                                                                                                                                                                                                                                                                                                                                                                                                                                                                                                                                                                                                                                                                                                                                                                                                                                                                                                                                                                                                                                                                                                                                                                                                                                                                                                                                                                                                                                                                                                                                                                                                                                                                                                                                                                                                                                                                                                                                                                                                                                                                                                                                                                                                                                                                                                                                                                                                                                                                                                                                                                                                                                                                                                                                                                                                                                                                                                                                                                                                                                                                                                                                                                                                                                                                                                                                                                                                                                                                                                                                                                                                                                                                                                                                                                                                                                                                                                                                                                                                                                                                                                                                                                                                content  \n",
       "0  May is traditionally known as Asian American and Pacific Islander (AAPI) Heritage Month. This month we celebrate the history and contributions made possible by our AAPI friends, family, and community. We also examine our level of support and seek opportunities to better understand the AAPI community.  In an effort to address real concerns and experiences, we sat down with Arbeena Thapa, one of Codeup’s Financial Aid and Enrollment Managers. Arbeena identifies as Nepali American and Desi. Arbeena’s parents immigrated to Texas in 1988 for better employment and educational opportunities. Arbeena’s older sister was five when they made the move to the US. Arbeena was born later, becoming the first in her family to be a US citizen. At Codeup we take our efforts at inclusivity very seriously. After speaking with Arbeena, we were taught that the term AAPI excludes Desi-American individuals. Hence, we will now use the term Asian Pacific Islander Desi American (APIDA). Here is how the rest of our conversation with Arbeena went! How do you celebrate or connect with your heritage and cultural traditions? “I celebrate Nepal’s version of Christmas or Dashain. This is a nine-day celebration also known as Dussehra. I grew up as Hindu and I identify as Hindu, this is a very large part of my heritage. “ “Other ways I connect with my culture include sharing food! Momos are South Asian Dumplings and they’re my favorite to make and share.” “On my Asian American side, I am an advocate of immigrant justice and erasure within APIDA social or political movements. I participate in events to embrace my identity such as immigrant justice advocacy because I come from a mixed-status family. I’ve always been in a community with undocumented Asian immigrants. .” What are some of the challenges you have faced as an APIDA individual, personally or professionally? “I often struggle with being gendered as compliant or a pushover. Professionally, I am often stereotyped as meek, so I’ve been overlooked for leadership roles. We are seen as perpetually foreign; people tend to other us in that way, yet put us on a pedestal for what a model minority looks like. This has made me hesitant to share my heritage in the past because these assumptions get mapped onto me. ” Can you describe some common barriers of entry that APIDA individuals, specifically women may face when trying to enter or advance in the workplace? “Being overlooked for leadership. In the past, I have not been viewed as a leader. People sometimes have preconceived stereotypes of Asian women not being able to be bold, or being vocal can be mistaken for being too emotional. “ How do you believe microaggressions impact APIDA individuals in the workplace? Can you provide examples of such microaggressions? “Erasure is big. To me, only saying ‘Merry Christmas’ isn’t inclusive to other religions. People are often resistant to saying ‘Happy Holidays,’ but saying Merry Christmas excludes, and does not appreciate my heritage. “ “Often microaggressions are not micro at all. They typically are not aggressive racialized violence, but the term ‘micro’ minimizes impact.” “Some that I’ve heard are ‘What kind of Asian are you?’ or ‘Where are you from?’ This automatically makes me the ‘other’ and not seen as American. Even within the APIDA community, South Asians are overlooked as “Asian”.” How important is representation, specifically APIDA representation, in organizational leadership positions? “I want to say that it is important to have someone who looks like you in leadership roles, and it is, but those leaders may not share the same beliefs as you. Certain privileges such as wealth, resources, or lack of interaction with lower-socioeconomic-status Asian Americans may cause a difference in community politics. I do not think the bamboo ceiling is acceptable, but the company you work for plays a big part in your politics and belief alignment.” How do you feel about code-switching, and have you ever felt it necessary to code-switch? “I like sharing South Asian terms or connecting with others that have similar heritage and culture. A workplace that is welcoming to going into this sort of breakout is refreshing and makes space for us. However, having to code-switch could also mean a workplace that is not conducive and welcoming of other cultures. “ Finally, in your opinion, what long-term strategies can create lasting change in the workplace and ensure support, equality, and inclusion for APIDA individuals? “Prior to a career in financial aid, I did a lot of research related to the post-9/11 immigration of the South Asian diaspora. This background made me heavily rely on grassroots organizing. Hire the people that want to innovate, hire the changemakers, hire the button-pushers. Reduce reliance on whiteness as change. This will become natural for the organization and become organizational change. Change comes from us on the ground.” A huge thank you to Arbeena Thapa for sharing her experiences, and being vulnerable with us. Your words were inspiring and the opportunity to understand your perspective more has been valuable. We hope we can become better support for the APIDA community as we learn and grow on our journey of cultivating inclusive growth.  \n",
       "1                                                                                                                                                                                                                                                                                                                                                                                                                                                                                                                                                                                                                                                                                                                                                                                                                                                                                                                                                                                                                                                                                                                                                                                                                                                                                                                                                                                                                                                                                                                                                                                                                                                                                                                                                                                                                                                                                                                                                                                                                                                                                                                                                                                                                                                                                                                                                                                                                                                                                                                                                                                                                                                                                                                                                                                                                                                                                                                                                                                                                                                                                                                                                                                                                                                                                                                                                                                                                                                                                                                                                                                                                                                                                                                                                                                                                                                                                                                                                                                                                                                                                                                                                                                                                                             Women in tech: Panelist Spotlight – Magdalena Rahn Codeup is hosting a Women in Tech Panel in honor of Women’s History Month on March 29th, 2023! To further celebrate, we’d like to spotlight each of our panelists leading up to the discussion to learn a bit about their respective experiences as women in the tech industry!  Meet Magdalena! Magdalena Rahn is a current Codeup student in a Data Science cohort in San Antonio, Texas. She has a professional background in cross-cultural communications, international business development, the wine industry and journalism. After serving in the US Navy, she decided to complement her professional skill set by attending the Data Science program at Codeup; she is set to graduate in March 2023. Magdalena is fluent in French, Bulgarian, Chinese-Mandarin, Spanish and Italian. We asked Magdalena how Codeup impacted her career, and she replied “Codeup has provided a solid foundation in analytical processes, programming and data science methods, and it’s been an encouragement to have such supportive instructors and wonderful classmates.” Don’t forget to tune in on March 29th to sit in on an insightful conversation with Magdalena.  \n",
       "2                                                                                                                                                                                                                                                                                                                                                                                                                                                                                                                                                                                                                                                                                                                                                                                                                                                                                                                                                                                                                                                                                                                                                                                                                                                                                                                                                                                                                                                                                                                                                                                                                                                                                                                                                                                                                                                                                                                                                                                                                                                                                                                                                                                                                                                                                                                                                                                                                                                                                                                                                                                                                                    Women in tech: Panelist Spotlight – Rachel Robbins-Mayhill Codeup is hosting a Women in Tech Panel in honor of Women’s History Month on March 29th, 2023! To further celebrate, we’d like to spotlight each of our panelists leading up to the discussion to learn a bit about their respective experiences as women in the tech industry! Meet Rachel!  Rachel Robbins-Mayhill is a Decision Science Analyst I in San Antonio, Texas. Rachel has had a varied career that includes counseling, teaching, training, community development, and military operations. Her focus has always been on assessing needs, identifying solutions, and educating individuals and groups on aligning needs and solutions in different contexts. Rachel’s passion for data science stems from her belief that data is a powerful tool for communicating patterns that can lead to hope and growth in the future. In June 2022, Rachel graduated from Codeup’s Innis cohort, where she honed her skills in data science. Shortly after, she started working as a Data Science Technical Writer with Apex Systems as a Contractor for USAA in July 2022. Her unconventional role allowed her to understand where her skills could be best utilized to support USAA in a non-contract role. Rachel recently joined USAA’s Data Science Delivery team as a Decision Science Analyst I in February 2023. The team is focused on delivering machine learning models for fraud prevention, and Rachel’s particular role centers around providing strategic process solutions for the team in collaboration with Operational and Model Risk components. In addition to her career, Rachel is currently pursuing a master’s degree in Applied Data Science from Syracuse University, further expanding her knowledge and skills in the field. Rachel is passionate about collaborating with individuals who share her belief in the potential of others and strive to achieve growth through logical, informed action. She welcomes LinkedIn connections and is excited about supporting the network of CodeUp alumni! We asked Rachel how Codeup impacted her career, and she replied “Codeup delivered a comprehensive education in all facets of the data science pipeline, laying a strong foundation for me to build upon. Through repeated hands-on practice, I developed a reliable process that was immediately applicable in my job. Collaborative group projects were instrumental in helping me hone my skills in project management, allowing me to navigate complex data science projects with comfortability. Thanks to this invaluable experience, I was able to make significant strides in my career within just six months of graduating from Codeup.” Don’t forget to tune in on March 29th to sit in on an insightful conversation.  \n",
       "3                                                                                                                                                                                                                                                                                                                                                                                                                                                                                                                                                                                                                                                                                                                                                                                                                                                                                                                                                                                                                                                                                                                                                                                                                                                                                                                                                                                                                                                                                                                                                                                                                                                                                                                                                                                                                                                                                                                                                                                                                                                                                                                                                                                                                                                                                                                                                                                                                                                                                                                                                                                                                                                                                                                                                                                                                                                                                                                                                                                                                                                                                                                                                                                                                                                                                                                                                                                                                                                                                                                                                                                                                                                                                                                                                                                                                                                                                                                                                                                                                                                                       Women in tech: Panelist Spotlight – Sarah Mellor  Codeup is hosting a Women in Tech Panel in honor of Women’s History Month on March 29th, 2023! To further celebrate, we’d like to spotlight each of our panelists leading up to the discussion to learn a bit about their respective experiences as women in the tech industry! Meet Sarah! Sarah Mellor currently works as the Director of People Operations. She joined Codeup four and a half years ago as an Admissions Manager. She went on to build out and lead the Marketing and Admissions team, while picking up People Ops tasks and projects here and there until moving over to lead the People Ops team two years ago. Prior to Codeup, she worked at education-focused non-profits in Washington, DC and Boulder, Colorado. She graduated from Wake Forest University. We asked Sarah how Codeup has impacted her career, and her response was “I have absolutely loved having the privilege to grow alongside Codeup. In my time here across multiple different roles and departments, I’ve seen a lot of change. The consistent things have always been the high quality of passionate and hardworking people I get to work with; the impactful mission we get to work on; and the inspiring students who trust us with their career change.” Don’t forget to tune in on March 29th to sit in on an insightful conversation.  \n",
       "4                                                                                                                                                                                                                                                                                                                                                                                                                                                                                                                                                                                                                                                                                                                                                                                                                                                                                                                                                                                                                                                                                                                                                                                                                                                                                                                                                                                                                                                                                                                                                                                                                                                                                                                                                                                                                                                                                                                                                                                                                                                                                                                                                                                                                                                                                                                                                                                                                                                                                                                                                                                                                                                                                                                                                                                                                                                                                                                                                                                                                                                                                                                                                                                                                                                                                                                                                                                                                                                                                                                                                                                                                                                                                                                                                                                                                                                                                                                                                                                                                                                                                            Women in tech: Panelist Spotlight – Madeleine Capper Codeup is hosting a Women in Tech Panel in honor of Women’s History Month on March 29th, 2023! To further celebrate, we’d like to spotlight each of our panelists leading up to the discussion to learn a bit about their respective experiences as women in the tech industry! Meet Madeleine! Madeleine Capper is a Data Scientist in San Antonio, Texas. A long-standing San Antonio resident, she studied mathematics at the University of Texas San Antonio and has worked as a Data Scientist for Booz Allen Hamilton. Madeleine currently teaches Data Science at Codeup, where she works daily with burgeoning data professionals to help them actualize their career aspirations through technical education. Madeleine attended Codeup as a student in early 2019 as a pupil in the very first Codeup Data Science cohort. The program proved immediately effective and she was the first student to obtain a data career out of the program. After working at Booz Allen Hamilton, Madeleine’s passion for education in conjunction with her appreciation for Codeup’s capacity for transformative life change brought her back to the institution in an instructional capacity, where she has been teaching for two years. Don’t forget to tune in on March 29th to sit in on an insightful conversation.  \n",
       "5                                                                                                                                                                                                                                                                                                                                                                                                                                                                                                                                                                                                                                                                                                                                                                                                                                                                                                                                                                                                                                                                                                                                                                                                                                                                                                                                                                                                                                                                                                                                                                                                                                                                                                                                                                                                                                                                                                                                                                                                                                                                                                                                                                                                                                                                                                                                                                                                                                                                                                                                                                                                                                                                                                                                                                                                                                                                                                                                                                                                                                                                                                                                                                                                                                                                                                                                                                                                                                                                                                                                                                                                                                                                                                                                                                                                                                                                                                                                                                                                                                                                                                                                                                                                                                                                                                                                                                                                                                                                                              Black excellence in tech: Panelist Spotlight – Wilmarie De La Cruz Mejia  Codeup is hosting a Black Excellence in Tech Panel in honor of Black History Month on February 22, 2023! To further celebrate, we’d like to spotlight each of our panelists leading up to the discussion to learn a bit about their respective experiences as black leaders in the tech industry!   Meet Wilmarie! Wilmarie De La Cruz Mejia is a current Codeup student on the path to becoming a Full-Stack Web Developer at our Dallas, TX campus.  Wilmarie is a veteran expanding her knowledge of programming languages and technologies on her journey with Codeup.  We asked Wilmarie to share more about her experience at Codeup. She shares, “I was able to meet other people who were passionate about coding and be in a positive learning environment.” We hope you can join us on February 22nd to sit in on an insightful conversation with Wilmarie and all of our panelists!  "
      ]
     },
     "execution_count": 21,
     "metadata": {},
     "output_type": "execute_result"
    }
   ],
   "source": [
    "blog_articles = a.get_blog_articles()\n",
    "codeup_df = pd.DataFrame(blog_articles)\n",
    "codeup_df"
   ]
  },
  {
   "cell_type": "markdown",
   "id": "38a7428b-cb7e-46c1-85a3-9555333402ba",
   "metadata": {},
   "source": [
    "## 8. For each dataframe, produce the following columns:\n",
    "\n",
    ". **title** to hold the title     \n",
    ". **original** to hold the original article/post content    \n",
    ". **clean** to hold the normalized and tokenized original with the stopwords removed.    \n",
    ". **stemmed** to hold the stemmed version of the cleaned data.   \n",
    ". **lemmatized** to hold the lemmatized version of the cleaned data."
   ]
  },
  {
   "cell_type": "code",
   "execution_count": 22,
   "id": "fd7ba0b1-ac6f-4c72-9051-bcb79075e90b",
   "metadata": {
    "scrolled": true,
    "tags": []
   },
   "outputs": [
    {
     "data": {
      "text/html": [
       "<div>\n",
       "<style scoped>\n",
       "    .dataframe tbody tr th:only-of-type {\n",
       "        vertical-align: middle;\n",
       "    }\n",
       "\n",
       "    .dataframe tbody tr th {\n",
       "        vertical-align: top;\n",
       "    }\n",
       "\n",
       "    .dataframe thead th {\n",
       "        text-align: right;\n",
       "    }\n",
       "</style>\n",
       "<table border=\"1\" class=\"dataframe\">\n",
       "  <thead>\n",
       "    <tr style=\"text-align: right;\">\n",
       "      <th></th>\n",
       "      <th>category</th>\n",
       "      <th>title</th>\n",
       "      <th>original</th>\n",
       "    </tr>\n",
       "  </thead>\n",
       "  <tbody>\n",
       "    <tr>\n",
       "      <th>0</th>\n",
       "      <td>business</td>\n",
       "      <td>Sensex, Nifty end at fresh closing highs</td>\n",
       "      <td>Benchmark indices Sensex and Nifty ended at record closing highs on Wednesday. Sensex ended 195 points higher at 63,523 while the Nifty ended at 18,856.85, up 40 points. The gains were led by stocks like HDFC, Reliance Industries and TCS. During the intraday trade, Sensex rose to its fresh record high level of 63,588.</td>\n",
       "    </tr>\n",
       "    <tr>\n",
       "      <th>1</th>\n",
       "      <td>business</td>\n",
       "      <td>Amazon tricked millions of customers into enrolling in Prime: US FTC</td>\n",
       "      <td>US Federal Trade Commission (FTC) has sued Amazon, accusing it of tricking millions of consumers into signing up for its Prime subscription without their consent. \"Amazon used manipulative, coercive or deceptive user-interface designs known as 'dark patterns' to trick consumers into enrolling in automatically-renewing Prime subscriptions,\" US FTC said. Prime members in the US pay $139 per year.</td>\n",
       "    </tr>\n",
       "    <tr>\n",
       "      <th>2</th>\n",
       "      <td>business</td>\n",
       "      <td>TIME releases list of the world's 100 most influential companies</td>\n",
       "      <td>TIME magazine has released its annual list of the world's 100 most influential companies, which features OpenAI, SpaceX, Chess.com, Google DeepMind and Kim Kardashian's SKIMS among others. The National Payments Corporation of India (NPCI) and e-commerce platform Meesho also featured on the list. \"NPCI launched UPI...which accounted for 52% of India's digital transactions in FY22,\" TIME said.</td>\n",
       "    </tr>\n",
       "    <tr>\n",
       "      <th>3</th>\n",
       "      <td>business</td>\n",
       "      <td>Which are the world's top 10 airlines according to passengers?</td>\n",
       "      <td>Singapore Airlines is the world's best airline, according to Skytrax World Airline Awards 2023, an annual poll of flyers released at the Paris Air Show. It is followed by Qatar Airways, All Nippon Airways, Emirates, Japan Airlines, Turkish Airlines, Air France, Cathay Pacific, EVA Air, and Korean Air. Vistara, ranked 16th, is the only Indian airline in the top 20.</td>\n",
       "    </tr>\n",
       "    <tr>\n",
       "      <th>4</th>\n",
       "      <td>business</td>\n",
       "      <td>Grab lays off over 1,000 employees</td>\n",
       "      <td>Singapore-based ride-hailing and food delivery app Grab has laid off over 1,000 employees. This is Grab's largest round of layoffs since 2020, when it cut 360 jobs in response to COVID-19 pandemic challenges. \"I want to be clear that we're not doing this as a shortcut to profitability,\" Group CEO and Co-Founder Anthony Tan said in an e-mail to employees.</td>\n",
       "    </tr>\n",
       "    <tr>\n",
       "      <th>...</th>\n",
       "      <td>...</td>\n",
       "      <td>...</td>\n",
       "      <td>...</td>\n",
       "    </tr>\n",
       "    <tr>\n",
       "      <th>95</th>\n",
       "      <td>entertainment</td>\n",
       "      <td>He was wonderful: Harrison Ford on 'Indiana..' co-star Amrish Puri</td>\n",
       "      <td>Actor Harrison Ford remembered late actor Amrish Puri, who had worked in 1984's 'Indiana Jones and the Temple of Doom'. \"He was a wonderful person...very charming man. (He was) nothing like the character that he played...Very sophisticated. I really admired him...enjoyed working with him,\" Ford said about Puri in an interview. The 1984 film featured Puri as the antagonist.</td>\n",
       "    </tr>\n",
       "    <tr>\n",
       "      <th>96</th>\n",
       "      <td>entertainment</td>\n",
       "      <td>Admire her audacity: Mahesh Bhatt on Pooja entering 'Bigg Boss...'</td>\n",
       "      <td>Filmmaker Mahesh Bhatt reacted to his daughter Pooja Bhatt's participation in 'Bigg Boss OTT 2'. \"Life's greatest adventures begin when we step into the realm of the unknown with courage and curiosity. She has done just that. I admire her audacity,\" Bhatt told ETimes. Pooja, on the show, had opened up about battling alcohol addiction at the age of 44.</td>\n",
       "    </tr>\n",
       "    <tr>\n",
       "      <th>97</th>\n",
       "      <td>entertainment</td>\n",
       "      <td>Kartik made me wait during 'Bhool...', I used to scold him: Kiara</td>\n",
       "      <td>Actress Kiara Advani, while talking about her 'Satyaprem Ki Katha' co-actor Kartik Aaryan, said the actor used to make her wait during the shoot of their 2022 film 'Bhool Bhulaiyaa 2'. \"I used to scold Kartik, would tell him not to come late this time over and make me wait,\" Kiara said. \"We've grown professionally and personally,\" she added.</td>\n",
       "    </tr>\n",
       "    <tr>\n",
       "      <th>98</th>\n",
       "      <td>entertainment</td>\n",
       "      <td>It was hard to find 300 transgender people for 'Haddi': Producer</td>\n",
       "      <td>Producer Sanjay Saha said that finding 300 transgender people for Nawazuddin Siddiqui's 'Haddi' was \"very adventurous and hard\". He added that a transwoman named Renuka helped the filmmakers to learn about transgender community. \"She had brought some of her friends from the community to Nawaz so that he could get into the character and deeply understand their life,\" he added.</td>\n",
       "    </tr>\n",
       "    <tr>\n",
       "      <th>99</th>\n",
       "      <td>entertainment</td>\n",
       "      <td>Asked Alia 'What is it that H'wood has', she said money: Mahesh</td>\n",
       "      <td>Filmmaker Mahesh Bhatt said he once asked Alia Bhatt that what does Hollywood has that Indian cinema doesn't. \"Her straight reply was 'Money'. She said it with great humility. She also said that they've a way of doing things...they're very professional,\" he recalled. Commenting on Alia's Hollywood debut with 'Heart of Stone', Mahesh said, \"My heart soars with pride.\"</td>\n",
       "    </tr>\n",
       "  </tbody>\n",
       "</table>\n",
       "<p>100 rows × 3 columns</p>\n",
       "</div>"
      ],
      "text/plain": [
       "         category  \\\n",
       "0        business   \n",
       "1        business   \n",
       "2        business   \n",
       "3        business   \n",
       "4        business   \n",
       "..            ...   \n",
       "95  entertainment   \n",
       "96  entertainment   \n",
       "97  entertainment   \n",
       "98  entertainment   \n",
       "99  entertainment   \n",
       "\n",
       "                                                                   title  \\\n",
       "0                               Sensex, Nifty end at fresh closing highs   \n",
       "1   Amazon tricked millions of customers into enrolling in Prime: US FTC   \n",
       "2       TIME releases list of the world's 100 most influential companies   \n",
       "3         Which are the world's top 10 airlines according to passengers?   \n",
       "4                                     Grab lays off over 1,000 employees   \n",
       "..                                                                   ...   \n",
       "95    He was wonderful: Harrison Ford on 'Indiana..' co-star Amrish Puri   \n",
       "96    Admire her audacity: Mahesh Bhatt on Pooja entering 'Bigg Boss...'   \n",
       "97     Kartik made me wait during 'Bhool...', I used to scold him: Kiara   \n",
       "98      It was hard to find 300 transgender people for 'Haddi': Producer   \n",
       "99       Asked Alia 'What is it that H'wood has', she said money: Mahesh   \n",
       "\n",
       "                                                                                                                                                                                                                                                                                                                                                                                                         original  \n",
       "0                                                                                Benchmark indices Sensex and Nifty ended at record closing highs on Wednesday. Sensex ended 195 points higher at 63,523 while the Nifty ended at 18,856.85, up 40 points. The gains were led by stocks like HDFC, Reliance Industries and TCS. During the intraday trade, Sensex rose to its fresh record high level of 63,588.   \n",
       "1   US Federal Trade Commission (FTC) has sued Amazon, accusing it of tricking millions of consumers into signing up for its Prime subscription without their consent. \"Amazon used manipulative, coercive or deceptive user-interface designs known as 'dark patterns' to trick consumers into enrolling in automatically-renewing Prime subscriptions,\" US FTC said. Prime members in the US pay $139 per year.  \n",
       "2      TIME magazine has released its annual list of the world's 100 most influential companies, which features OpenAI, SpaceX, Chess.com, Google DeepMind and Kim Kardashian's SKIMS among others. The National Payments Corporation of India (NPCI) and e-commerce platform Meesho also featured on the list. \"NPCI launched UPI...which accounted for 52% of India's digital transactions in FY22,\" TIME said.  \n",
       "3                                  Singapore Airlines is the world's best airline, according to Skytrax World Airline Awards 2023, an annual poll of flyers released at the Paris Air Show. It is followed by Qatar Airways, All Nippon Airways, Emirates, Japan Airlines, Turkish Airlines, Air France, Cathay Pacific, EVA Air, and Korean Air. Vistara, ranked 16th, is the only Indian airline in the top 20.  \n",
       "4                                            Singapore-based ride-hailing and food delivery app Grab has laid off over 1,000 employees. This is Grab's largest round of layoffs since 2020, when it cut 360 jobs in response to COVID-19 pandemic challenges. \"I want to be clear that we're not doing this as a shortcut to profitability,\" Group CEO and Co-Founder Anthony Tan said in an e-mail to employees.  \n",
       "..                                                                                                                                                                                                                                                                                                                                                                                                            ...  \n",
       "95                        Actor Harrison Ford remembered late actor Amrish Puri, who had worked in 1984's 'Indiana Jones and the Temple of Doom'. \"He was a wonderful person...very charming man. (He was) nothing like the character that he played...Very sophisticated. I really admired him...enjoyed working with him,\" Ford said about Puri in an interview. The 1984 film featured Puri as the antagonist.  \n",
       "96                                             Filmmaker Mahesh Bhatt reacted to his daughter Pooja Bhatt's participation in 'Bigg Boss OTT 2'. \"Life's greatest adventures begin when we step into the realm of the unknown with courage and curiosity. She has done just that. I admire her audacity,\" Bhatt told ETimes. Pooja, on the show, had opened up about battling alcohol addiction at the age of 44.   \n",
       "97                                                        Actress Kiara Advani, while talking about her 'Satyaprem Ki Katha' co-actor Kartik Aaryan, said the actor used to make her wait during the shoot of their 2022 film 'Bhool Bhulaiyaa 2'. \"I used to scold Kartik, would tell him not to come late this time over and make me wait,\" Kiara said. \"We've grown professionally and personally,\" she added.  \n",
       "98                    Producer Sanjay Saha said that finding 300 transgender people for Nawazuddin Siddiqui's 'Haddi' was \"very adventurous and hard\". He added that a transwoman named Renuka helped the filmmakers to learn about transgender community. \"She had brought some of her friends from the community to Nawaz so that he could get into the character and deeply understand their life,\" he added.   \n",
       "99                              Filmmaker Mahesh Bhatt said he once asked Alia Bhatt that what does Hollywood has that Indian cinema doesn't. \"Her straight reply was 'Money'. She said it with great humility. She also said that they've a way of doing things...they're very professional,\" he recalled. Commenting on Alia's Hollywood debut with 'Heart of Stone', Mahesh said, \"My heart soars with pride.\"  \n",
       "\n",
       "[100 rows x 3 columns]"
      ]
     },
     "execution_count": 22,
     "metadata": {},
     "output_type": "execute_result"
    }
   ],
   "source": [
    "# df.rename columns from content to original\n",
    "news_df = news_df.rename(columns={'content':'original'})\n",
    "news_df"
   ]
  },
  {
   "cell_type": "code",
   "execution_count": 36,
   "id": "ef37a25b-4546-4409-a8d4-4ca686f349f3",
   "metadata": {
    "scrolled": true,
    "tags": []
   },
   "outputs": [
    {
     "data": {
      "text/plain": [
       "'benchmark indices sensex nifty ended record closing highs wednesday sensex ended 195 points higher 63523 nifty ended 1885685  40 points the gains led stocks like hdfc  reliance industries tcs during intraday trade  sensex rose fresh record high level 63588 '"
      ]
     },
     "execution_count": 36,
     "metadata": {},
     "output_type": "execute_result"
    }
   ],
   "source": [
    "# combine basic and tokenize functions\n",
    "basic_clean(tokenize(remove_stopwords(news_df.original[0], extra_words, exclude_words)))"
   ]
  },
  {
   "cell_type": "code",
   "execution_count": 42,
   "id": "102b3b6f-7615-455c-9ce2-4e9b013fe673",
   "metadata": {
    "scrolled": true,
    "tags": []
   },
   "outputs": [
    {
     "data": {
      "text/html": [
       "<div>\n",
       "<style scoped>\n",
       "    .dataframe tbody tr th:only-of-type {\n",
       "        vertical-align: middle;\n",
       "    }\n",
       "\n",
       "    .dataframe tbody tr th {\n",
       "        vertical-align: top;\n",
       "    }\n",
       "\n",
       "    .dataframe thead th {\n",
       "        text-align: right;\n",
       "    }\n",
       "</style>\n",
       "<table border=\"1\" class=\"dataframe\">\n",
       "  <thead>\n",
       "    <tr style=\"text-align: right;\">\n",
       "      <th></th>\n",
       "      <th>category</th>\n",
       "      <th>title</th>\n",
       "      <th>original</th>\n",
       "      <th>clean</th>\n",
       "      <th>stemmed</th>\n",
       "      <th>lemmatized</th>\n",
       "    </tr>\n",
       "  </thead>\n",
       "  <tbody>\n",
       "    <tr>\n",
       "      <th>0</th>\n",
       "      <td>business</td>\n",
       "      <td>Sensex, Nifty end at fresh closing highs</td>\n",
       "      <td>Benchmark indices Sensex and Nifty ended at record closing highs on Wednesday. Sensex ended 195 points higher at 63,523 while the Nifty ended at 18,856.85, up 40 points. The gains were led by stocks like HDFC, Reliance Industries and TCS. During the intraday trade, Sensex rose to its fresh record high level of 63,588.</td>\n",
       "      <td>benchmark indices sensex nifty ended record closing highs wednesday sensex ended 195 points higher 63523 nifty ended 1885685 40 points gains led stocks like hdfc reliance industries tcs intraday trade sensex rose fresh record high level 63588</td>\n",
       "      <td>benchmark indic sensex and nifti end at record close high on wednesday sensex end 195 point higher at 63523 while the nifti end at 1885685 up 40 point the gain were led by stock like hdfc relianc industri and tc dure the intraday trade sensex rose to it fresh record high level of 63588</td>\n",
       "      <td>benchmark index sensex and nifty ended at record closing high on wednesday sensex ended 195 point higher at 63523 while the nifty ended at 1885685 up 40 point the gain were led by stock like hdfc reliance industry and tc during the intraday trade sensex rose to it fresh record high level of 63588</td>\n",
       "    </tr>\n",
       "    <tr>\n",
       "      <th>1</th>\n",
       "      <td>business</td>\n",
       "      <td>Amazon tricked millions of customers into enrolling in Prime: US FTC</td>\n",
       "      <td>US Federal Trade Commission (FTC) has sued Amazon, accusing it of tricking millions of consumers into signing up for its Prime subscription without their consent. \"Amazon used manipulative, coercive or deceptive user-interface designs known as 'dark patterns' to trick consumers into enrolling in automatically-renewing Prime subscriptions,\" US FTC said. Prime members in the US pay $139 per year.</td>\n",
       "      <td>us federal trade commission ftc sued amazon accusing tricking millions consumers signing prime subscription without consent amazon used manipulative coercive deceptive userinterface designs known ' dark patterns ' trick consumers enrolling automaticallyrenewing prime subscriptions us ftc said prime members us pay 139 per year</td>\n",
       "      <td>us feder trade commiss ftc ha su amazon accus it of trick million of consum into sign up for it prime subscript without their consent amazon use manipul coerciv or decept userinterfac design known as ' dark pattern ' to trick consum into enrol in automaticallyrenew prime subscript us ftc said prime member in the us pay 139 per year</td>\n",
       "      <td>u federal trade commission ftc ha sued amazon accusing it of tricking million of consumer into signing up for it prime subscription without their consent amazon used manipulative coercive or deceptive userinterface design known a ' dark pattern ' to trick consumer into enrolling in automaticallyrenewing prime subscription u ftc said prime member in the u pay 139 per year</td>\n",
       "    </tr>\n",
       "    <tr>\n",
       "      <th>2</th>\n",
       "      <td>business</td>\n",
       "      <td>TIME releases list of the world's 100 most influential companies</td>\n",
       "      <td>TIME magazine has released its annual list of the world's 100 most influential companies, which features OpenAI, SpaceX, Chess.com, Google DeepMind and Kim Kardashian's SKIMS among others. The National Payments Corporation of India (NPCI) and e-commerce platform Meesho also featured on the list. \"NPCI launched UPI...which accounted for 52% of India's digital transactions in FY22,\" TIME said.</td>\n",
       "      <td>time magazine released annual list world ' 100 influential companies features openai spacex chesscom google deepmind kim kardashian ' skims among others national payments corporation india npci ecommerce platform meesho also featured list npci launched upiwhich accounted 52 india ' digital transactions fy22 time said</td>\n",
       "      <td>time magazin ha releas it annual list of the world ' s 100 most influenti compani which featur openai spacex chesscom googl deepmind and kim kardashian ' s skim among other the nation payment corpor of india npci and ecommerc platform meesho also featur on the list npci launch upiwhich account for 52 of india ' s digit transact in fy22 time said</td>\n",
       "      <td>time magazine ha released it annual list of the world ' s 100 most influential company which feature openai spacex chesscom google deepmind and kim kardashian ' s skim among others the national payment corporation of india npci and ecommerce platform meesho also featured on the list npci launched upiwhich accounted for 52 of india ' s digital transaction in fy22 time said</td>\n",
       "    </tr>\n",
       "    <tr>\n",
       "      <th>3</th>\n",
       "      <td>business</td>\n",
       "      <td>Which are the world's top 10 airlines according to passengers?</td>\n",
       "      <td>Singapore Airlines is the world's best airline, according to Skytrax World Airline Awards 2023, an annual poll of flyers released at the Paris Air Show. It is followed by Qatar Airways, All Nippon Airways, Emirates, Japan Airlines, Turkish Airlines, Air France, Cathay Pacific, EVA Air, and Korean Air. Vistara, ranked 16th, is the only Indian airline in the top 20.</td>\n",
       "      <td>singapore airlines world ' best airline according skytrax world airline awards 2023 annual poll flyers released paris air show followed qatar airways nippon airways emirates japan airlines turkish airlines air france cathay pacific eva air korean air vistara ranked 16th indian airline top 20</td>\n",
       "      <td>singapor airlin is the world ' s best airlin accord to skytrax world airlin award 2023 an annual poll of flyer releas at the pari air show it is follow by qatar airway all nippon airway emir japan airlin turkish airlin air franc cathay pacif eva air and korean air vistara rank 16th is the onli indian airlin in the top 20</td>\n",
       "      <td>singapore airline is the world ' s best airline according to skytrax world airline award 2023 an annual poll of flyer released at the paris air show it is followed by qatar airway all nippon airway emirate japan airline turkish airline air france cathay pacific eva air and korean air vistara ranked 16th is the only indian airline in the top 20</td>\n",
       "    </tr>\n",
       "    <tr>\n",
       "      <th>4</th>\n",
       "      <td>business</td>\n",
       "      <td>Grab lays off over 1,000 employees</td>\n",
       "      <td>Singapore-based ride-hailing and food delivery app Grab has laid off over 1,000 employees. This is Grab's largest round of layoffs since 2020, when it cut 360 jobs in response to COVID-19 pandemic challenges. \"I want to be clear that we're not doing this as a shortcut to profitability,\" Group CEO and Co-Founder Anthony Tan said in an e-mail to employees.</td>\n",
       "      <td>singaporebased ridehailing food delivery app grab laid 1000 employees grab ' largest round layoffs since 2020 cut 360 jobs response covid19 pandemic challenges want clear ' shortcut profitability group ceo cofounder anthony tan said email employees</td>\n",
       "      <td>singaporebas ridehail and food deliveri app grab ha laid off over 1000 employe thi is grab ' s largest round of layoff sinc 2020 when it cut 360 job in respons to covid19 pandem challeng i want to be clear that we ' re not do thi as a shortcut to profit group ceo and cofound anthoni tan said in an email to employe</td>\n",
       "      <td>singaporebased ridehailing and food delivery app grab ha laid off over 1000 employee this is grab ' s largest round of layoff since 2020 when it cut 360 job in response to covid19 pandemic challenge i want to be clear that we ' re not doing this a a shortcut to profitability group ceo and cofounder anthony tan said in an email to employee</td>\n",
       "    </tr>\n",
       "  </tbody>\n",
       "</table>\n",
       "</div>"
      ],
      "text/plain": [
       "   category  \\\n",
       "0  business   \n",
       "1  business   \n",
       "2  business   \n",
       "3  business   \n",
       "4  business   \n",
       "\n",
       "                                                                  title  \\\n",
       "0                              Sensex, Nifty end at fresh closing highs   \n",
       "1  Amazon tricked millions of customers into enrolling in Prime: US FTC   \n",
       "2      TIME releases list of the world's 100 most influential companies   \n",
       "3        Which are the world's top 10 airlines according to passengers?   \n",
       "4                                    Grab lays off over 1,000 employees   \n",
       "\n",
       "                                                                                                                                                                                                                                                                                                                                                                                                        original  \\\n",
       "0                                                                               Benchmark indices Sensex and Nifty ended at record closing highs on Wednesday. Sensex ended 195 points higher at 63,523 while the Nifty ended at 18,856.85, up 40 points. The gains were led by stocks like HDFC, Reliance Industries and TCS. During the intraday trade, Sensex rose to its fresh record high level of 63,588.    \n",
       "1  US Federal Trade Commission (FTC) has sued Amazon, accusing it of tricking millions of consumers into signing up for its Prime subscription without their consent. \"Amazon used manipulative, coercive or deceptive user-interface designs known as 'dark patterns' to trick consumers into enrolling in automatically-renewing Prime subscriptions,\" US FTC said. Prime members in the US pay $139 per year.   \n",
       "2     TIME magazine has released its annual list of the world's 100 most influential companies, which features OpenAI, SpaceX, Chess.com, Google DeepMind and Kim Kardashian's SKIMS among others. The National Payments Corporation of India (NPCI) and e-commerce platform Meesho also featured on the list. \"NPCI launched UPI...which accounted for 52% of India's digital transactions in FY22,\" TIME said.   \n",
       "3                                 Singapore Airlines is the world's best airline, according to Skytrax World Airline Awards 2023, an annual poll of flyers released at the Paris Air Show. It is followed by Qatar Airways, All Nippon Airways, Emirates, Japan Airlines, Turkish Airlines, Air France, Cathay Pacific, EVA Air, and Korean Air. Vistara, ranked 16th, is the only Indian airline in the top 20.   \n",
       "4                                           Singapore-based ride-hailing and food delivery app Grab has laid off over 1,000 employees. This is Grab's largest round of layoffs since 2020, when it cut 360 jobs in response to COVID-19 pandemic challenges. \"I want to be clear that we're not doing this as a shortcut to profitability,\" Group CEO and Co-Founder Anthony Tan said in an e-mail to employees.   \n",
       "\n",
       "                                                                                                                                                                                                                                                                                                                                     clean  \\\n",
       "0                                                                                       benchmark indices sensex nifty ended record closing highs wednesday sensex ended 195 points higher 63523 nifty ended 1885685 40 points gains led stocks like hdfc reliance industries tcs intraday trade sensex rose fresh record high level 63588   \n",
       "1  us federal trade commission ftc sued amazon accusing tricking millions consumers signing prime subscription without consent amazon used manipulative coercive deceptive userinterface designs known ' dark patterns ' trick consumers enrolling automaticallyrenewing prime subscriptions us ftc said prime members us pay 139 per year   \n",
       "2           time magazine released annual list world ' 100 influential companies features openai spacex chesscom google deepmind kim kardashian ' skims among others national payments corporation india npci ecommerce platform meesho also featured list npci launched upiwhich accounted 52 india ' digital transactions fy22 time said   \n",
       "3                                     singapore airlines world ' best airline according skytrax world airline awards 2023 annual poll flyers released paris air show followed qatar airways nippon airways emirates japan airlines turkish airlines air france cathay pacific eva air korean air vistara ranked 16th indian airline top 20   \n",
       "4                                                                                 singaporebased ridehailing food delivery app grab laid 1000 employees grab ' largest round layoffs since 2020 cut 360 jobs response covid19 pandemic challenges want clear ' shortcut profitability group ceo cofounder anthony tan said email employees   \n",
       "\n",
       "                                                                                                                                                                                                                                                                                                                                                       stemmed  \\\n",
       "0                                                               benchmark indic sensex and nifti end at record close high on wednesday sensex end 195 point higher at 63523 while the nifti end at 1885685 up 40 point the gain were led by stock like hdfc relianc industri and tc dure the intraday trade sensex rose to it fresh record high level of 63588   \n",
       "1                us feder trade commiss ftc ha su amazon accus it of trick million of consum into sign up for it prime subscript without their consent amazon use manipul coerciv or decept userinterfac design known as ' dark pattern ' to trick consum into enrol in automaticallyrenew prime subscript us ftc said prime member in the us pay 139 per year   \n",
       "2  time magazin ha releas it annual list of the world ' s 100 most influenti compani which featur openai spacex chesscom googl deepmind and kim kardashian ' s skim among other the nation payment corpor of india npci and ecommerc platform meesho also featur on the list npci launch upiwhich account for 52 of india ' s digit transact in fy22 time said   \n",
       "3                           singapor airlin is the world ' s best airlin accord to skytrax world airlin award 2023 an annual poll of flyer releas at the pari air show it is follow by qatar airway all nippon airway emir japan airlin turkish airlin air franc cathay pacif eva air and korean air vistara rank 16th is the onli indian airlin in the top 20   \n",
       "4                                  singaporebas ridehail and food deliveri app grab ha laid off over 1000 employe thi is grab ' s largest round of layoff sinc 2020 when it cut 360 job in respons to covid19 pandem challeng i want to be clear that we ' re not do thi as a shortcut to profit group ceo and cofound anthoni tan said in an email to employe   \n",
       "\n",
       "                                                                                                                                                                                                                                                                                                                                                                               lemmatized  \n",
       "0                                                                               benchmark index sensex and nifty ended at record closing high on wednesday sensex ended 195 point higher at 63523 while the nifty ended at 1885685 up 40 point the gain were led by stock like hdfc reliance industry and tc during the intraday trade sensex rose to it fresh record high level of 63588  \n",
       "1   u federal trade commission ftc ha sued amazon accusing it of tricking million of consumer into signing up for it prime subscription without their consent amazon used manipulative coercive or deceptive userinterface design known a ' dark pattern ' to trick consumer into enrolling in automaticallyrenewing prime subscription u ftc said prime member in the u pay 139 per year  \n",
       "2  time magazine ha released it annual list of the world ' s 100 most influential company which feature openai spacex chesscom google deepmind and kim kardashian ' s skim among others the national payment corporation of india npci and ecommerce platform meesho also featured on the list npci launched upiwhich accounted for 52 of india ' s digital transaction in fy22 time said  \n",
       "3                               singapore airline is the world ' s best airline according to skytrax world airline award 2023 an annual poll of flyer released at the paris air show it is followed by qatar airway all nippon airway emirate japan airline turkish airline air france cathay pacific eva air and korean air vistara ranked 16th is the only indian airline in the top 20  \n",
       "4                                    singaporebased ridehailing and food delivery app grab ha laid off over 1000 employee this is grab ' s largest round of layoff since 2020 when it cut 360 job in response to covid19 pandemic challenge i want to be clear that we ' re not doing this a a shortcut to profitability group ceo and cofounder anthony tan said in an email to employee  "
      ]
     },
     "execution_count": 42,
     "metadata": {},
     "output_type": "execute_result"
    }
   ],
   "source": [
    "news_df['clean'] = news_df.original.apply(basic_clean).apply(tokenize).apply(remove_stopwords, extra_words=extra_words, exclude_words=exclude_words)\n",
    "news_df.head()"
   ]
  },
  {
   "cell_type": "code",
   "execution_count": 43,
   "id": "c9084752-acdf-4e45-872d-a1fb234d5578",
   "metadata": {},
   "outputs": [
    {
     "data": {
      "text/plain": [
       "'benchmark indic sensex nifti end record close high wednesday sensex end 195 point higher 63523 nifti end 1885685 40 point gain led stock like hdfc relianc industri tc intraday trade sensex rose fresh record high level 63588'"
      ]
     },
     "execution_count": 43,
     "metadata": {},
     "output_type": "execute_result"
    }
   ],
   "source": [
    "stem(news_df.clean[0])"
   ]
  },
  {
   "cell_type": "code",
   "execution_count": 44,
   "id": "46024dfa-91a3-479f-865b-e447afa725c8",
   "metadata": {
    "scrolled": true,
    "tags": []
   },
   "outputs": [
    {
     "data": {
      "text/html": [
       "<div>\n",
       "<style scoped>\n",
       "    .dataframe tbody tr th:only-of-type {\n",
       "        vertical-align: middle;\n",
       "    }\n",
       "\n",
       "    .dataframe tbody tr th {\n",
       "        vertical-align: top;\n",
       "    }\n",
       "\n",
       "    .dataframe thead th {\n",
       "        text-align: right;\n",
       "    }\n",
       "</style>\n",
       "<table border=\"1\" class=\"dataframe\">\n",
       "  <thead>\n",
       "    <tr style=\"text-align: right;\">\n",
       "      <th></th>\n",
       "      <th>category</th>\n",
       "      <th>title</th>\n",
       "      <th>original</th>\n",
       "      <th>clean</th>\n",
       "      <th>stemmed</th>\n",
       "      <th>lemmatized</th>\n",
       "    </tr>\n",
       "  </thead>\n",
       "  <tbody>\n",
       "    <tr>\n",
       "      <th>0</th>\n",
       "      <td>business</td>\n",
       "      <td>Sensex, Nifty end at fresh closing highs</td>\n",
       "      <td>Benchmark indices Sensex and Nifty ended at record closing highs on Wednesday. Sensex ended 195 points higher at 63,523 while the Nifty ended at 18,856.85, up 40 points. The gains were led by stocks like HDFC, Reliance Industries and TCS. During the intraday trade, Sensex rose to its fresh record high level of 63,588.</td>\n",
       "      <td>benchmark indices sensex nifty ended record closing highs wednesday sensex ended 195 points higher 63523 nifty ended 1885685 40 points gains led stocks like hdfc reliance industries tcs intraday trade sensex rose fresh record high level 63588</td>\n",
       "      <td>benchmark indic sensex nifti end record close high wednesday sensex end 195 point higher 63523 nifti end 1885685 40 point gain led stock like hdfc relianc industri tc intraday trade sensex rose fresh record high level 63588</td>\n",
       "      <td>benchmark index sensex and nifty ended at record closing high on wednesday sensex ended 195 point higher at 63523 while the nifty ended at 1885685 up 40 point the gain were led by stock like hdfc reliance industry and tc during the intraday trade sensex rose to it fresh record high level of 63588</td>\n",
       "    </tr>\n",
       "    <tr>\n",
       "      <th>1</th>\n",
       "      <td>business</td>\n",
       "      <td>Amazon tricked millions of customers into enrolling in Prime: US FTC</td>\n",
       "      <td>US Federal Trade Commission (FTC) has sued Amazon, accusing it of tricking millions of consumers into signing up for its Prime subscription without their consent. \"Amazon used manipulative, coercive or deceptive user-interface designs known as 'dark patterns' to trick consumers into enrolling in automatically-renewing Prime subscriptions,\" US FTC said. Prime members in the US pay $139 per year.</td>\n",
       "      <td>us federal trade commission ftc sued amazon accusing tricking millions consumers signing prime subscription without consent amazon used manipulative coercive deceptive userinterface designs known ' dark patterns ' trick consumers enrolling automaticallyrenewing prime subscriptions us ftc said prime members us pay 139 per year</td>\n",
       "      <td>us feder trade commiss ftc su amazon accus trick million consum sign prime subscript without consent amazon use manipul coerciv decept userinterfac design known ' dark pattern ' trick consum enrol automaticallyrenew prime subscript us ftc said prime member us pay 139 per year</td>\n",
       "      <td>u federal trade commission ftc ha sued amazon accusing it of tricking million of consumer into signing up for it prime subscription without their consent amazon used manipulative coercive or deceptive userinterface design known a ' dark pattern ' to trick consumer into enrolling in automaticallyrenewing prime subscription u ftc said prime member in the u pay 139 per year</td>\n",
       "    </tr>\n",
       "    <tr>\n",
       "      <th>2</th>\n",
       "      <td>business</td>\n",
       "      <td>TIME releases list of the world's 100 most influential companies</td>\n",
       "      <td>TIME magazine has released its annual list of the world's 100 most influential companies, which features OpenAI, SpaceX, Chess.com, Google DeepMind and Kim Kardashian's SKIMS among others. The National Payments Corporation of India (NPCI) and e-commerce platform Meesho also featured on the list. \"NPCI launched UPI...which accounted for 52% of India's digital transactions in FY22,\" TIME said.</td>\n",
       "      <td>time magazine released annual list world ' 100 influential companies features openai spacex chesscom google deepmind kim kardashian ' skims among others national payments corporation india npci ecommerce platform meesho also featured list npci launched upiwhich accounted 52 india ' digital transactions fy22 time said</td>\n",
       "      <td>time magazin releas annual list world ' 100 influenti compani featur openai spacex chesscom googl deepmind kim kardashian ' skim among other nation payment corpor india npci ecommerc platform meesho also featur list npci launch upiwhich account 52 india ' digit transact fy22 time said</td>\n",
       "      <td>time magazine ha released it annual list of the world ' s 100 most influential company which feature openai spacex chesscom google deepmind and kim kardashian ' s skim among others the national payment corporation of india npci and ecommerce platform meesho also featured on the list npci launched upiwhich accounted for 52 of india ' s digital transaction in fy22 time said</td>\n",
       "    </tr>\n",
       "    <tr>\n",
       "      <th>3</th>\n",
       "      <td>business</td>\n",
       "      <td>Which are the world's top 10 airlines according to passengers?</td>\n",
       "      <td>Singapore Airlines is the world's best airline, according to Skytrax World Airline Awards 2023, an annual poll of flyers released at the Paris Air Show. It is followed by Qatar Airways, All Nippon Airways, Emirates, Japan Airlines, Turkish Airlines, Air France, Cathay Pacific, EVA Air, and Korean Air. Vistara, ranked 16th, is the only Indian airline in the top 20.</td>\n",
       "      <td>singapore airlines world ' best airline according skytrax world airline awards 2023 annual poll flyers released paris air show followed qatar airways nippon airways emirates japan airlines turkish airlines air france cathay pacific eva air korean air vistara ranked 16th indian airline top 20</td>\n",
       "      <td>singapor airlin world ' best airlin accord skytrax world airlin award 2023 annual poll flyer releas pari air show follow qatar airway nippon airway emir japan airlin turkish airlin air franc cathay pacif eva air korean air vistara rank 16th indian airlin top 20</td>\n",
       "      <td>singapore airline is the world ' s best airline according to skytrax world airline award 2023 an annual poll of flyer released at the paris air show it is followed by qatar airway all nippon airway emirate japan airline turkish airline air france cathay pacific eva air and korean air vistara ranked 16th is the only indian airline in the top 20</td>\n",
       "    </tr>\n",
       "    <tr>\n",
       "      <th>4</th>\n",
       "      <td>business</td>\n",
       "      <td>Grab lays off over 1,000 employees</td>\n",
       "      <td>Singapore-based ride-hailing and food delivery app Grab has laid off over 1,000 employees. This is Grab's largest round of layoffs since 2020, when it cut 360 jobs in response to COVID-19 pandemic challenges. \"I want to be clear that we're not doing this as a shortcut to profitability,\" Group CEO and Co-Founder Anthony Tan said in an e-mail to employees.</td>\n",
       "      <td>singaporebased ridehailing food delivery app grab laid 1000 employees grab ' largest round layoffs since 2020 cut 360 jobs response covid19 pandemic challenges want clear ' shortcut profitability group ceo cofounder anthony tan said email employees</td>\n",
       "      <td>singaporebas ridehail food deliveri app grab laid 1000 employe grab ' largest round layoff sinc 2020 cut 360 job respons covid19 pandem challeng want clear ' shortcut profit group ceo cofound anthoni tan said email employe</td>\n",
       "      <td>singaporebased ridehailing and food delivery app grab ha laid off over 1000 employee this is grab ' s largest round of layoff since 2020 when it cut 360 job in response to covid19 pandemic challenge i want to be clear that we ' re not doing this a a shortcut to profitability group ceo and cofounder anthony tan said in an email to employee</td>\n",
       "    </tr>\n",
       "    <tr>\n",
       "      <th>...</th>\n",
       "      <td>...</td>\n",
       "      <td>...</td>\n",
       "      <td>...</td>\n",
       "      <td>...</td>\n",
       "      <td>...</td>\n",
       "      <td>...</td>\n",
       "    </tr>\n",
       "    <tr>\n",
       "      <th>95</th>\n",
       "      <td>entertainment</td>\n",
       "      <td>He was wonderful: Harrison Ford on 'Indiana..' co-star Amrish Puri</td>\n",
       "      <td>Actor Harrison Ford remembered late actor Amrish Puri, who had worked in 1984's 'Indiana Jones and the Temple of Doom'. \"He was a wonderful person...very charming man. (He was) nothing like the character that he played...Very sophisticated. I really admired him...enjoyed working with him,\" Ford said about Puri in an interview. The 1984 film featured Puri as the antagonist.</td>\n",
       "      <td>actor harrison ford remembered late actor amrish puri worked 1984 ' ' indiana jones temple doom ' wonderful personvery charming man nothing like character playedvery sophisticated really admired himenjoyed working ford said puri interview 1984 film featured puri antagonist</td>\n",
       "      <td>actor harrison ford rememb late actor amrish puri work 1984 ' ' indiana jone templ doom ' wonder personveri charm man noth like charact playedveri sophist realli admir himenjoy work ford said puri interview 1984 film featur puri antagonist</td>\n",
       "      <td>actor harrison ford remembered late actor amrish puri who had worked in 1984 ' s ' indiana jones and the temple of doom ' he wa a wonderful personvery charming man he wa nothing like the character that he playedvery sophisticated i really admired himenjoyed working with him ford said about puri in an interview the 1984 film featured puri a the antagonist</td>\n",
       "    </tr>\n",
       "    <tr>\n",
       "      <th>96</th>\n",
       "      <td>entertainment</td>\n",
       "      <td>Admire her audacity: Mahesh Bhatt on Pooja entering 'Bigg Boss...'</td>\n",
       "      <td>Filmmaker Mahesh Bhatt reacted to his daughter Pooja Bhatt's participation in 'Bigg Boss OTT 2'. \"Life's greatest adventures begin when we step into the realm of the unknown with courage and curiosity. She has done just that. I admire her audacity,\" Bhatt told ETimes. Pooja, on the show, had opened up about battling alcohol addiction at the age of 44.</td>\n",
       "      <td>filmmaker mahesh bhatt reacted daughter pooja bhatt ' participation ' bigg boss ott 2 ' life ' greatest adventures begin step realm unknown courage curiosity done admire audacity bhatt told etimes pooja show opened battling alcohol addiction age 44</td>\n",
       "      <td>filmmak mahesh bhatt react daughter pooja bhatt ' particip ' bigg boss ott 2 ' life ' greatest adventur begin step realm unknown courag curios done admir audac bhatt told etim pooja show open battl alcohol addict age 44</td>\n",
       "      <td>filmmaker mahesh bhatt reacted to his daughter pooja bhatt ' s participation in ' bigg bos ott 2 ' life ' s greatest adventure begin when we step into the realm of the unknown with courage and curiosity she ha done just that i admire her audacity bhatt told etimes pooja on the show had opened up about battling alcohol addiction at the age of 44</td>\n",
       "    </tr>\n",
       "    <tr>\n",
       "      <th>97</th>\n",
       "      <td>entertainment</td>\n",
       "      <td>Kartik made me wait during 'Bhool...', I used to scold him: Kiara</td>\n",
       "      <td>Actress Kiara Advani, while talking about her 'Satyaprem Ki Katha' co-actor Kartik Aaryan, said the actor used to make her wait during the shoot of their 2022 film 'Bhool Bhulaiyaa 2'. \"I used to scold Kartik, would tell him not to come late this time over and make me wait,\" Kiara said. \"We've grown professionally and personally,\" she added.</td>\n",
       "      <td>actress kiara advani talking ' satyaprem ki katha ' coactor kartik aaryan said actor used make wait shoot 2022 film ' bhool bhulaiyaa 2 ' used scold kartik would tell come late time make wait kiara said ' grown professionally personally added</td>\n",
       "      <td>actress kiara advani talk ' satyaprem ki katha ' coactor kartik aaryan said actor use make wait shoot 2022 film ' bhool bhulaiyaa 2 ' use scold kartik would tell come late time make wait kiara said ' grown profession person ad</td>\n",
       "      <td>actress kiara advani while talking about her ' satyaprem ki katha ' coactor kartik aaryan said the actor used to make her wait during the shoot of their 2022 film ' bhool bhulaiyaa 2 ' i used to scold kartik would tell him not to come late this time over and make me wait kiara said we ' ve grown professionally and personally she added</td>\n",
       "    </tr>\n",
       "    <tr>\n",
       "      <th>98</th>\n",
       "      <td>entertainment</td>\n",
       "      <td>It was hard to find 300 transgender people for 'Haddi': Producer</td>\n",
       "      <td>Producer Sanjay Saha said that finding 300 transgender people for Nawazuddin Siddiqui's 'Haddi' was \"very adventurous and hard\". He added that a transwoman named Renuka helped the filmmakers to learn about transgender community. \"She had brought some of her friends from the community to Nawaz so that he could get into the character and deeply understand their life,\" he added.</td>\n",
       "      <td>producer sanjay saha said finding 300 transgender people nawazuddin siddiqui ' ' haddi ' adventurous hard added transwoman named renuka helped filmmakers learn transgender community brought friends community nawaz could get character deeply understand life added</td>\n",
       "      <td>produc sanjay saha said find 300 transgend peopl nawazuddin siddiqui ' ' haddi ' adventur hard ad transwoman name renuka help filmmak learn transgend commun brought friend commun nawaz could get charact deepli understand life ad</td>\n",
       "      <td>producer sanjay saha said that finding 300 transgender people for nawazuddin siddiqui ' s ' haddi ' wa very adventurous and hard he added that a transwoman named renuka helped the filmmaker to learn about transgender community she had brought some of her friend from the community to nawaz so that he could get into the character and deeply understand their life he added</td>\n",
       "    </tr>\n",
       "    <tr>\n",
       "      <th>99</th>\n",
       "      <td>entertainment</td>\n",
       "      <td>Asked Alia 'What is it that H'wood has', she said money: Mahesh</td>\n",
       "      <td>Filmmaker Mahesh Bhatt said he once asked Alia Bhatt that what does Hollywood has that Indian cinema doesn't. \"Her straight reply was 'Money'. She said it with great humility. She also said that they've a way of doing things...they're very professional,\" he recalled. Commenting on Alia's Hollywood debut with 'Heart of Stone', Mahesh said, \"My heart soars with pride.\"</td>\n",
       "      <td>filmmaker mahesh bhatt said asked alia bhatt hollywood indian cinema ' straight reply ' money ' said great humility also said ' way thingsthey ' professional recalled commenting alia ' hollywood debut ' heart stone ' mahesh said heart soars pride</td>\n",
       "      <td>filmmak mahesh bhatt said ask alia bhatt hollywood indian cinema ' straight repli ' money ' said great humil also said ' way thingsthey ' profession recal comment alia ' hollywood debut ' heart stone ' mahesh said heart soar pride</td>\n",
       "      <td>filmmaker mahesh bhatt said he once asked alia bhatt that what doe hollywood ha that indian cinema doesn ' t her straight reply wa ' money ' she said it with great humility she also said that they ' ve a way of doing thingsthey ' re very professional he recalled commenting on alia ' s hollywood debut with ' heart of stone ' mahesh said my heart soar with pride</td>\n",
       "    </tr>\n",
       "  </tbody>\n",
       "</table>\n",
       "<p>100 rows × 6 columns</p>\n",
       "</div>"
      ],
      "text/plain": [
       "         category  \\\n",
       "0        business   \n",
       "1        business   \n",
       "2        business   \n",
       "3        business   \n",
       "4        business   \n",
       "..            ...   \n",
       "95  entertainment   \n",
       "96  entertainment   \n",
       "97  entertainment   \n",
       "98  entertainment   \n",
       "99  entertainment   \n",
       "\n",
       "                                                                   title  \\\n",
       "0                               Sensex, Nifty end at fresh closing highs   \n",
       "1   Amazon tricked millions of customers into enrolling in Prime: US FTC   \n",
       "2       TIME releases list of the world's 100 most influential companies   \n",
       "3         Which are the world's top 10 airlines according to passengers?   \n",
       "4                                     Grab lays off over 1,000 employees   \n",
       "..                                                                   ...   \n",
       "95    He was wonderful: Harrison Ford on 'Indiana..' co-star Amrish Puri   \n",
       "96    Admire her audacity: Mahesh Bhatt on Pooja entering 'Bigg Boss...'   \n",
       "97     Kartik made me wait during 'Bhool...', I used to scold him: Kiara   \n",
       "98      It was hard to find 300 transgender people for 'Haddi': Producer   \n",
       "99       Asked Alia 'What is it that H'wood has', she said money: Mahesh   \n",
       "\n",
       "                                                                                                                                                                                                                                                                                                                                                                                                         original  \\\n",
       "0                                                                                Benchmark indices Sensex and Nifty ended at record closing highs on Wednesday. Sensex ended 195 points higher at 63,523 while the Nifty ended at 18,856.85, up 40 points. The gains were led by stocks like HDFC, Reliance Industries and TCS. During the intraday trade, Sensex rose to its fresh record high level of 63,588.    \n",
       "1   US Federal Trade Commission (FTC) has sued Amazon, accusing it of tricking millions of consumers into signing up for its Prime subscription without their consent. \"Amazon used manipulative, coercive or deceptive user-interface designs known as 'dark patterns' to trick consumers into enrolling in automatically-renewing Prime subscriptions,\" US FTC said. Prime members in the US pay $139 per year.   \n",
       "2      TIME magazine has released its annual list of the world's 100 most influential companies, which features OpenAI, SpaceX, Chess.com, Google DeepMind and Kim Kardashian's SKIMS among others. The National Payments Corporation of India (NPCI) and e-commerce platform Meesho also featured on the list. \"NPCI launched UPI...which accounted for 52% of India's digital transactions in FY22,\" TIME said.   \n",
       "3                                  Singapore Airlines is the world's best airline, according to Skytrax World Airline Awards 2023, an annual poll of flyers released at the Paris Air Show. It is followed by Qatar Airways, All Nippon Airways, Emirates, Japan Airlines, Turkish Airlines, Air France, Cathay Pacific, EVA Air, and Korean Air. Vistara, ranked 16th, is the only Indian airline in the top 20.   \n",
       "4                                            Singapore-based ride-hailing and food delivery app Grab has laid off over 1,000 employees. This is Grab's largest round of layoffs since 2020, when it cut 360 jobs in response to COVID-19 pandemic challenges. \"I want to be clear that we're not doing this as a shortcut to profitability,\" Group CEO and Co-Founder Anthony Tan said in an e-mail to employees.   \n",
       "..                                                                                                                                                                                                                                                                                                                                                                                                            ...   \n",
       "95                        Actor Harrison Ford remembered late actor Amrish Puri, who had worked in 1984's 'Indiana Jones and the Temple of Doom'. \"He was a wonderful person...very charming man. (He was) nothing like the character that he played...Very sophisticated. I really admired him...enjoyed working with him,\" Ford said about Puri in an interview. The 1984 film featured Puri as the antagonist.   \n",
       "96                                             Filmmaker Mahesh Bhatt reacted to his daughter Pooja Bhatt's participation in 'Bigg Boss OTT 2'. \"Life's greatest adventures begin when we step into the realm of the unknown with courage and curiosity. She has done just that. I admire her audacity,\" Bhatt told ETimes. Pooja, on the show, had opened up about battling alcohol addiction at the age of 44.    \n",
       "97                                                        Actress Kiara Advani, while talking about her 'Satyaprem Ki Katha' co-actor Kartik Aaryan, said the actor used to make her wait during the shoot of their 2022 film 'Bhool Bhulaiyaa 2'. \"I used to scold Kartik, would tell him not to come late this time over and make me wait,\" Kiara said. \"We've grown professionally and personally,\" she added.   \n",
       "98                    Producer Sanjay Saha said that finding 300 transgender people for Nawazuddin Siddiqui's 'Haddi' was \"very adventurous and hard\". He added that a transwoman named Renuka helped the filmmakers to learn about transgender community. \"She had brought some of her friends from the community to Nawaz so that he could get into the character and deeply understand their life,\" he added.    \n",
       "99                              Filmmaker Mahesh Bhatt said he once asked Alia Bhatt that what does Hollywood has that Indian cinema doesn't. \"Her straight reply was 'Money'. She said it with great humility. She also said that they've a way of doing things...they're very professional,\" he recalled. Commenting on Alia's Hollywood debut with 'Heart of Stone', Mahesh said, \"My heart soars with pride.\"   \n",
       "\n",
       "                                                                                                                                                                                                                                                                                                                                      clean  \\\n",
       "0                                                                                        benchmark indices sensex nifty ended record closing highs wednesday sensex ended 195 points higher 63523 nifty ended 1885685 40 points gains led stocks like hdfc reliance industries tcs intraday trade sensex rose fresh record high level 63588   \n",
       "1   us federal trade commission ftc sued amazon accusing tricking millions consumers signing prime subscription without consent amazon used manipulative coercive deceptive userinterface designs known ' dark patterns ' trick consumers enrolling automaticallyrenewing prime subscriptions us ftc said prime members us pay 139 per year   \n",
       "2            time magazine released annual list world ' 100 influential companies features openai spacex chesscom google deepmind kim kardashian ' skims among others national payments corporation india npci ecommerce platform meesho also featured list npci launched upiwhich accounted 52 india ' digital transactions fy22 time said   \n",
       "3                                      singapore airlines world ' best airline according skytrax world airline awards 2023 annual poll flyers released paris air show followed qatar airways nippon airways emirates japan airlines turkish airlines air france cathay pacific eva air korean air vistara ranked 16th indian airline top 20   \n",
       "4                                                                                  singaporebased ridehailing food delivery app grab laid 1000 employees grab ' largest round layoffs since 2020 cut 360 jobs response covid19 pandemic challenges want clear ' shortcut profitability group ceo cofounder anthony tan said email employees   \n",
       "..                                                                                                                                                                                                                                                                                                                                      ...   \n",
       "95                                                        actor harrison ford remembered late actor amrish puri worked 1984 ' ' indiana jones temple doom ' wonderful personvery charming man nothing like character playedvery sophisticated really admired himenjoyed working ford said puri interview 1984 film featured puri antagonist   \n",
       "96                                                                                 filmmaker mahesh bhatt reacted daughter pooja bhatt ' participation ' bigg boss ott 2 ' life ' greatest adventures begin step realm unknown courage curiosity done admire audacity bhatt told etimes pooja show opened battling alcohol addiction age 44   \n",
       "97                                                                                       actress kiara advani talking ' satyaprem ki katha ' coactor kartik aaryan said actor used make wait shoot 2022 film ' bhool bhulaiyaa 2 ' used scold kartik would tell come late time make wait kiara said ' grown professionally personally added   \n",
       "98                                                                   producer sanjay saha said finding 300 transgender people nawazuddin siddiqui ' ' haddi ' adventurous hard added transwoman named renuka helped filmmakers learn transgender community brought friends community nawaz could get character deeply understand life added   \n",
       "99                                                                                   filmmaker mahesh bhatt said asked alia bhatt hollywood indian cinema ' straight reply ' money ' said great humility also said ' way thingsthey ' professional recalled commenting alia ' hollywood debut ' heart stone ' mahesh said heart soars pride   \n",
       "\n",
       "                                                                                                                                                                                                                                                                                          stemmed  \\\n",
       "0                                                                 benchmark indic sensex nifti end record close high wednesday sensex end 195 point higher 63523 nifti end 1885685 40 point gain led stock like hdfc relianc industri tc intraday trade sensex rose fresh record high level 63588   \n",
       "1            us feder trade commiss ftc su amazon accus trick million consum sign prime subscript without consent amazon use manipul coerciv decept userinterfac design known ' dark pattern ' trick consum enrol automaticallyrenew prime subscript us ftc said prime member us pay 139 per year   \n",
       "2   time magazin releas annual list world ' 100 influenti compani featur openai spacex chesscom googl deepmind kim kardashian ' skim among other nation payment corpor india npci ecommerc platform meesho also featur list npci launch upiwhich account 52 india ' digit transact fy22 time said   \n",
       "3                           singapor airlin world ' best airlin accord skytrax world airlin award 2023 annual poll flyer releas pari air show follow qatar airway nippon airway emir japan airlin turkish airlin air franc cathay pacif eva air korean air vistara rank 16th indian airlin top 20   \n",
       "4                                                                  singaporebas ridehail food deliveri app grab laid 1000 employe grab ' largest round layoff sinc 2020 cut 360 job respons covid19 pandem challeng want clear ' shortcut profit group ceo cofound anthoni tan said email employe   \n",
       "..                                                                                                                                                                                                                                                                                            ...   \n",
       "95                                                actor harrison ford rememb late actor amrish puri work 1984 ' ' indiana jone templ doom ' wonder personveri charm man noth like charact playedveri sophist realli admir himenjoy work ford said puri interview 1984 film featur puri antagonist   \n",
       "96                                                                    filmmak mahesh bhatt react daughter pooja bhatt ' particip ' bigg boss ott 2 ' life ' greatest adventur begin step realm unknown courag curios done admir audac bhatt told etim pooja show open battl alcohol addict age 44   \n",
       "97                                                             actress kiara advani talk ' satyaprem ki katha ' coactor kartik aaryan said actor use make wait shoot 2022 film ' bhool bhulaiyaa 2 ' use scold kartik would tell come late time make wait kiara said ' grown profession person ad   \n",
       "98                                                           produc sanjay saha said find 300 transgend peopl nawazuddin siddiqui ' ' haddi ' adventur hard ad transwoman name renuka help filmmak learn transgend commun brought friend commun nawaz could get charact deepli understand life ad   \n",
       "99                                                         filmmak mahesh bhatt said ask alia bhatt hollywood indian cinema ' straight repli ' money ' said great humil also said ' way thingsthey ' profession recal comment alia ' hollywood debut ' heart stone ' mahesh said heart soar pride   \n",
       "\n",
       "                                                                                                                                                                                                                                                                                                                                                                                lemmatized  \n",
       "0                                                                                benchmark index sensex and nifty ended at record closing high on wednesday sensex ended 195 point higher at 63523 while the nifty ended at 1885685 up 40 point the gain were led by stock like hdfc reliance industry and tc during the intraday trade sensex rose to it fresh record high level of 63588  \n",
       "1    u federal trade commission ftc ha sued amazon accusing it of tricking million of consumer into signing up for it prime subscription without their consent amazon used manipulative coercive or deceptive userinterface design known a ' dark pattern ' to trick consumer into enrolling in automaticallyrenewing prime subscription u ftc said prime member in the u pay 139 per year  \n",
       "2   time magazine ha released it annual list of the world ' s 100 most influential company which feature openai spacex chesscom google deepmind and kim kardashian ' s skim among others the national payment corporation of india npci and ecommerce platform meesho also featured on the list npci launched upiwhich accounted for 52 of india ' s digital transaction in fy22 time said  \n",
       "3                                singapore airline is the world ' s best airline according to skytrax world airline award 2023 an annual poll of flyer released at the paris air show it is followed by qatar airway all nippon airway emirate japan airline turkish airline air france cathay pacific eva air and korean air vistara ranked 16th is the only indian airline in the top 20  \n",
       "4                                     singaporebased ridehailing and food delivery app grab ha laid off over 1000 employee this is grab ' s largest round of layoff since 2020 when it cut 360 job in response to covid19 pandemic challenge i want to be clear that we ' re not doing this a a shortcut to profitability group ceo and cofounder anthony tan said in an email to employee  \n",
       "..                                                                                                                                                                                                                                                                                                                                                                                     ...  \n",
       "95                    actor harrison ford remembered late actor amrish puri who had worked in 1984 ' s ' indiana jones and the temple of doom ' he wa a wonderful personvery charming man he wa nothing like the character that he playedvery sophisticated i really admired himenjoyed working with him ford said about puri in an interview the 1984 film featured puri a the antagonist  \n",
       "96                              filmmaker mahesh bhatt reacted to his daughter pooja bhatt ' s participation in ' bigg bos ott 2 ' life ' s greatest adventure begin when we step into the realm of the unknown with courage and curiosity she ha done just that i admire her audacity bhatt told etimes pooja on the show had opened up about battling alcohol addiction at the age of 44  \n",
       "97                                        actress kiara advani while talking about her ' satyaprem ki katha ' coactor kartik aaryan said the actor used to make her wait during the shoot of their 2022 film ' bhool bhulaiyaa 2 ' i used to scold kartik would tell him not to come late this time over and make me wait kiara said we ' ve grown professionally and personally she added  \n",
       "98     producer sanjay saha said that finding 300 transgender people for nawazuddin siddiqui ' s ' haddi ' wa very adventurous and hard he added that a transwoman named renuka helped the filmmaker to learn about transgender community she had brought some of her friend from the community to nawaz so that he could get into the character and deeply understand their life he added  \n",
       "99              filmmaker mahesh bhatt said he once asked alia bhatt that what doe hollywood ha that indian cinema doesn ' t her straight reply wa ' money ' she said it with great humility she also said that they ' ve a way of doing thingsthey ' re very professional he recalled commenting on alia ' s hollywood debut with ' heart of stone ' mahesh said my heart soar with pride  \n",
       "\n",
       "[100 rows x 6 columns]"
      ]
     },
     "execution_count": 44,
     "metadata": {},
     "output_type": "execute_result"
    }
   ],
   "source": [
    "news_df['stemmed'] = news_df.clean.apply(stem)\n",
    "news_df"
   ]
  },
  {
   "cell_type": "code",
   "execution_count": 45,
   "id": "c0064cba-77d2-488b-a6dc-1c77f392ed4d",
   "metadata": {},
   "outputs": [
    {
     "data": {
      "text/plain": [
       "'benchmark index sensex nifty ended record closing high wednesday sensex ended 195 point higher 63523 nifty ended 1885685 40 point gain led stock like hdfc reliance industry tc intraday trade sensex rose fresh record high level 63588'"
      ]
     },
     "execution_count": 45,
     "metadata": {},
     "output_type": "execute_result"
    }
   ],
   "source": [
    "lemmatize(news_df.clean[0])"
   ]
  },
  {
   "cell_type": "code",
   "execution_count": 46,
   "id": "017bdeac-0dec-4fde-a38d-30713758ceba",
   "metadata": {
    "scrolled": true,
    "tags": []
   },
   "outputs": [
    {
     "data": {
      "text/html": [
       "<div>\n",
       "<style scoped>\n",
       "    .dataframe tbody tr th:only-of-type {\n",
       "        vertical-align: middle;\n",
       "    }\n",
       "\n",
       "    .dataframe tbody tr th {\n",
       "        vertical-align: top;\n",
       "    }\n",
       "\n",
       "    .dataframe thead th {\n",
       "        text-align: right;\n",
       "    }\n",
       "</style>\n",
       "<table border=\"1\" class=\"dataframe\">\n",
       "  <thead>\n",
       "    <tr style=\"text-align: right;\">\n",
       "      <th></th>\n",
       "      <th>category</th>\n",
       "      <th>title</th>\n",
       "      <th>original</th>\n",
       "      <th>clean</th>\n",
       "      <th>stemmed</th>\n",
       "      <th>lemmatized</th>\n",
       "    </tr>\n",
       "  </thead>\n",
       "  <tbody>\n",
       "    <tr>\n",
       "      <th>0</th>\n",
       "      <td>business</td>\n",
       "      <td>Sensex, Nifty end at fresh closing highs</td>\n",
       "      <td>Benchmark indices Sensex and Nifty ended at record closing highs on Wednesday. Sensex ended 195 points higher at 63,523 while the Nifty ended at 18,856.85, up 40 points. The gains were led by stocks like HDFC, Reliance Industries and TCS. During the intraday trade, Sensex rose to its fresh record high level of 63,588.</td>\n",
       "      <td>benchmark indices sensex nifty ended record closing highs wednesday sensex ended 195 points higher 63523 nifty ended 1885685 40 points gains led stocks like hdfc reliance industries tcs intraday trade sensex rose fresh record high level 63588</td>\n",
       "      <td>benchmark indic sensex nifti end record close high wednesday sensex end 195 point higher 63523 nifti end 1885685 40 point gain led stock like hdfc relianc industri tc intraday trade sensex rose fresh record high level 63588</td>\n",
       "      <td>benchmark index sensex nifty ended record closing high wednesday sensex ended 195 point higher 63523 nifty ended 1885685 40 point gain led stock like hdfc reliance industry tc intraday trade sensex rose fresh record high level 63588</td>\n",
       "    </tr>\n",
       "    <tr>\n",
       "      <th>1</th>\n",
       "      <td>business</td>\n",
       "      <td>Amazon tricked millions of customers into enrolling in Prime: US FTC</td>\n",
       "      <td>US Federal Trade Commission (FTC) has sued Amazon, accusing it of tricking millions of consumers into signing up for its Prime subscription without their consent. \"Amazon used manipulative, coercive or deceptive user-interface designs known as 'dark patterns' to trick consumers into enrolling in automatically-renewing Prime subscriptions,\" US FTC said. Prime members in the US pay $139 per year.</td>\n",
       "      <td>us federal trade commission ftc sued amazon accusing tricking millions consumers signing prime subscription without consent amazon used manipulative coercive deceptive userinterface designs known ' dark patterns ' trick consumers enrolling automaticallyrenewing prime subscriptions us ftc said prime members us pay 139 per year</td>\n",
       "      <td>us feder trade commiss ftc su amazon accus trick million consum sign prime subscript without consent amazon use manipul coerciv decept userinterfac design known ' dark pattern ' trick consum enrol automaticallyrenew prime subscript us ftc said prime member us pay 139 per year</td>\n",
       "      <td>u federal trade commission ftc sued amazon accusing tricking million consumer signing prime subscription without consent amazon used manipulative coercive deceptive userinterface design known ' dark pattern ' trick consumer enrolling automaticallyrenewing prime subscription u ftc said prime member u pay 139 per year</td>\n",
       "    </tr>\n",
       "    <tr>\n",
       "      <th>2</th>\n",
       "      <td>business</td>\n",
       "      <td>TIME releases list of the world's 100 most influential companies</td>\n",
       "      <td>TIME magazine has released its annual list of the world's 100 most influential companies, which features OpenAI, SpaceX, Chess.com, Google DeepMind and Kim Kardashian's SKIMS among others. The National Payments Corporation of India (NPCI) and e-commerce platform Meesho also featured on the list. \"NPCI launched UPI...which accounted for 52% of India's digital transactions in FY22,\" TIME said.</td>\n",
       "      <td>time magazine released annual list world ' 100 influential companies features openai spacex chesscom google deepmind kim kardashian ' skims among others national payments corporation india npci ecommerce platform meesho also featured list npci launched upiwhich accounted 52 india ' digital transactions fy22 time said</td>\n",
       "      <td>time magazin releas annual list world ' 100 influenti compani featur openai spacex chesscom googl deepmind kim kardashian ' skim among other nation payment corpor india npci ecommerc platform meesho also featur list npci launch upiwhich account 52 india ' digit transact fy22 time said</td>\n",
       "      <td>time magazine released annual list world ' 100 influential company feature openai spacex chesscom google deepmind kim kardashian ' skim among others national payment corporation india npci ecommerce platform meesho also featured list npci launched upiwhich accounted 52 india ' digital transaction fy22 time said</td>\n",
       "    </tr>\n",
       "    <tr>\n",
       "      <th>3</th>\n",
       "      <td>business</td>\n",
       "      <td>Which are the world's top 10 airlines according to passengers?</td>\n",
       "      <td>Singapore Airlines is the world's best airline, according to Skytrax World Airline Awards 2023, an annual poll of flyers released at the Paris Air Show. It is followed by Qatar Airways, All Nippon Airways, Emirates, Japan Airlines, Turkish Airlines, Air France, Cathay Pacific, EVA Air, and Korean Air. Vistara, ranked 16th, is the only Indian airline in the top 20.</td>\n",
       "      <td>singapore airlines world ' best airline according skytrax world airline awards 2023 annual poll flyers released paris air show followed qatar airways nippon airways emirates japan airlines turkish airlines air france cathay pacific eva air korean air vistara ranked 16th indian airline top 20</td>\n",
       "      <td>singapor airlin world ' best airlin accord skytrax world airlin award 2023 annual poll flyer releas pari air show follow qatar airway nippon airway emir japan airlin turkish airlin air franc cathay pacif eva air korean air vistara rank 16th indian airlin top 20</td>\n",
       "      <td>singapore airline world ' best airline according skytrax world airline award 2023 annual poll flyer released paris air show followed qatar airway nippon airway emirate japan airline turkish airline air france cathay pacific eva air korean air vistara ranked 16th indian airline top 20</td>\n",
       "    </tr>\n",
       "    <tr>\n",
       "      <th>4</th>\n",
       "      <td>business</td>\n",
       "      <td>Grab lays off over 1,000 employees</td>\n",
       "      <td>Singapore-based ride-hailing and food delivery app Grab has laid off over 1,000 employees. This is Grab's largest round of layoffs since 2020, when it cut 360 jobs in response to COVID-19 pandemic challenges. \"I want to be clear that we're not doing this as a shortcut to profitability,\" Group CEO and Co-Founder Anthony Tan said in an e-mail to employees.</td>\n",
       "      <td>singaporebased ridehailing food delivery app grab laid 1000 employees grab ' largest round layoffs since 2020 cut 360 jobs response covid19 pandemic challenges want clear ' shortcut profitability group ceo cofounder anthony tan said email employees</td>\n",
       "      <td>singaporebas ridehail food deliveri app grab laid 1000 employe grab ' largest round layoff sinc 2020 cut 360 job respons covid19 pandem challeng want clear ' shortcut profit group ceo cofound anthoni tan said email employe</td>\n",
       "      <td>singaporebased ridehailing food delivery app grab laid 1000 employee grab ' largest round layoff since 2020 cut 360 job response covid19 pandemic challenge want clear ' shortcut profitability group ceo cofounder anthony tan said email employee</td>\n",
       "    </tr>\n",
       "    <tr>\n",
       "      <th>...</th>\n",
       "      <td>...</td>\n",
       "      <td>...</td>\n",
       "      <td>...</td>\n",
       "      <td>...</td>\n",
       "      <td>...</td>\n",
       "      <td>...</td>\n",
       "    </tr>\n",
       "    <tr>\n",
       "      <th>95</th>\n",
       "      <td>entertainment</td>\n",
       "      <td>He was wonderful: Harrison Ford on 'Indiana..' co-star Amrish Puri</td>\n",
       "      <td>Actor Harrison Ford remembered late actor Amrish Puri, who had worked in 1984's 'Indiana Jones and the Temple of Doom'. \"He was a wonderful person...very charming man. (He was) nothing like the character that he played...Very sophisticated. I really admired him...enjoyed working with him,\" Ford said about Puri in an interview. The 1984 film featured Puri as the antagonist.</td>\n",
       "      <td>actor harrison ford remembered late actor amrish puri worked 1984 ' ' indiana jones temple doom ' wonderful personvery charming man nothing like character playedvery sophisticated really admired himenjoyed working ford said puri interview 1984 film featured puri antagonist</td>\n",
       "      <td>actor harrison ford rememb late actor amrish puri work 1984 ' ' indiana jone templ doom ' wonder personveri charm man noth like charact playedveri sophist realli admir himenjoy work ford said puri interview 1984 film featur puri antagonist</td>\n",
       "      <td>actor harrison ford remembered late actor amrish puri worked 1984 ' ' indiana jones temple doom ' wonderful personvery charming man nothing like character playedvery sophisticated really admired himenjoyed working ford said puri interview 1984 film featured puri antagonist</td>\n",
       "    </tr>\n",
       "    <tr>\n",
       "      <th>96</th>\n",
       "      <td>entertainment</td>\n",
       "      <td>Admire her audacity: Mahesh Bhatt on Pooja entering 'Bigg Boss...'</td>\n",
       "      <td>Filmmaker Mahesh Bhatt reacted to his daughter Pooja Bhatt's participation in 'Bigg Boss OTT 2'. \"Life's greatest adventures begin when we step into the realm of the unknown with courage and curiosity. She has done just that. I admire her audacity,\" Bhatt told ETimes. Pooja, on the show, had opened up about battling alcohol addiction at the age of 44.</td>\n",
       "      <td>filmmaker mahesh bhatt reacted daughter pooja bhatt ' participation ' bigg boss ott 2 ' life ' greatest adventures begin step realm unknown courage curiosity done admire audacity bhatt told etimes pooja show opened battling alcohol addiction age 44</td>\n",
       "      <td>filmmak mahesh bhatt react daughter pooja bhatt ' particip ' bigg boss ott 2 ' life ' greatest adventur begin step realm unknown courag curios done admir audac bhatt told etim pooja show open battl alcohol addict age 44</td>\n",
       "      <td>filmmaker mahesh bhatt reacted daughter pooja bhatt ' participation ' bigg bos ott 2 ' life ' greatest adventure begin step realm unknown courage curiosity done admire audacity bhatt told etimes pooja show opened battling alcohol addiction age 44</td>\n",
       "    </tr>\n",
       "    <tr>\n",
       "      <th>97</th>\n",
       "      <td>entertainment</td>\n",
       "      <td>Kartik made me wait during 'Bhool...', I used to scold him: Kiara</td>\n",
       "      <td>Actress Kiara Advani, while talking about her 'Satyaprem Ki Katha' co-actor Kartik Aaryan, said the actor used to make her wait during the shoot of their 2022 film 'Bhool Bhulaiyaa 2'. \"I used to scold Kartik, would tell him not to come late this time over and make me wait,\" Kiara said. \"We've grown professionally and personally,\" she added.</td>\n",
       "      <td>actress kiara advani talking ' satyaprem ki katha ' coactor kartik aaryan said actor used make wait shoot 2022 film ' bhool bhulaiyaa 2 ' used scold kartik would tell come late time make wait kiara said ' grown professionally personally added</td>\n",
       "      <td>actress kiara advani talk ' satyaprem ki katha ' coactor kartik aaryan said actor use make wait shoot 2022 film ' bhool bhulaiyaa 2 ' use scold kartik would tell come late time make wait kiara said ' grown profession person ad</td>\n",
       "      <td>actress kiara advani talking ' satyaprem ki katha ' coactor kartik aaryan said actor used make wait shoot 2022 film ' bhool bhulaiyaa 2 ' used scold kartik would tell come late time make wait kiara said ' grown professionally personally added</td>\n",
       "    </tr>\n",
       "    <tr>\n",
       "      <th>98</th>\n",
       "      <td>entertainment</td>\n",
       "      <td>It was hard to find 300 transgender people for 'Haddi': Producer</td>\n",
       "      <td>Producer Sanjay Saha said that finding 300 transgender people for Nawazuddin Siddiqui's 'Haddi' was \"very adventurous and hard\". He added that a transwoman named Renuka helped the filmmakers to learn about transgender community. \"She had brought some of her friends from the community to Nawaz so that he could get into the character and deeply understand their life,\" he added.</td>\n",
       "      <td>producer sanjay saha said finding 300 transgender people nawazuddin siddiqui ' ' haddi ' adventurous hard added transwoman named renuka helped filmmakers learn transgender community brought friends community nawaz could get character deeply understand life added</td>\n",
       "      <td>produc sanjay saha said find 300 transgend peopl nawazuddin siddiqui ' ' haddi ' adventur hard ad transwoman name renuka help filmmak learn transgend commun brought friend commun nawaz could get charact deepli understand life ad</td>\n",
       "      <td>producer sanjay saha said finding 300 transgender people nawazuddin siddiqui ' ' haddi ' adventurous hard added transwoman named renuka helped filmmaker learn transgender community brought friend community nawaz could get character deeply understand life added</td>\n",
       "    </tr>\n",
       "    <tr>\n",
       "      <th>99</th>\n",
       "      <td>entertainment</td>\n",
       "      <td>Asked Alia 'What is it that H'wood has', she said money: Mahesh</td>\n",
       "      <td>Filmmaker Mahesh Bhatt said he once asked Alia Bhatt that what does Hollywood has that Indian cinema doesn't. \"Her straight reply was 'Money'. She said it with great humility. She also said that they've a way of doing things...they're very professional,\" he recalled. Commenting on Alia's Hollywood debut with 'Heart of Stone', Mahesh said, \"My heart soars with pride.\"</td>\n",
       "      <td>filmmaker mahesh bhatt said asked alia bhatt hollywood indian cinema ' straight reply ' money ' said great humility also said ' way thingsthey ' professional recalled commenting alia ' hollywood debut ' heart stone ' mahesh said heart soars pride</td>\n",
       "      <td>filmmak mahesh bhatt said ask alia bhatt hollywood indian cinema ' straight repli ' money ' said great humil also said ' way thingsthey ' profession recal comment alia ' hollywood debut ' heart stone ' mahesh said heart soar pride</td>\n",
       "      <td>filmmaker mahesh bhatt said asked alia bhatt hollywood indian cinema ' straight reply ' money ' said great humility also said ' way thingsthey ' professional recalled commenting alia ' hollywood debut ' heart stone ' mahesh said heart soar pride</td>\n",
       "    </tr>\n",
       "  </tbody>\n",
       "</table>\n",
       "<p>100 rows × 6 columns</p>\n",
       "</div>"
      ],
      "text/plain": [
       "         category  \\\n",
       "0        business   \n",
       "1        business   \n",
       "2        business   \n",
       "3        business   \n",
       "4        business   \n",
       "..            ...   \n",
       "95  entertainment   \n",
       "96  entertainment   \n",
       "97  entertainment   \n",
       "98  entertainment   \n",
       "99  entertainment   \n",
       "\n",
       "                                                                   title  \\\n",
       "0                               Sensex, Nifty end at fresh closing highs   \n",
       "1   Amazon tricked millions of customers into enrolling in Prime: US FTC   \n",
       "2       TIME releases list of the world's 100 most influential companies   \n",
       "3         Which are the world's top 10 airlines according to passengers?   \n",
       "4                                     Grab lays off over 1,000 employees   \n",
       "..                                                                   ...   \n",
       "95    He was wonderful: Harrison Ford on 'Indiana..' co-star Amrish Puri   \n",
       "96    Admire her audacity: Mahesh Bhatt on Pooja entering 'Bigg Boss...'   \n",
       "97     Kartik made me wait during 'Bhool...', I used to scold him: Kiara   \n",
       "98      It was hard to find 300 transgender people for 'Haddi': Producer   \n",
       "99       Asked Alia 'What is it that H'wood has', she said money: Mahesh   \n",
       "\n",
       "                                                                                                                                                                                                                                                                                                                                                                                                         original  \\\n",
       "0                                                                                Benchmark indices Sensex and Nifty ended at record closing highs on Wednesday. Sensex ended 195 points higher at 63,523 while the Nifty ended at 18,856.85, up 40 points. The gains were led by stocks like HDFC, Reliance Industries and TCS. During the intraday trade, Sensex rose to its fresh record high level of 63,588.    \n",
       "1   US Federal Trade Commission (FTC) has sued Amazon, accusing it of tricking millions of consumers into signing up for its Prime subscription without their consent. \"Amazon used manipulative, coercive or deceptive user-interface designs known as 'dark patterns' to trick consumers into enrolling in automatically-renewing Prime subscriptions,\" US FTC said. Prime members in the US pay $139 per year.   \n",
       "2      TIME magazine has released its annual list of the world's 100 most influential companies, which features OpenAI, SpaceX, Chess.com, Google DeepMind and Kim Kardashian's SKIMS among others. The National Payments Corporation of India (NPCI) and e-commerce platform Meesho also featured on the list. \"NPCI launched UPI...which accounted for 52% of India's digital transactions in FY22,\" TIME said.   \n",
       "3                                  Singapore Airlines is the world's best airline, according to Skytrax World Airline Awards 2023, an annual poll of flyers released at the Paris Air Show. It is followed by Qatar Airways, All Nippon Airways, Emirates, Japan Airlines, Turkish Airlines, Air France, Cathay Pacific, EVA Air, and Korean Air. Vistara, ranked 16th, is the only Indian airline in the top 20.   \n",
       "4                                            Singapore-based ride-hailing and food delivery app Grab has laid off over 1,000 employees. This is Grab's largest round of layoffs since 2020, when it cut 360 jobs in response to COVID-19 pandemic challenges. \"I want to be clear that we're not doing this as a shortcut to profitability,\" Group CEO and Co-Founder Anthony Tan said in an e-mail to employees.   \n",
       "..                                                                                                                                                                                                                                                                                                                                                                                                            ...   \n",
       "95                        Actor Harrison Ford remembered late actor Amrish Puri, who had worked in 1984's 'Indiana Jones and the Temple of Doom'. \"He was a wonderful person...very charming man. (He was) nothing like the character that he played...Very sophisticated. I really admired him...enjoyed working with him,\" Ford said about Puri in an interview. The 1984 film featured Puri as the antagonist.   \n",
       "96                                             Filmmaker Mahesh Bhatt reacted to his daughter Pooja Bhatt's participation in 'Bigg Boss OTT 2'. \"Life's greatest adventures begin when we step into the realm of the unknown with courage and curiosity. She has done just that. I admire her audacity,\" Bhatt told ETimes. Pooja, on the show, had opened up about battling alcohol addiction at the age of 44.    \n",
       "97                                                        Actress Kiara Advani, while talking about her 'Satyaprem Ki Katha' co-actor Kartik Aaryan, said the actor used to make her wait during the shoot of their 2022 film 'Bhool Bhulaiyaa 2'. \"I used to scold Kartik, would tell him not to come late this time over and make me wait,\" Kiara said. \"We've grown professionally and personally,\" she added.   \n",
       "98                    Producer Sanjay Saha said that finding 300 transgender people for Nawazuddin Siddiqui's 'Haddi' was \"very adventurous and hard\". He added that a transwoman named Renuka helped the filmmakers to learn about transgender community. \"She had brought some of her friends from the community to Nawaz so that he could get into the character and deeply understand their life,\" he added.    \n",
       "99                              Filmmaker Mahesh Bhatt said he once asked Alia Bhatt that what does Hollywood has that Indian cinema doesn't. \"Her straight reply was 'Money'. She said it with great humility. She also said that they've a way of doing things...they're very professional,\" he recalled. Commenting on Alia's Hollywood debut with 'Heart of Stone', Mahesh said, \"My heart soars with pride.\"   \n",
       "\n",
       "                                                                                                                                                                                                                                                                                                                                      clean  \\\n",
       "0                                                                                        benchmark indices sensex nifty ended record closing highs wednesday sensex ended 195 points higher 63523 nifty ended 1885685 40 points gains led stocks like hdfc reliance industries tcs intraday trade sensex rose fresh record high level 63588   \n",
       "1   us federal trade commission ftc sued amazon accusing tricking millions consumers signing prime subscription without consent amazon used manipulative coercive deceptive userinterface designs known ' dark patterns ' trick consumers enrolling automaticallyrenewing prime subscriptions us ftc said prime members us pay 139 per year   \n",
       "2            time magazine released annual list world ' 100 influential companies features openai spacex chesscom google deepmind kim kardashian ' skims among others national payments corporation india npci ecommerce platform meesho also featured list npci launched upiwhich accounted 52 india ' digital transactions fy22 time said   \n",
       "3                                      singapore airlines world ' best airline according skytrax world airline awards 2023 annual poll flyers released paris air show followed qatar airways nippon airways emirates japan airlines turkish airlines air france cathay pacific eva air korean air vistara ranked 16th indian airline top 20   \n",
       "4                                                                                  singaporebased ridehailing food delivery app grab laid 1000 employees grab ' largest round layoffs since 2020 cut 360 jobs response covid19 pandemic challenges want clear ' shortcut profitability group ceo cofounder anthony tan said email employees   \n",
       "..                                                                                                                                                                                                                                                                                                                                      ...   \n",
       "95                                                        actor harrison ford remembered late actor amrish puri worked 1984 ' ' indiana jones temple doom ' wonderful personvery charming man nothing like character playedvery sophisticated really admired himenjoyed working ford said puri interview 1984 film featured puri antagonist   \n",
       "96                                                                                 filmmaker mahesh bhatt reacted daughter pooja bhatt ' participation ' bigg boss ott 2 ' life ' greatest adventures begin step realm unknown courage curiosity done admire audacity bhatt told etimes pooja show opened battling alcohol addiction age 44   \n",
       "97                                                                                       actress kiara advani talking ' satyaprem ki katha ' coactor kartik aaryan said actor used make wait shoot 2022 film ' bhool bhulaiyaa 2 ' used scold kartik would tell come late time make wait kiara said ' grown professionally personally added   \n",
       "98                                                                   producer sanjay saha said finding 300 transgender people nawazuddin siddiqui ' ' haddi ' adventurous hard added transwoman named renuka helped filmmakers learn transgender community brought friends community nawaz could get character deeply understand life added   \n",
       "99                                                                                   filmmaker mahesh bhatt said asked alia bhatt hollywood indian cinema ' straight reply ' money ' said great humility also said ' way thingsthey ' professional recalled commenting alia ' hollywood debut ' heart stone ' mahesh said heart soars pride   \n",
       "\n",
       "                                                                                                                                                                                                                                                                                          stemmed  \\\n",
       "0                                                                 benchmark indic sensex nifti end record close high wednesday sensex end 195 point higher 63523 nifti end 1885685 40 point gain led stock like hdfc relianc industri tc intraday trade sensex rose fresh record high level 63588   \n",
       "1            us feder trade commiss ftc su amazon accus trick million consum sign prime subscript without consent amazon use manipul coerciv decept userinterfac design known ' dark pattern ' trick consum enrol automaticallyrenew prime subscript us ftc said prime member us pay 139 per year   \n",
       "2   time magazin releas annual list world ' 100 influenti compani featur openai spacex chesscom googl deepmind kim kardashian ' skim among other nation payment corpor india npci ecommerc platform meesho also featur list npci launch upiwhich account 52 india ' digit transact fy22 time said   \n",
       "3                           singapor airlin world ' best airlin accord skytrax world airlin award 2023 annual poll flyer releas pari air show follow qatar airway nippon airway emir japan airlin turkish airlin air franc cathay pacif eva air korean air vistara rank 16th indian airlin top 20   \n",
       "4                                                                  singaporebas ridehail food deliveri app grab laid 1000 employe grab ' largest round layoff sinc 2020 cut 360 job respons covid19 pandem challeng want clear ' shortcut profit group ceo cofound anthoni tan said email employe   \n",
       "..                                                                                                                                                                                                                                                                                            ...   \n",
       "95                                                actor harrison ford rememb late actor amrish puri work 1984 ' ' indiana jone templ doom ' wonder personveri charm man noth like charact playedveri sophist realli admir himenjoy work ford said puri interview 1984 film featur puri antagonist   \n",
       "96                                                                    filmmak mahesh bhatt react daughter pooja bhatt ' particip ' bigg boss ott 2 ' life ' greatest adventur begin step realm unknown courag curios done admir audac bhatt told etim pooja show open battl alcohol addict age 44   \n",
       "97                                                             actress kiara advani talk ' satyaprem ki katha ' coactor kartik aaryan said actor use make wait shoot 2022 film ' bhool bhulaiyaa 2 ' use scold kartik would tell come late time make wait kiara said ' grown profession person ad   \n",
       "98                                                           produc sanjay saha said find 300 transgend peopl nawazuddin siddiqui ' ' haddi ' adventur hard ad transwoman name renuka help filmmak learn transgend commun brought friend commun nawaz could get charact deepli understand life ad   \n",
       "99                                                         filmmak mahesh bhatt said ask alia bhatt hollywood indian cinema ' straight repli ' money ' said great humil also said ' way thingsthey ' profession recal comment alia ' hollywood debut ' heart stone ' mahesh said heart soar pride   \n",
       "\n",
       "                                                                                                                                                                                                                                                                                                                       lemmatized  \n",
       "0                                                                                        benchmark index sensex nifty ended record closing high wednesday sensex ended 195 point higher 63523 nifty ended 1885685 40 point gain led stock like hdfc reliance industry tc intraday trade sensex rose fresh record high level 63588  \n",
       "1   u federal trade commission ftc sued amazon accusing tricking million consumer signing prime subscription without consent amazon used manipulative coercive deceptive userinterface design known ' dark pattern ' trick consumer enrolling automaticallyrenewing prime subscription u ftc said prime member u pay 139 per year  \n",
       "2        time magazine released annual list world ' 100 influential company feature openai spacex chesscom google deepmind kim kardashian ' skim among others national payment corporation india npci ecommerce platform meesho also featured list npci launched upiwhich accounted 52 india ' digital transaction fy22 time said  \n",
       "3                                    singapore airline world ' best airline according skytrax world airline award 2023 annual poll flyer released paris air show followed qatar airway nippon airway emirate japan airline turkish airline air france cathay pacific eva air korean air vistara ranked 16th indian airline top 20  \n",
       "4                                                                             singaporebased ridehailing food delivery app grab laid 1000 employee grab ' largest round layoff since 2020 cut 360 job response covid19 pandemic challenge want clear ' shortcut profitability group ceo cofounder anthony tan said email employee  \n",
       "..                                                                                                                                                                                                                                                                                                                            ...  \n",
       "95                                              actor harrison ford remembered late actor amrish puri worked 1984 ' ' indiana jones temple doom ' wonderful personvery charming man nothing like character playedvery sophisticated really admired himenjoyed working ford said puri interview 1984 film featured puri antagonist  \n",
       "96                                                                         filmmaker mahesh bhatt reacted daughter pooja bhatt ' participation ' bigg bos ott 2 ' life ' greatest adventure begin step realm unknown courage curiosity done admire audacity bhatt told etimes pooja show opened battling alcohol addiction age 44  \n",
       "97                                                                             actress kiara advani talking ' satyaprem ki katha ' coactor kartik aaryan said actor used make wait shoot 2022 film ' bhool bhulaiyaa 2 ' used scold kartik would tell come late time make wait kiara said ' grown professionally personally added  \n",
       "98                                                           producer sanjay saha said finding 300 transgender people nawazuddin siddiqui ' ' haddi ' adventurous hard added transwoman named renuka helped filmmaker learn transgender community brought friend community nawaz could get character deeply understand life added  \n",
       "99                                                                          filmmaker mahesh bhatt said asked alia bhatt hollywood indian cinema ' straight reply ' money ' said great humility also said ' way thingsthey ' professional recalled commenting alia ' hollywood debut ' heart stone ' mahesh said heart soar pride  \n",
       "\n",
       "[100 rows x 6 columns]"
      ]
     },
     "execution_count": 46,
     "metadata": {},
     "output_type": "execute_result"
    }
   ],
   "source": [
    "news_df['lemmatized'] = news_df.clean.apply(lemmatize)\n",
    "news_df"
   ]
  },
  {
   "cell_type": "markdown",
   "id": "e03798e5-be6e-4cd2-87f2-895fa6efd0c2",
   "metadata": {},
   "source": [
    "## 9. Ask yourself:\n",
    " \n",
    ". If your corpus is 493KB, would you prefer to use stemmed or lemmatized text?    \n",
    ". If your corpus is 25MB, would you prefer to use stemmed or lemmatized text?    \n",
    ". If your corpus is 200TB of text and you're charged by the megabyte for your hosted computational resources, would you prefer to use stemmed or lemmatized text?    "
   ]
  },
  {
   "cell_type": "markdown",
   "id": "2fada7b7-f5ea-4a45-9763-bab0b723e764",
   "metadata": {},
   "source": [
    ". If your corpus is 493KB, would you prefer to use stemmed or lemmatized text?\n",
    "- I would prefer to use lemmatized\n",
    "\n",
    ". If your corpus is 25MB, would you prefer to use stemmed or lemmatized text?\n",
    "- I would prefer to use lemmatized\n",
    "\n",
    ". If your corpus is 200TB of text and you're charged by the megabyte for your hosted computational resources, would you prefer to use stemmed or lemmatized text?\n",
    "- In this case i will use stemmed as it is faster and the gain is not much bigger."
   ]
  },
  {
   "cell_type": "markdown",
   "id": "2aa0f11a-e9c2-44ab-9fbe-026ad288df0a",
   "metadata": {},
   "source": []
  },
  {
   "cell_type": "code",
   "execution_count": null,
   "id": "f3de6a04-6f35-4c04-89f3-515537915255",
   "metadata": {},
   "outputs": [],
   "source": [
    "def basic_clean(article):\n",
    "    \"\"\"\n",
    "    \n",
    "    \"\"\"\n",
    "    # lowercase text\n",
    "    article = article.lower()\n",
    "    \n",
    "    # remove any accented characters and non-ASCII characters\n",
    "    # normalizing\n",
    "    # getting ride of anything not in ascii\n",
    "    # turning back to a string\n",
    "    article = unicodedata.normalize('NFKD', article).encode('ascii','ignore').decode('utf-8')\n",
    "    \n",
    "    # remove special characters\n",
    "    #use re.sub to remove special characters\n",
    "    article = re.sub(r'[^a-z0-9\\'\\s]', '', article)\n",
    "    \n",
    "    # tokenization is the process of breaking something down into smaller, discrete units.\n",
    "    # these units are called tokens.\n",
    "    #create the tokenizer\n",
    "    tokenize = nltk.tokenize.ToktokTokenizer()\n",
    "    article = tokenize.tokenize(article, return_str=True)\n",
    "    \n",
    "    # Lemmatize\n",
    "    # - **changes** words to their \"root\"\n",
    "    # - it can conjugate to the base word \n",
    "    # - example: \"mouse\", \"mice\" --> \"mouse\"\n",
    "    # - slower than stemming\n",
    "    #create the lemmatizer\n",
    "    wnl = nltk.stem.WordNetLemmatizer()\n",
    "    \n",
    "    #use lemmatize - apply stem to each word in our string\n",
    "    # wnl.lemmatize(article)\n",
    "    lemma = [wnl.lemmatize(word) for word in article.split()]\n",
    "    \n",
    "    #join words back together\n",
    "    article_lemma = ' '.join(lemma)\n",
    "    \n",
    "    #save stopwords\n",
    "    stopwords_ls = stopwords.words('english')\n",
    "    \n",
    "    # sort words inside stopwords\n",
    "    stopwords_ls.sort()\n",
    "    \n",
    "    # #set a list to remove some stopwords IF THEY ARE NEEDED!\n",
    "    # extra = ['all', 'about','after']\n",
    "    # # remove extra words\n",
    "    # set(stopwords_ls) - set(extra)\n",
    "\n",
    "    #add to stopword list\n",
    "    stopwords_ls.append(\"'\")\n",
    "    \n",
    "    # #remove from stopword list\n",
    "    # stopwords_ls.remove('o')\n",
    "    \n",
    "    #split words in lemmatized article\n",
    "    words = article_lemma.split()\n",
    "        \n",
    "    #remove stopwords from list of words\n",
    "    filtered = [word for word in words if word not in stopwords_ls]\n",
    "    \n",
    "    #join words back together\n",
    "    parsed_article = ' '.join(filtered)\n",
    "    \n",
    "    return parsed_article"
   ]
  }
 ],
 "metadata": {
  "kernelspec": {
   "display_name": "Python 3 (ipykernel)",
   "language": "python",
   "name": "python3"
  },
  "language_info": {
   "codemirror_mode": {
    "name": "ipython",
    "version": 3
   },
   "file_extension": ".py",
   "mimetype": "text/x-python",
   "name": "python",
   "nbconvert_exporter": "python",
   "pygments_lexer": "ipython3",
   "version": "3.9.13"
  }
 },
 "nbformat": 4,
 "nbformat_minor": 5
}
